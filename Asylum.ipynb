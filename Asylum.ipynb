{
 "cells": [
  {
   "cell_type": "markdown",
   "metadata": {},
   "source": [
    "# Welcome to the Asylum"
   ]
  },
  {
   "cell_type": "code",
   "execution_count": 1,
   "metadata": {
    "execution": {
     "iopub.execute_input": "2021-06-26T10:38:56.759474Z",
     "iopub.status.busy": "2021-06-26T10:38:56.758924Z",
     "iopub.status.idle": "2021-06-26T10:38:56.768355Z",
     "shell.execute_reply": "2021-06-26T10:38:56.767248Z",
     "shell.execute_reply.started": "2021-06-26T10:38:56.759377Z"
    }
   },
   "outputs": [
    {
     "name": "stdout",
     "output_type": "stream",
     "text": [
      "/media/sf_Dropbox/code/justuse/src/use\n"
     ]
    }
   ],
   "source": [
    "%cd src/use"
   ]
  },
  {
   "cell_type": "code",
   "execution_count": 2,
   "metadata": {
    "execution": {
     "iopub.execute_input": "2021-06-26T10:38:57.145518Z",
     "iopub.status.busy": "2021-06-26T10:38:57.144694Z",
     "iopub.status.idle": "2021-06-26T10:38:58.017661Z",
     "shell.execute_reply": "2021-06-26T10:38:58.016811Z",
     "shell.execute_reply.started": "2021-06-26T10:38:57.145381Z"
    }
   },
   "outputs": [],
   "source": [
    "import use"
   ]
  },
  {
   "cell_type": "code",
   "execution_count": 3,
   "metadata": {
    "execution": {
     "iopub.execute_input": "2021-06-26T10:38:58.019907Z",
     "iopub.status.busy": "2021-06-26T10:38:58.019423Z",
     "iopub.status.idle": "2021-06-26T10:38:58.029180Z",
     "shell.execute_reply": "2021-06-26T10:38:58.027523Z",
     "shell.execute_reply.started": "2021-06-26T10:38:58.019860Z"
    }
   },
   "outputs": [
    {
     "name": "stdout",
     "output_type": "stream",
     "text": [
      "/media/sf_Dropbox/code/justuse/tests/.tests\n"
     ]
    }
   ],
   "source": [
    "%cd ../../tests/.tests"
   ]
  },
  {
   "cell_type": "code",
   "execution_count": 4,
   "metadata": {
    "execution": {
     "iopub.execute_input": "2021-06-26T10:38:59.265454Z",
     "iopub.status.busy": "2021-06-26T10:38:59.264793Z",
     "iopub.status.idle": "2021-06-26T10:38:59.421451Z",
     "shell.execute_reply": "2021-06-26T10:38:59.420457Z",
     "shell.execute_reply.started": "2021-06-26T10:38:59.265405Z"
    }
   },
   "outputs": [
    {
     "name": "stderr",
     "output_type": "stream",
     "text": [
      "/media/sf_Dropbox/code/justuse/src/use/use.py:631: AmbiguityWarning: Attempting to load the package 'sys', if you rather want to use the local module: use(use.Path('sys.py'))\n",
      "  warn(f\"Attempting to load the package '{name}', if you rather want to use the local module: use(use.Path('{name}.py'))\",\n"
     ]
    }
   ],
   "source": [
    "mod = use(\"sys\")"
   ]
  },
  {
   "cell_type": "code",
   "execution_count": 11,
   "metadata": {
    "execution": {
     "iopub.execute_input": "2021-06-26T09:00:27.543893Z",
     "iopub.status.busy": "2021-06-26T09:00:27.543475Z",
     "iopub.status.idle": "2021-06-26T09:00:27.565270Z",
     "shell.execute_reply": "2021-06-26T09:00:27.564197Z",
     "shell.execute_reply.started": "2021-06-26T09:00:27.543858Z"
    }
   },
   "outputs": [
    {
     "data": {
      "text/plain": [
       "True"
      ]
     },
     "execution_count": 11,
     "metadata": {},
     "output_type": "execute_result"
    }
   ],
   "source": [
    "a is b"
   ]
  },
  {
   "cell_type": "code",
   "execution_count": 4,
   "metadata": {
    "execution": {
     "iopub.execute_input": "2021-06-26T08:31:36.164913Z",
     "iopub.status.busy": "2021-06-26T08:31:36.164183Z",
     "iopub.status.idle": "2021-06-26T08:31:36.183727Z",
     "shell.execute_reply": "2021-06-26T08:31:36.182977Z",
     "shell.execute_reply.started": "2021-06-26T08:31:36.164864Z"
    }
   },
   "outputs": [
    {
     "data": {
      "text/plain": [
       "{}"
      ]
     },
     "execution_count": 4,
     "metadata": {},
     "output_type": "execute_result"
    }
   ],
   "source": [
    "use._using"
   ]
  },
  {
   "cell_type": "code",
   "execution_count": 13,
   "metadata": {
    "execution": {
     "iopub.execute_input": "2021-06-26T08:27:53.828461Z",
     "iopub.status.busy": "2021-06-26T08:27:53.828020Z",
     "iopub.status.idle": "2021-06-26T08:27:54.160603Z",
     "shell.execute_reply": "2021-06-26T08:27:54.159811Z",
     "shell.execute_reply.started": "2021-06-26T08:27:53.828425Z"
    }
   },
   "outputs": [
    {
     "data": {
      "text/plain": [
       "<module 'numpy' from '/home/thorsten/anaconda3/lib/python3.8/site-packages/numpy/__init__.py'>"
      ]
     },
     "execution_count": 13,
     "metadata": {},
     "output_type": "execute_result"
    }
   ],
   "source": [
    "use(\"numpy\")"
   ]
  },
  {
   "cell_type": "code",
   "execution_count": 15,
   "metadata": {
    "execution": {
     "iopub.execute_input": "2021-06-26T08:28:05.812378Z",
     "iopub.status.busy": "2021-06-26T08:28:05.811769Z",
     "iopub.status.idle": "2021-06-26T08:28:05.825477Z",
     "shell.execute_reply": "2021-06-26T08:28:05.823937Z",
     "shell.execute_reply.started": "2021-06-26T08:28:05.812341Z"
    }
   },
   "outputs": [
    {
     "ename": "AttributeError",
     "evalue": "'Use' object has no attribute '__using'",
     "output_type": "error",
     "traceback": [
      "\u001b[0;31m---------------------------------------------------------------------------\u001b[0m",
      "\u001b[0;31mAttributeError\u001b[0m                            Traceback (most recent call last)",
      "\u001b[0;32m<ipython-input-15-662bcb90b99a>\u001b[0m in \u001b[0;36m<module>\u001b[0;34m\u001b[0m\n\u001b[0;32m----> 1\u001b[0;31m \u001b[0muse\u001b[0m\u001b[0;34m.\u001b[0m\u001b[0m__using\u001b[0m\u001b[0;34m\u001b[0m\u001b[0;34m\u001b[0m\u001b[0m\n\u001b[0m",
      "\u001b[0;31mAttributeError\u001b[0m: 'Use' object has no attribute '__using'"
     ]
    }
   ],
   "source": [
    "use._using"
   ]
  },
  {
   "cell_type": "code",
   "execution_count": 3,
   "metadata": {
    "execution": {
     "iopub.execute_input": "2021-06-25T20:12:03.525110Z",
     "iopub.status.busy": "2021-06-25T20:12:03.524460Z",
     "iopub.status.idle": "2021-06-25T20:12:03.536196Z",
     "shell.execute_reply": "2021-06-25T20:12:03.535108Z",
     "shell.execute_reply.started": "2021-06-25T20:12:03.525058Z"
    }
   },
   "outputs": [
    {
     "name": "stdout",
     "output_type": "stream",
     "text": [
      "/media/sf_Dropbox/code/justuse/tests\n"
     ]
    }
   ],
   "source": [
    "%cd ../../tests"
   ]
  },
  {
   "cell_type": "code",
   "execution_count": 5,
   "metadata": {
    "execution": {
     "iopub.execute_input": "2021-06-25T20:12:41.037844Z",
     "iopub.status.busy": "2021-06-25T20:12:41.037411Z",
     "iopub.status.idle": "2021-06-25T20:12:41.050277Z",
     "shell.execute_reply": "2021-06-25T20:12:41.048797Z",
     "shell.execute_reply.started": "2021-06-25T20:12:41.037806Z"
    }
   },
   "outputs": [],
   "source": [
    "import importlib"
   ]
  },
  {
   "cell_type": "code",
   "execution_count": 7,
   "metadata": {
    "execution": {
     "iopub.execute_input": "2021-06-25T20:12:56.817719Z",
     "iopub.status.busy": "2021-06-25T20:12:56.817262Z",
     "iopub.status.idle": "2021-06-25T20:12:56.823161Z",
     "shell.execute_reply": "2021-06-25T20:12:56.821743Z",
     "shell.execute_reply.started": "2021-06-25T20:12:56.817680Z"
    }
   },
   "outputs": [],
   "source": [
    "spec = importlib.util.find_spec(\"math\")"
   ]
  },
  {
   "cell_type": "code",
   "execution_count": 9,
   "metadata": {
    "execution": {
     "iopub.execute_input": "2021-06-25T20:13:46.735562Z",
     "iopub.status.busy": "2021-06-25T20:13:46.734932Z",
     "iopub.status.idle": "2021-06-25T20:13:46.741480Z",
     "shell.execute_reply": "2021-06-25T20:13:46.740511Z",
     "shell.execute_reply.started": "2021-06-25T20:13:46.735523Z"
    }
   },
   "outputs": [
    {
     "data": {
      "text/plain": [
       "ModuleSpec(name='math', loader=<_frozen_importlib_external.ExtensionFileLoader object at 0x7f966b96a0d0>, origin='/home/thorsten/anaconda3/lib/python3.8/lib-dynload/math.cpython-38-x86_64-linux-gnu.so')"
      ]
     },
     "execution_count": 9,
     "metadata": {},
     "output_type": "execute_result"
    }
   ],
   "source": [
    "spec"
   ]
  },
  {
   "cell_type": "code",
   "execution_count": 8,
   "metadata": {
    "execution": {
     "iopub.execute_input": "2021-06-25T20:12:59.262531Z",
     "iopub.status.busy": "2021-06-25T20:12:59.261883Z",
     "iopub.status.idle": "2021-06-25T20:12:59.269847Z",
     "shell.execute_reply": "2021-06-25T20:12:59.268655Z",
     "shell.execute_reply.started": "2021-06-25T20:12:59.262481Z"
    }
   },
   "outputs": [
    {
     "data": {
      "text/plain": [
       "'/home/thorsten/anaconda3/lib/python3.8/lib-dynload/math.cpython-38-x86_64-linux-gnu.so'"
      ]
     },
     "execution_count": 8,
     "metadata": {},
     "output_type": "execute_result"
    }
   ],
   "source": [
    "spec.origin"
   ]
  },
  {
   "cell_type": "code",
   "execution_count": 4,
   "metadata": {
    "execution": {
     "iopub.execute_input": "2021-06-25T20:12:09.209931Z",
     "iopub.status.busy": "2021-06-25T20:12:09.209266Z",
     "iopub.status.idle": "2021-06-25T20:12:09.419806Z",
     "shell.execute_reply": "2021-06-25T20:12:09.417380Z",
     "shell.execute_reply.started": "2021-06-25T20:12:09.209878Z"
    }
   },
   "outputs": [
    {
     "name": "stdout",
     "output_type": "stream",
     "text": [
      "23 0\n"
     ]
    },
    {
     "name": "stderr",
     "output_type": "stream",
     "text": [
      "/media/sf_Dropbox/code/justuse/src/use/use.py:621: AmbiguityWarning: Attempting to load the package 'math', if you rather want to use the local module: use(use.Path('math.py'))\n",
      "  warn(f\"Attempting to load the package '{name}', if you rather want to use the local module: use(use.Path('{name}.py'))\",\n"
     ]
    },
    {
     "ename": "ImportError",
     "evalue": "Traceback (most recent call last):\n  File \"/media/sf_Dropbox/code/justuse/src/use/use.py\", line 645, in _use_str\n    mod = build_mod(name=name,\n  File \"/media/sf_Dropbox/code/justuse/src/use/use.py\", line 156, in build_mod\n    code_text = codecs.decode(code)\n  File \"/home/thorsten/anaconda3/lib/python3.8/encodings/utf_8.py\", line 16, in decode\n    return codecs.utf_8_decode(input, errors, True)\nUnicodeDecodeError: 'utf-8' codec can't decode byte 0x80 in position 40: invalid start byte\n",
     "output_type": "error",
     "traceback": [
      "\u001b[0;31m---------------------------------------------------------------------------\u001b[0m",
      "\u001b[0;31mImportError\u001b[0m                               Traceback (most recent call last)",
      "\u001b[0;32m<ipython-input-4-af6ff7581f86>\u001b[0m in \u001b[0;36m<module>\u001b[0;34m\u001b[0m\n\u001b[0;32m----> 1\u001b[0;31m \u001b[0muse\u001b[0m\u001b[0;34m(\u001b[0m\u001b[0;34m\"math\"\u001b[0m\u001b[0;34m)\u001b[0m\u001b[0;34m\u001b[0m\u001b[0;34m\u001b[0m\u001b[0m\n\u001b[0m",
      "\u001b[0;32m/media/sf_Dropbox/code/justuse/src/use/use.py\u001b[0m in \u001b[0;36mwrapper\u001b[0;34m(*args, **kw)\u001b[0m\n\u001b[1;32m    140\u001b[0m     \u001b[0mdispatcher\u001b[0m \u001b[0;34m=\u001b[0m \u001b[0msingledispatch\u001b[0m\u001b[0;34m(\u001b[0m\u001b[0mfunc\u001b[0m\u001b[0;34m)\u001b[0m\u001b[0;34m\u001b[0m\u001b[0;34m\u001b[0m\u001b[0m\n\u001b[1;32m    141\u001b[0m     \u001b[0;32mdef\u001b[0m \u001b[0mwrapper\u001b[0m\u001b[0;34m(\u001b[0m\u001b[0;34m*\u001b[0m\u001b[0margs\u001b[0m\u001b[0;34m,\u001b[0m \u001b[0;34m**\u001b[0m\u001b[0mkw\u001b[0m\u001b[0;34m)\u001b[0m\u001b[0;34m:\u001b[0m\u001b[0;34m\u001b[0m\u001b[0;34m\u001b[0m\u001b[0m\n\u001b[0;32m--> 142\u001b[0;31m         \u001b[0;32mreturn\u001b[0m \u001b[0mdispatcher\u001b[0m\u001b[0;34m.\u001b[0m\u001b[0mdispatch\u001b[0m\u001b[0;34m(\u001b[0m\u001b[0margs\u001b[0m\u001b[0;34m[\u001b[0m\u001b[0;36m1\u001b[0m\u001b[0;34m]\u001b[0m\u001b[0;34m.\u001b[0m\u001b[0m__class__\u001b[0m\u001b[0;34m)\u001b[0m\u001b[0;34m(\u001b[0m\u001b[0;34m*\u001b[0m\u001b[0margs\u001b[0m\u001b[0;34m,\u001b[0m \u001b[0;34m**\u001b[0m\u001b[0mkw\u001b[0m\u001b[0;34m)\u001b[0m\u001b[0;34m\u001b[0m\u001b[0;34m\u001b[0m\u001b[0m\n\u001b[0m\u001b[1;32m    143\u001b[0m     \u001b[0mwrapper\u001b[0m\u001b[0;34m.\u001b[0m\u001b[0mregister\u001b[0m \u001b[0;34m=\u001b[0m \u001b[0mdispatcher\u001b[0m\u001b[0;34m.\u001b[0m\u001b[0mregister\u001b[0m\u001b[0;34m\u001b[0m\u001b[0;34m\u001b[0m\u001b[0m\n\u001b[1;32m    144\u001b[0m     \u001b[0mupdate_wrapper\u001b[0m\u001b[0;34m(\u001b[0m\u001b[0mwrapper\u001b[0m\u001b[0;34m,\u001b[0m \u001b[0mfunc\u001b[0m\u001b[0;34m)\u001b[0m\u001b[0;34m\u001b[0m\u001b[0;34m\u001b[0m\u001b[0m\n",
      "\u001b[0;32m/media/sf_Dropbox/code/justuse/src/use/use.py\u001b[0m in \u001b[0;36m_use_str\u001b[0;34m(self, name, version, initial_globals, auto_install, hash_algo, hash_value, default, aspectize, path_to_url, import_to_use)\u001b[0m\n\u001b[1;32m    651\u001b[0m                     \u001b[0mexc\u001b[0m \u001b[0;34m=\u001b[0m \u001b[0mtraceback\u001b[0m\u001b[0;34m.\u001b[0m\u001b[0mformat_exc\u001b[0m\u001b[0;34m(\u001b[0m\u001b[0;34m)\u001b[0m\u001b[0;34m\u001b[0m\u001b[0;34m\u001b[0m\u001b[0m\n\u001b[1;32m    652\u001b[0m                 \u001b[0;32mif\u001b[0m \u001b[0mexc\u001b[0m\u001b[0;34m:\u001b[0m\u001b[0;34m\u001b[0m\u001b[0;34m\u001b[0m\u001b[0m\n\u001b[0;32m--> 653\u001b[0;31m                     \u001b[0;32mreturn\u001b[0m \u001b[0mfail_or_default\u001b[0m\u001b[0;34m(\u001b[0m\u001b[0mdefault\u001b[0m\u001b[0;34m,\u001b[0m \u001b[0mImportError\u001b[0m\u001b[0;34m,\u001b[0m \u001b[0mexc\u001b[0m\u001b[0;34m)\u001b[0m\u001b[0;34m\u001b[0m\u001b[0;34m\u001b[0m\u001b[0m\n\u001b[0m\u001b[1;32m    654\u001b[0m \u001b[0;34m\u001b[0m\u001b[0m\n\u001b[1;32m    655\u001b[0m                 \u001b[0;31m# we only enforce versions with auto-install\u001b[0m\u001b[0;34m\u001b[0m\u001b[0;34m\u001b[0m\u001b[0;34m\u001b[0m\u001b[0m\n",
      "\u001b[0;32m/media/sf_Dropbox/code/justuse/src/use/use.py\u001b[0m in \u001b[0;36mfail_or_default\u001b[0;34m(default, exception, msg)\u001b[0m\n\u001b[1;32m    178\u001b[0m         \u001b[0;32mreturn\u001b[0m \u001b[0mdefault\u001b[0m\u001b[0;34m\u001b[0m\u001b[0;34m\u001b[0m\u001b[0m\n\u001b[1;32m    179\u001b[0m     \u001b[0;32melse\u001b[0m\u001b[0;34m:\u001b[0m\u001b[0;34m\u001b[0m\u001b[0;34m\u001b[0m\u001b[0m\n\u001b[0;32m--> 180\u001b[0;31m         \u001b[0;32mraise\u001b[0m \u001b[0mexception\u001b[0m\u001b[0;34m(\u001b[0m\u001b[0mmsg\u001b[0m\u001b[0;34m)\u001b[0m\u001b[0;34m\u001b[0m\u001b[0;34m\u001b[0m\u001b[0m\n\u001b[0m\u001b[1;32m    181\u001b[0m \u001b[0;34m\u001b[0m\u001b[0m\n\u001b[1;32m    182\u001b[0m \u001b[0;32mdef\u001b[0m \u001b[0mapply_aspect\u001b[0m\u001b[0;34m(\u001b[0m\u001b[0mmod\u001b[0m\u001b[0;34m:\u001b[0m\u001b[0mModuleType\u001b[0m\u001b[0;34m,\u001b[0m \u001b[0mcheck\u001b[0m\u001b[0;34m:\u001b[0m\u001b[0mcallable\u001b[0m\u001b[0;34m,\u001b[0m \u001b[0mpattern\u001b[0m\u001b[0;34m:\u001b[0m\u001b[0mstr\u001b[0m\u001b[0;34m,\u001b[0m \u001b[0mdecorator\u001b[0m\u001b[0;34m:\u001b[0m\u001b[0mcallable\u001b[0m\u001b[0;34m)\u001b[0m\u001b[0;34m:\u001b[0m\u001b[0;34m\u001b[0m\u001b[0;34m\u001b[0m\u001b[0m\n",
      "\u001b[0;31mImportError\u001b[0m: Traceback (most recent call last):\n  File \"/media/sf_Dropbox/code/justuse/src/use/use.py\", line 645, in _use_str\n    mod = build_mod(name=name,\n  File \"/media/sf_Dropbox/code/justuse/src/use/use.py\", line 156, in build_mod\n    code_text = codecs.decode(code)\n  File \"/home/thorsten/anaconda3/lib/python3.8/encodings/utf_8.py\", line 16, in decode\n    return codecs.utf_8_decode(input, errors, True)\nUnicodeDecodeError: 'utf-8' codec can't decode byte 0x80 in position 40: invalid start byte\n"
     ]
    }
   ],
   "source": [
    "use(\"math\")"
   ]
  },
  {
   "cell_type": "code",
   "execution_count": 3,
   "metadata": {
    "execution": {
     "iopub.execute_input": "2021-06-25T19:03:50.844007Z",
     "iopub.status.busy": "2021-06-25T19:03:50.843583Z",
     "iopub.status.idle": "2021-06-25T19:03:51.011847Z",
     "shell.execute_reply": "2021-06-25T19:03:51.010352Z",
     "shell.execute_reply.started": "2021-06-25T19:03:50.843943Z"
    }
   },
   "outputs": [
    {
     "ename": "ImportError",
     "evalue": "Traceback (most recent call last):\n  File \"/media/sf_Dropbox/code/justuse/src/use/use.py\", line 637, in _use_str\n    mod = spec.loader.exec_module(spec.loader.create_module(spec))\n  File \"<frozen importlib._bootstrap_external>\", line 779, in exec_module\nAttributeError: 'NoneType' object has no attribute '__name__'\n",
     "output_type": "error",
     "traceback": [
      "\u001b[0;31m---------------------------------------------------------------------------\u001b[0m",
      "\u001b[0;31mImportError\u001b[0m                               Traceback (most recent call last)",
      "\u001b[0;32m<ipython-input-3-bacdc12b150d>\u001b[0m in \u001b[0;36m<module>\u001b[0;34m\u001b[0m\n\u001b[0;32m----> 1\u001b[0;31m \u001b[0muse\u001b[0m\u001b[0;34m(\u001b[0m\u001b[0;34m\"numpy\"\u001b[0m\u001b[0;34m)\u001b[0m\u001b[0;34m\u001b[0m\u001b[0;34m\u001b[0m\u001b[0m\n\u001b[0m",
      "\u001b[0;32m/media/sf_Dropbox/code/justuse/src/use/use.py\u001b[0m in \u001b[0;36mwrapper\u001b[0;34m(*args, **kw)\u001b[0m\n\u001b[1;32m    160\u001b[0m     \u001b[0mdispatcher\u001b[0m \u001b[0;34m=\u001b[0m \u001b[0msingledispatch\u001b[0m\u001b[0;34m(\u001b[0m\u001b[0mfunc\u001b[0m\u001b[0;34m)\u001b[0m\u001b[0;34m\u001b[0m\u001b[0;34m\u001b[0m\u001b[0m\n\u001b[1;32m    161\u001b[0m     \u001b[0;32mdef\u001b[0m \u001b[0mwrapper\u001b[0m\u001b[0;34m(\u001b[0m\u001b[0;34m*\u001b[0m\u001b[0margs\u001b[0m\u001b[0;34m,\u001b[0m \u001b[0;34m**\u001b[0m\u001b[0mkw\u001b[0m\u001b[0;34m)\u001b[0m\u001b[0;34m:\u001b[0m\u001b[0;34m\u001b[0m\u001b[0;34m\u001b[0m\u001b[0m\n\u001b[0;32m--> 162\u001b[0;31m         \u001b[0;32mreturn\u001b[0m \u001b[0mdispatcher\u001b[0m\u001b[0;34m.\u001b[0m\u001b[0mdispatch\u001b[0m\u001b[0;34m(\u001b[0m\u001b[0margs\u001b[0m\u001b[0;34m[\u001b[0m\u001b[0;36m1\u001b[0m\u001b[0;34m]\u001b[0m\u001b[0;34m.\u001b[0m\u001b[0m__class__\u001b[0m\u001b[0;34m)\u001b[0m\u001b[0;34m(\u001b[0m\u001b[0;34m*\u001b[0m\u001b[0margs\u001b[0m\u001b[0;34m,\u001b[0m \u001b[0;34m**\u001b[0m\u001b[0mkw\u001b[0m\u001b[0;34m)\u001b[0m\u001b[0;34m\u001b[0m\u001b[0;34m\u001b[0m\u001b[0m\n\u001b[0m\u001b[1;32m    163\u001b[0m     \u001b[0mwrapper\u001b[0m\u001b[0;34m.\u001b[0m\u001b[0mregister\u001b[0m \u001b[0;34m=\u001b[0m \u001b[0mdispatcher\u001b[0m\u001b[0;34m.\u001b[0m\u001b[0mregister\u001b[0m\u001b[0;34m\u001b[0m\u001b[0;34m\u001b[0m\u001b[0m\n\u001b[1;32m    164\u001b[0m     \u001b[0mupdate_wrapper\u001b[0m\u001b[0;34m(\u001b[0m\u001b[0mwrapper\u001b[0m\u001b[0;34m,\u001b[0m \u001b[0mfunc\u001b[0m\u001b[0;34m)\u001b[0m\u001b[0;34m\u001b[0m\u001b[0;34m\u001b[0m\u001b[0m\n",
      "\u001b[0;32m/media/sf_Dropbox/code/justuse/src/use/use.py\u001b[0m in \u001b[0;36m_use_str\u001b[0;34m(self, name, version, initial_globals, auto_install, hash_algo, hash_value, default, aspectize, path_to_url, import_to_use)\u001b[0m\n\u001b[1;32m    641\u001b[0m                     \u001b[0mexc\u001b[0m \u001b[0;34m=\u001b[0m \u001b[0mtraceback\u001b[0m\u001b[0;34m.\u001b[0m\u001b[0mformat_exc\u001b[0m\u001b[0;34m(\u001b[0m\u001b[0;34m)\u001b[0m\u001b[0;34m\u001b[0m\u001b[0;34m\u001b[0m\u001b[0m\n\u001b[1;32m    642\u001b[0m                 \u001b[0;32mif\u001b[0m \u001b[0mexc\u001b[0m\u001b[0;34m:\u001b[0m\u001b[0;34m\u001b[0m\u001b[0;34m\u001b[0m\u001b[0m\n\u001b[0;32m--> 643\u001b[0;31m                     \u001b[0;32mreturn\u001b[0m \u001b[0mfail_or_default\u001b[0m\u001b[0;34m(\u001b[0m\u001b[0mdefault\u001b[0m\u001b[0;34m,\u001b[0m \u001b[0mImportError\u001b[0m\u001b[0;34m,\u001b[0m \u001b[0mexc\u001b[0m\u001b[0;34m)\u001b[0m\u001b[0;34m\u001b[0m\u001b[0;34m\u001b[0m\u001b[0m\n\u001b[0m\u001b[1;32m    644\u001b[0m \u001b[0;34m\u001b[0m\u001b[0m\n\u001b[1;32m    645\u001b[0m                 \u001b[0;31m# we only enforce versions with auto-install\u001b[0m\u001b[0;34m\u001b[0m\u001b[0;34m\u001b[0m\u001b[0;34m\u001b[0m\u001b[0m\n",
      "\u001b[0;32m/media/sf_Dropbox/code/justuse/src/use/use.py\u001b[0m in \u001b[0;36mfail_or_default\u001b[0;34m(default, exception, msg)\u001b[0m\n\u001b[1;32m    198\u001b[0m         \u001b[0;32mreturn\u001b[0m \u001b[0mdefault\u001b[0m\u001b[0;34m\u001b[0m\u001b[0;34m\u001b[0m\u001b[0m\n\u001b[1;32m    199\u001b[0m     \u001b[0;32melse\u001b[0m\u001b[0;34m:\u001b[0m\u001b[0;34m\u001b[0m\u001b[0;34m\u001b[0m\u001b[0m\n\u001b[0;32m--> 200\u001b[0;31m         \u001b[0;32mraise\u001b[0m \u001b[0mexception\u001b[0m\u001b[0;34m(\u001b[0m\u001b[0mmsg\u001b[0m\u001b[0;34m)\u001b[0m\u001b[0;34m\u001b[0m\u001b[0;34m\u001b[0m\u001b[0m\n\u001b[0m\u001b[1;32m    201\u001b[0m \u001b[0;34m\u001b[0m\u001b[0m\n\u001b[1;32m    202\u001b[0m \u001b[0;32mdef\u001b[0m \u001b[0mapply_aspect\u001b[0m\u001b[0;34m(\u001b[0m\u001b[0mmod\u001b[0m\u001b[0;34m:\u001b[0m\u001b[0mModuleType\u001b[0m\u001b[0;34m,\u001b[0m \u001b[0mcheck\u001b[0m\u001b[0;34m:\u001b[0m\u001b[0mcallable\u001b[0m\u001b[0;34m,\u001b[0m \u001b[0mpattern\u001b[0m\u001b[0;34m:\u001b[0m\u001b[0mstr\u001b[0m\u001b[0;34m,\u001b[0m \u001b[0mdecorator\u001b[0m\u001b[0;34m:\u001b[0m\u001b[0mcallable\u001b[0m\u001b[0;34m)\u001b[0m\u001b[0;34m:\u001b[0m\u001b[0;34m\u001b[0m\u001b[0;34m\u001b[0m\u001b[0m\n",
      "\u001b[0;31mImportError\u001b[0m: Traceback (most recent call last):\n  File \"/media/sf_Dropbox/code/justuse/src/use/use.py\", line 637, in _use_str\n    mod = spec.loader.exec_module(spec.loader.create_module(spec))\n  File \"<frozen importlib._bootstrap_external>\", line 779, in exec_module\nAttributeError: 'NoneType' object has no attribute '__name__'\n"
     ]
    }
   ],
   "source": [
    "use(\"numpy\")"
   ]
  },
  {
   "cell_type": "code",
   "execution_count": null,
   "metadata": {},
   "outputs": [],
   "source": []
  },
  {
   "cell_type": "code",
   "execution_count": 6,
   "metadata": {
    "execution": {
     "iopub.execute_input": "2021-06-25T17:52:27.498564Z",
     "iopub.status.busy": "2021-06-25T17:52:27.498106Z",
     "iopub.status.idle": "2021-06-25T17:52:27.503360Z",
     "shell.execute_reply": "2021-06-25T17:52:27.502176Z",
     "shell.execute_reply.started": "2021-06-25T17:52:27.498494Z"
    }
   },
   "outputs": [],
   "source": [
    "import requests"
   ]
  },
  {
   "cell_type": "code",
   "execution_count": 4,
   "metadata": {
    "execution": {
     "iopub.execute_input": "2021-06-25T17:52:22.786595Z",
     "iopub.status.busy": "2021-06-25T17:52:22.786161Z",
     "iopub.status.idle": "2021-06-25T17:52:22.792439Z",
     "shell.execute_reply": "2021-06-25T17:52:22.790028Z",
     "shell.execute_reply.started": "2021-06-25T17:52:22.786560Z"
    }
   },
   "outputs": [],
   "source": [
    "name = \"numpydfdf\""
   ]
  },
  {
   "cell_type": "code",
   "execution_count": 8,
   "metadata": {
    "execution": {
     "iopub.execute_input": "2021-06-25T17:52:34.120836Z",
     "iopub.status.busy": "2021-06-25T17:52:34.120266Z",
     "iopub.status.idle": "2021-06-25T17:52:34.323813Z",
     "shell.execute_reply": "2021-06-25T17:52:34.322805Z",
     "shell.execute_reply.started": "2021-06-25T17:52:34.120782Z"
    }
   },
   "outputs": [],
   "source": [
    "response = requests.get(f\"https://pypi.org/pypi/{name}/json\")"
   ]
  },
  {
   "cell_type": "code",
   "execution_count": 11,
   "metadata": {
    "execution": {
     "iopub.execute_input": "2021-06-25T17:53:04.008396Z",
     "iopub.status.busy": "2021-06-25T17:53:04.008050Z",
     "iopub.status.idle": "2021-06-25T17:53:04.014890Z",
     "shell.execute_reply": "2021-06-25T17:53:04.014109Z",
     "shell.execute_reply.started": "2021-06-25T17:53:04.008359Z"
    }
   },
   "outputs": [
    {
     "data": {
      "text/plain": [
       "404"
      ]
     },
     "execution_count": 11,
     "metadata": {},
     "output_type": "execute_result"
    }
   ],
   "source": [
    "response.status_code"
   ]
  },
  {
   "cell_type": "code",
   "execution_count": 6,
   "metadata": {
    "execution": {
     "iopub.execute_input": "2021-06-25T17:45:39.325742Z",
     "iopub.status.busy": "2021-06-25T17:45:39.325091Z",
     "iopub.status.idle": "2021-06-25T17:45:39.530071Z",
     "shell.execute_reply": "2021-06-25T17:45:39.528999Z",
     "shell.execute_reply.started": "2021-06-25T17:45:39.325685Z"
    }
   },
   "outputs": [],
   "source": [
    "from icecream import ic"
   ]
  },
  {
   "cell_type": "code",
   "execution_count": 17,
   "metadata": {
    "execution": {
     "iopub.execute_input": "2021-06-25T17:47:20.621954Z",
     "iopub.status.busy": "2021-06-25T17:47:20.621353Z",
     "iopub.status.idle": "2021-06-25T17:47:20.627754Z",
     "shell.execute_reply": "2021-06-25T17:47:20.627048Z",
     "shell.execute_reply.started": "2021-06-25T17:47:20.621918Z"
    }
   },
   "outputs": [
    {
     "data": {
      "text/plain": [
       "'36a45e090a75353fabdf2011165fce9ddeda46fc0c6f66d88af4b18b674afac8'"
      ]
     },
     "execution_count": 17,
     "metadata": {},
     "output_type": "execute_result"
    }
   ],
   "source": [
    "response[\"releases\"][\"1.0.1\"][0][\"digests\"][\"sha256\"]"
   ]
  },
  {
   "cell_type": "code",
   "execution_count": 19,
   "metadata": {
    "execution": {
     "iopub.execute_input": "2021-06-25T17:48:37.881389Z",
     "iopub.status.busy": "2021-06-25T17:48:37.880786Z",
     "iopub.status.idle": "2021-06-25T17:48:37.896923Z",
     "shell.execute_reply": "2021-06-25T17:48:37.895614Z",
     "shell.execute_reply.started": "2021-06-25T17:48:37.881352Z"
    }
   },
   "outputs": [
    {
     "data": {
      "text/plain": [
       "1"
      ]
     },
     "execution_count": 19,
     "metadata": {},
     "output_type": "execute_result"
    }
   ],
   "source": [
    "from enum import Enum\n",
    "algo = Enum(\"Algo\", \"a b\")\n",
    "algo.a.value"
   ]
  },
  {
   "cell_type": "code",
   "execution_count": null,
   "metadata": {
    "execution": {
     "iopub.execute_input": "2021-06-25T17:43:16.673958Z",
     "iopub.status.busy": "2021-06-25T17:43:16.673534Z"
    }
   },
   "outputs": [
    {
     "name": "stderr",
     "output_type": "stream",
     "text": [
      "ic| response: {'info': {'author': 'Anselm Kiefner',\n",
      "                        'author_email': 'fuzzylogic-pypi@anselm.kiefner.de',\n",
      "                        'bugtrack_url': None,\n",
      "                        'classifiers': ['Development Status :: 4 - Beta',\n",
      "                                        'Intended Audience :: Developers',\n",
      "                                        'Intended Audience :: Education',\n",
      "                                        'Intended Audience :: Manufacturing',\n",
      "                                        'Intended Audience :: Science/Research',\n",
      "                                        'License :: OSI Approved :: MIT License',\n",
      "                                        'Natural Language :: English',\n",
      "                                        'Operating System :: OS Independent',\n",
      "                                        'Programming Language :: Python :: 3 :: Only',\n",
      "                                        'Topic :: Scientific/Engineering :: Artificial '\n",
      "                                        'Intelligence',\n",
      "                                        'Topic :: Scientific/Engineering :: Information '\n",
      "                                        'Analysis',\n",
      "                                        'Topic :: Scientific/Engineering :: Mathematics'],\n",
      "                        'description': '# Fuzzy Logic for Python 3\n",
      "              '\n",
      "                                       'This is the fourth time I rebuilt this library from '\n",
      "                                       'scratch to find the sweet spot between ease of use '\n",
      "                                       '(beautiful is better than ugly!), testability '\n",
      "                                       '(simple is better than complex!) and potential to '\n",
      "                                       'optimize for performance (practicality beats '\n",
      "                                       'purity!). \n",
      "              '\n",
      "                                       '\n",
      "              '\n",
      "                                       '### Why a new library?\n",
      "              '\n",
      "                                       'The first time I was confronted with fuzzy logic, I '\n",
      "                                       'fell in love with the concept, but after reading '\n",
      "                                       'books and checking out libraries etc. I found it '\n",
      "                                       'frustrating how most people make fuzzy logic appear '\n",
      "                                       'complicated, hard to handle and incorporate in '\n",
      "                                       'code.\n",
      "              '\n",
      "                                       'Sure, there are frameworks that allow modelling of '\n",
      "                                       \"functions via GUI, but that's not a solution for a \"\n",
      "                                       \"coder, right? Then there's a ton of mathematical \"\n",
      "                                       'research and other cruft that no normal person has '\n",
      "                                       'time and patience to work through before trying to '\n",
      "                                       'explore and applying things. Coming from this '\n",
      "                                       'direction, there are also a number of script-ish '\n",
      "                                       '(DSL) language frameworks that try to make the IF '\n",
      "                                       'THEN ELSE pattern work (which I also tried in '\n",
      "                                       'python, but gave it up because it just looks ugly).\n",
      "              '\n",
      "                                       \"And yes, it's also possible to implement the whole \"\n",
      "                                       'thing completely in a functional style, but you '\n",
      "                                       \"really don't want to work with a recursive structure \"\n",
      "                                       'of 7+ steps by hand, trying not to miss a (..) along '\n",
      "                                       'the way.\n",
      "              '\n",
      "                                       'Finally, most education on the subject emphasize '\n",
      "                                       'sets and membership functions, but fail to mention '\n",
      "                                       'the importance of the domain (or \"universe of '\n",
      "                                       'discourse\"). It\\'s easy to miss this point if you '\n",
      "                                       'get lost with set operations and membership values, '\n",
      "                                       'which are actually not that difficult once you can '\n",
      "                                       '*play* and *explore* how these things look and '\n",
      "                                       'work!\n",
      "              '\n",
      "                                       '\n",
      "              '\n",
      "                                       '### The Idea\n",
      "              '\n",
      "                                       'So, the idea is to have four main parts that work '\n",
      "                                       'together: domains, sets, functions and rules. You '\n",
      "                                       'start modelling your system by defining your domain '\n",
      "                                       'of interest. Then you think about where your '\n",
      "                                       'interesting points are in that domain and look for a '\n",
      "                                       'function that might do what you want. In general, '\n",
      "                                       \"fuzzy.functions map any value to [0,1], that's all. \"\n",
      "                                       'Then simply wrap your function in a Set and assign '\n",
      "                                       'this to the domain in question. Once assigned, you '\n",
      "                                       'can plot that set and see if it actually looks how '\n",
      "                                       'you imagined. Now that you have one or more sets, '\n",
      "                                       'you also can start to combine them with set '\n",
      "                                       \"operations &, |, ~, etc. It's fairly straight \"\n",
      "                                       'forward.\n",
      "              '\n",
      "                                       'Finally, use the Rules to map input domain to output '\n",
      "                                       'domain to actually control stuff.\n",
      "              '\n",
      "                                       '### Warning: Magic\n",
      "              '\n",
      "                                       'To make it possible to write fuzzy logic in the most '\n",
      "                                       'pythonic and simplest way imaginable, it was '\n",
      "                                       'necessary to employ some magic tricks that normally '\n",
      "                                       \"are discouraged, but at least there's no black magic \"\n",
      "                                       'involved (aka meta-programming etc.), so things are '\n",
      "                                       'easy to debug if there is a problem. Most notably:\n",
      "              '\n",
      "                                       '* all functions are recursive closures (which makes '\n",
      "                                       'it kinda hard to serialize things, if you really '\n",
      "                                       'want to do that)\n",
      "              '\n",
      "                                       '* Set uses a lot of dunder functions to implement '\n",
      "                                       'their logic, which can be a bit daunting at first '\n",
      "                                       'glance\n",
      "              '\n",
      "                                       '* Domain and Set uses an assignment trick to make it '\n",
      "                                       'possible to instantiate Set() without passing domain '\n",
      "                                       'and name over and over (yet still be explicit, just '\n",
      "                                       'not the way one would normally expect). This also '\n",
      "                                       'allows to call sets as Domain.attributes, which also '\n",
      "                                       \"normally shouldn't be possible (since they are \"\n",
      "                                       'technically not attributes). However, this allows '\n",
      "                                       'interesting things like dangling sets (sets without '\n",
      "                                       'domains) that can be freely combined with other sets '\n",
      "                                       'to avoid cluttering of domain-namespaces and just '\n",
      "                                       'have the resulting set assigned to a domain to work '\n",
      "                                       'with.\n",
      "              '\n",
      "                                       'Check the Showcase notebook in docs on '\n",
      "                                       'https://github.com/amogorkon/fuzzylogic for working '\n",
      "                                       'examples and documentation.\n",
      "              '\n",
      "                                       'Have fun!\n",
      "              '\n",
      "                                       '- Anselm Kiefner',\n",
      "                        'description_content_type': 'text/markdown',\n",
      "                        'docs_url': None,\n",
      "                        'download_url': '',\n",
      "                        'downloads': {'last_day': -1, 'last_month': -1, 'last_week': -1},\n",
      "                        'home_page': 'https://github.com/amogorkon/fuzzylogic',\n",
      "                        'keywords': 'fuzzy logic',\n",
      "                        'license': 'MIT',\n",
      "                        'maintainer': '',\n",
      "                        'maintainer_email': '',\n",
      "                        'name': 'fuzzylogic',\n",
      "                        'package_url': 'https://pypi.org/project/fuzzylogic/',\n",
      "                        'platform': '',\n",
      "                        'project_url': 'https://pypi.org/project/fuzzylogic/',\n",
      "                        'project_urls': {'Homepage': 'https://github.com/amogorkon/fuzzylogic'},\n",
      "                        'release_url': 'https://pypi.org/project/fuzzylogic/1.0.1/',\n",
      "                        'requires_dist': None,\n",
      "                        'requires_python': '>=3.8',\n",
      "                        'summary': 'Fuzzy Logic for Python 3',\n",
      "                        'version': '1.0.1',\n",
      "                        'yanked': False,\n",
      "                        'yanked_reason': None},\n",
      "               'last_serial': 9981125,\n",
      "               'releases': {'0.1.1': [{'comment_text': '',\n",
      "                                       'digests': {'md5': 'ba6b66dea251d8d3be48d4d03e88c127',\n",
      "                                                   'sha256': 'e4b72258f4972497b33500d9751754cb010590ea92e2f3f2843608a847f73437'},\n",
      "                                       'downloads': -1,\n",
      "                                       'filename': 'fuzzylogic-0.1.1-py3-none-any.whl',\n",
      "                                       'has_sig': False,\n",
      "                                       'md5_digest': 'ba6b66dea251d8d3be48d4d03e88c127',\n",
      "                                       'packagetype': 'bdist_wheel',\n",
      "                                       'python_version': 'py3',\n",
      "                                       'requires_python': '>3.6',\n",
      "                                       'size': 16621,\n",
      "                                       'upload_time': '2019-07-08T09:53:44',\n",
      "                                       'upload_time_iso_8601': '2019-07-08T09:53:44.692763Z',\n",
      "                                       'url': 'https://files.pythonhosted.org/packages/40/07/86a9a96ef18916fe7b13b66e3b55002167a399e2d85739364f9b23abdd2d/fuzzylogic-0.1.1-py3-none-any.whl',\n",
      "                                       'yanked': False,\n",
      "                                       'yanked_reason': None},\n",
      "                                      {'comment_text': '',\n",
      "                                       'digests': {'md5': 'cf6e37596dec4a798af74d8c9b78c663',\n",
      "                                                   'sha256': '18c250158b92fbdddfe3cc281769d31d7af88e406c083663af3653c294d4c61c'},\n",
      "                                       'downloads': -1,\n",
      "                                       'filename': 'fuzzylogic-0.1.1.tar.gz',\n",
      "                                       'has_sig': False,\n",
      "                                       'md5_digest': 'cf6e37596dec4a798af74d8c9b78c663',\n",
      "                                       'packagetype': 'sdist',\n",
      "                                       'python_version': 'source',\n",
      "                                       'requires_python': '>3.6',\n",
      "                                       'size': 18620,\n",
      "                                       'upload_time': '2019-07-08T09:53:48',\n",
      "                                       'upload_time_iso_8601': '2019-07-08T09:53:48.204923Z',\n",
      "                                       'url': 'https://files.pythonhosted.org/packages/bb/d0/be33510cce178f6aae78a3311721e02eb207fba5650af2d60736ddb4ab16/fuzzylogic-0.1.1.tar.gz',\n",
      "                                       'yanked': False,\n",
      "                                       'yanked_reason': None}],\n",
      "                            '0.1.1.post1': [{'comment_text': '',\n",
      "                                             'digests': {'md5': '276da66c10eb1558b30e1c3becf162d3',\n",
      "                                                         'sha256': 'ae1bc1031bf39f65c4d3151c103e7bfd8c8e8f985516126ccc06a68689b75b89'},\n",
      "                                             'downloads': -1,\n",
      "                                             'filename': 'fuzzylogic-0.1.1.post1-py3-none-any.whl',\n",
      "                                             'has_sig': False,\n",
      "                                             'md5_digest': '276da66c10eb1558b30e1c3becf162d3',\n",
      "                                             'packagetype': 'bdist_wheel',\n",
      "                                             'python_version': 'py3',\n",
      "                                             'requires_python': '>3.6',\n",
      "                                             'size': 16701,\n",
      "                                             'upload_time': '2019-07-08T09:53:42',\n",
      "                                             'upload_time_iso_8601': '2019-07-08T09:53:42.287220Z',\n",
      "                                             'url': 'https://files.pythonhosted.org/packages/eb/6a/dfc54cc2ce3a9451612eacef1f94e48fc96b47302be535a2aef2ec56e4f5/fuzzylogic-0.1.1.post1-py3-none-any.whl',\n",
      "                                             'yanked': False,\n",
      "                                             'yanked_reason': None},\n",
      "                                            {'comment_text': '',\n",
      "                                             'digests': {'md5': 'ca3488172a3cb4051eea21a7e0735bd7',\n",
      "                                                         'sha256': '3251887dc35efb074a6e806c094ac2ef782880c59b9277e0a58c64654380ce84'},\n",
      "                                             'downloads': -1,\n",
      "                                             'filename': 'fuzzylogic-0.1.1.post1.tar.gz',\n",
      "                                             'has_sig': False,\n",
      "                                             'md5_digest': 'ca3488172a3cb4051eea21a7e0735bd7',\n",
      "                                             'packagetype': 'sdist',\n",
      "                                             'python_version': 'source',\n",
      "                                             'requires_python': '>3.6',\n",
      "                                             'size': 18644,\n",
      "                                             'upload_time': '2019-07-08T09:53:46',\n",
      "                                             'upload_time_iso_8601': '2019-07-08T09:53:46.329939Z',\n",
      "                                             'url': 'https://files.pythonhosted.org/packages/2a/91/a3baaffbdea5094648124420bba14a5b6f6eb2dbbd7d3a8f93972e21c63b/fuzzylogic-0.1.1.post1.tar.gz',\n",
      "                                             'yanked': False,\n",
      "                                             'yanked_reason': None}],\n",
      "                            '0.1.1.post2': [{'comment_text': '',\n",
      "                                             'digests': {'md5': '413d8b29a6d44cfea8111ae923be87d3',\n",
      "                                                         'sha256': '003fc2dd28f1ef1b471c4cc9e19ae217d9e835a48846213cd89783294a86727f'},\n",
      "                                             'downloads': -1,\n",
      "                                             'filename': 'fuzzylogic-0.1.1.post2-py3-none-any.whl',\n",
      "                                             'has_sig': False,\n",
      "                                             'md5_digest': '413d8b29a6d44cfea8111ae923be87d3',\n",
      "                                             'packagetype': 'bdist_wheel',\n",
      "                                             'python_version': 'py3',\n",
      "                                             'requires_python': '>3.6',\n",
      "                                             'size': 3980,\n",
      "                                             'upload_time': '2019-07-16T22:16:18',\n",
      "                                             'upload_time_iso_8601': '2019-07-16T22:16:18.718248Z',\n",
      "                                             'url': 'https://files.pythonhosted.org/packages/9e/a2/1503f34a07499df617e920d8a27d479ccd11cb3b92360ba9deb37d6c756f/fuzzylogic-0.1.1.post2-py3-none-any.whl',\n",
      "                                             'yanked': False,\n",
      "                                             'yanked_reason': None},\n",
      "                                            {'comment_text': '',\n",
      "                                             'digests': {'md5': 'bd88ed40d3fe98c54f1a6b7b4c27eb43',\n",
      "                                                         'sha256': '9fdc14c29633ed729640b1153ccd2f2d082bebcbc00861d73e090c8db2c9a1b7'},\n",
      "                                             'downloads': -1,\n",
      "                                             'filename': 'fuzzylogic-0.1.1.post2.tar.gz',\n",
      "                                             'has_sig': False,\n",
      "                                             'md5_digest': 'bd88ed40d3fe98c54f1a6b7b4c27eb43',\n",
      "                                             'packagetype': 'sdist',\n",
      "                                             'python_version': 'source',\n",
      "                                             'requires_python': '>3.6',\n",
      "                                             'size': 6321,\n",
      "                                             'upload_time': '2019-07-16T22:16:29',\n",
      "                                             'upload_time_iso_8601': '2019-07-16T22:16:29.273906Z',\n",
      "                                             'url': 'https://files.pythonhosted.org/packages/36/f9/1c68adab9e31286894de1a12304a4f89990b68e77ffe7c2e8e8a2f10f5f9/fuzzylogic-0.1.1.post2.tar.gz',\n",
      "                                             'yanked': False,\n",
      "                                             'yanked_reason': None}],\n",
      "                            '0.1.1.post3': [{'comment_text': '',\n",
      "                                             'digests': {'md5': '9045df33fdf4342f3f3959ca3a7d9a6d',\n",
      "                                                         'sha256': '66ae3cefcffeaa951e73919437188559df27015155b5337d6973febcd80f36d7'},\n",
      "                                             'downloads': -1,\n",
      "                                             'filename': 'fuzzylogic-0.1.1.post3-py3-none-any.whl',\n",
      "                                             'has_sig': False,\n",
      "                                             'md5_digest': '9045df33fdf4342f3f3959ca3a7d9a6d',\n",
      "                                             'packagetype': 'bdist_wheel',\n",
      "                                             'python_version': 'py3',\n",
      "                                             'requires_python': '>3.6',\n",
      "                                             'size': 16895,\n",
      "                                             'upload_time': '2019-07-17T16:49:25',\n",
      "                                             'upload_time_iso_8601': '2019-07-17T16:49:25.629571Z',\n",
      "                                             'url': 'https://files.pythonhosted.org/packages/1f/8a/6920b61f80dfdc7c1c71e80c6b36aef4b360f97c7a6ad61a4355500aedd7/fuzzylogic-0.1.1.post3-py3-none-any.whl',\n",
      "                                             'yanked': False,\n",
      "                                             'yanked_reason': None},\n",
      "                                            {'comment_text': '',\n",
      "                                             'digests': {'md5': 'f900199f253aecf93d65584701dbf280',\n",
      "                                                         'sha256': 'dd4fdc05b908d46d07fcf9f86983548f1b772ab81f949fbd18fab71b6fc15446'},\n",
      "                                             'downloads': -1,\n",
      "                                             'filename': 'fuzzylogic-0.1.1.post3.tar.gz',\n",
      "                                             'has_sig': False,\n",
      "                                             'md5_digest': 'f900199f253aecf93d65584701dbf280',\n",
      "                                             'packagetype': 'sdist',\n",
      "                                             'python_version': 'source',\n",
      "                                             'requires_python': '>3.6',\n",
      "                                             'size': 18969,\n",
      "                                             'upload_time': '2019-07-17T16:49:27',\n",
      "                                             'upload_time_iso_8601': '2019-07-17T16:49:27.772061Z',\n",
      "                                             'url': 'https://files.pythonhosted.org/packages/2d/8b/5021d092fab4d3c9d60af8bbf765777ad349eaed5a6f4b82fe71c6977944/fuzzylogic-0.1.1.post3.tar.gz',\n",
      "                                             'yanked': False,\n",
      "                                             'yanked_reason': None},\n",
      "                                            {'comment_text': '',\n",
      "                                             'digests': {'md5': '8bd605cac57be2d5f7de6e14f9492693',\n",
      "                                                         'sha256': '72e69263a00149e0fff23cfabf71b674eae4287e970d7c0aaaa8bde447a4be11'},\n",
      "                                             'downloads': -1,\n",
      "                                             'filename': 'fuzzylogic-0.1.1.post4-py3-none-any.whl',\n",
      "                                             'has_sig': False,\n",
      "                                             'md5_digest': '8bd605cac57be2d5f7de6e14f9492693',\n",
      "                                             'packagetype': 'bdist_wheel',\n",
      "                                             'python_version': 'py3',\n",
      "                                             'requires_python': '>3.6',\n",
      "                                             'size': 20512,\n",
      "                                             'upload_time': '2019-07-18T21:37:05',\n",
      "                                             'upload_time_iso_8601': '2019-07-18T21:37:05.550777Z',\n",
      "                                             'url': 'https://files.pythonhosted.org/packages/ef/66/06c16ae62f1d20299db9b78cc895887b6caf4ac5384c2324c6a8c113179f/fuzzylogic-0.1.1.post4-py3-none-any.whl',\n",
      "                                             'yanked': False,\n",
      "                                             'yanked_reason': None}],\n",
      "                            '0.1.1.post4': [{'comment_text': '',\n",
      "                                             'digests': {'md5': 'a4261f35df5f6f95d722ecabf6f255d1',\n",
      "                                                         'sha256': '5de81bf391263b315da4084959f92da6ea7819c30638ce6f4be49f9bdd4a06eb'},\n",
      "                                             'downloads': -1,\n",
      "                                             'filename': 'fuzzylogic-0.1.1.post4.tar.gz',\n",
      "                                             'has_sig': False,\n",
      "                                             'md5_digest': 'a4261f35df5f6f95d722ecabf6f255d1',\n",
      "                                             'packagetype': 'sdist',\n",
      "                                             'python_version': 'source',\n",
      "                                             'requires_python': '>3.6',\n",
      "                                             'size': 18991,\n",
      "                                             'upload_time': '2019-07-18T21:37:14',\n",
      "                                             'upload_time_iso_8601': '2019-07-18T21:37:14.692115Z',\n",
      "                                             'url': 'https://files.pythonhosted.org/packages/39/cd/ba7e1a0a67d25cddd82664ea2daab640a741f6ef3fc5ff872e52c93b9883/fuzzylogic-0.1.1.post4.tar.gz',\n",
      "                                             'yanked': False,\n",
      "                                             'yanked_reason': None}],\n",
      "                            '0.1.1.post5': [{'comment_text': '',\n",
      "                                             'digests': {'md5': 'abd3dd0f8e7d8708428f22c481826615',\n",
      "                                                         'sha256': 'b72a563a921c3f43b0fedc9fb6ed68298e8a481c590a881d4a4b3be1a3556197'},\n",
      "                                             'downloads': -1,\n",
      "                                             'filename': 'fuzzylogic-0.1.1.post5-py3-none-any.whl',\n",
      "                                             'has_sig': False,\n",
      "                                             'md5_digest': 'abd3dd0f8e7d8708428f22c481826615',\n",
      "                                             'packagetype': 'bdist_wheel',\n",
      "                                             'python_version': 'py3',\n",
      "                                             'requires_python': '>3.6',\n",
      "                                             'size': 16902,\n",
      "                                             'upload_time': '2019-07-18T21:58:55',\n",
      "                                             'upload_time_iso_8601': '2019-07-18T21:58:55.697675Z',\n",
      "                                             'url': 'https://files.pythonhosted.org/packages/32/c7/e9c40747e11178051093914d5794818a3e77a130d8e771805371104784a8/fuzzylogic-0.1.1.post5-py3-none-any.whl',\n",
      "                                             'yanked': False,\n",
      "                                             'yanked_reason': None},\n",
      "                                            {'comment_text': '',\n",
      "                                             'digests': {'md5': '0b896c898883d2792eb2249599b70062',\n",
      "                                                         'sha256': '452f83d6c0bca0f96a55a3ea089af348af7e411bb3783f21ef8cee63bae4a420'},\n",
      "                                             'downloads': -1,\n",
      "                                             'filename': 'fuzzylogic-0.1.1.post5.tar.gz',\n",
      "                                             'has_sig': False,\n",
      "                                             'md5_digest': '0b896c898883d2792eb2249599b70062',\n",
      "                                             'packagetype': 'sdist',\n",
      "                                             'python_version': 'source',\n",
      "                                             'requires_python': '>3.6',\n",
      "                                             'size': 18996,\n",
      "                                             'upload_time': '2019-07-18T21:58:59',\n",
      "                                             'upload_time_iso_8601': '2019-07-18T21:58:59.026643Z',\n",
      "                                             'url': 'https://files.pythonhosted.org/packages/d8/e0/e7d975afe9bccd5eb8aebf223761ac77f9dde77dfd66e282d6bd4f4b2298/fuzzylogic-0.1.1.post5.tar.gz',\n",
      "                                             'yanked': False,\n",
      "                                             'yanked_reason': None},\n",
      "                                            {'comment_text': '',\n",
      "                                             'digests': {'md5': '0df2ee29185ff0d84bd1b4326435d46f',\n",
      "                                                         'sha256': '9ab4623669d4f5e8723ff5c6789540b89b57af03bed468de27facca908b17046'},\n",
      "                                             'downloads': -1,\n",
      "                                             'filename': 'fuzzylogic-0.1.2.post1-py3-none-any.whl',\n",
      "                                             'has_sig': False,\n",
      "                                             'md5_digest': '0df2ee29185ff0d84bd1b4326435d46f',\n",
      "                                             'packagetype': 'bdist_wheel',\n",
      "                                             'python_version': 'py3',\n",
      "                                             'requires_python': '>3.6',\n",
      "                                             'size': 43384,\n",
      "                                             'upload_time': '2019-07-21T14:25:37',\n",
      "                                             'upload_time_iso_8601': '2019-07-21T14:25:37.941927Z',\n",
      "                                             'url': 'https://files.pythonhosted.org/packages/6e/e7/6936ca663e2323e5af38d3ad6a5c23f3019eef1d5a5bc931dc56289aa471/fuzzylogic-0.1.2.post1-py3-none-any.whl',\n",
      "                                             'yanked': False,\n",
      "                                             'yanked_reason': None},\n",
      "                                            {'comment_text': '',\n",
      "                                             'digests': {'md5': '2ce24df33c86fd6be9d307d027add612',\n",
      "                                                         'sha256': 'fa5b96c2d1c087bae5547f0d5b077eaf258b7527607a739770e02a28914b5d7f'},\n",
      "                                             'downloads': -1,\n",
      "                                             'filename': 'fuzzylogic-0.1.2-py3-none-any.whl',\n",
      "                                             'has_sig': False,\n",
      "                                             'md5_digest': '2ce24df33c86fd6be9d307d027add612',\n",
      "                                             'packagetype': 'bdist_wheel',\n",
      "                                             'python_version': 'py3',\n",
      "                                             'requires_python': '>3.6',\n",
      "                                             'size': 39760,\n",
      "                                             'upload_time': '2019-07-21T13:51:13',\n",
      "                                             'upload_time_iso_8601': '2019-07-21T13:51:13.490976Z',\n",
      "                                             'url': 'https://files.pythonhosted.org/packages/4b/68/8731a08fedbe6120b4e16570a9993423c3a0ad41aa8a5baebf9e2c5a4ca3/fuzzylogic-0.1.2-py3-none-any.whl',\n",
      "                                             'yanked': False,\n",
      "                                             'yanked_reason': None}],\n",
      "                            '0.1.2': [{'comment_text': '',\n",
      "                                       'digests': {'md5': '832fd98b43c436085dd20ccfcabd501c',\n",
      "                                                   'sha256': '7ad5e26b6828d76bac5573485f17c9d3a037d7893512a53b81300ea222b1bd82'},\n",
      "                                       'downloads': -1,\n",
      "                                       'filename': 'fuzzylogic-0.1.2.tar.gz',\n",
      "                                       'has_sig': False,\n",
      "                                       'md5_digest': '832fd98b43c436085dd20ccfcabd501c',\n",
      "                                       'packagetype': 'sdist',\n",
      "                                       'python_version': 'source',\n",
      "                                       'requires_python': '>3.6',\n",
      "                                       'size': 18990,\n",
      "                                       'upload_time': '2019-07-21T13:51:16',\n",
      "                                       'upload_time_iso_8601': '2019-07-21T13:51:16.862323Z',\n",
      "                                       'url': 'https://files.pythonhosted.org/packages/b2/0d/6875c2a34c67e600cb790f1cb19f00910f59843e893cf5b4083ffd00d82a/fuzzylogic-0.1.2.tar.gz',\n",
      "                                       'yanked': False,\n",
      "                                       'yanked_reason': None}],\n",
      "                            '0.1.2.post1': [{'comment_text': '',\n",
      "                                             'digests': {'md5': 'e16b16ea63ecd4d5b3f2ce2426a2fa76',\n",
      "                                                         'sha256': '2ec6be234917c55ad0343a5f254bb0b971456763a91393b31a9be52c57421ea3'},\n",
      "                                             'downloads': -1,\n",
      "                                             'filename': 'fuzzylogic-0.1.2.post1.tar.gz',\n",
      "                                             'has_sig': False,\n",
      "                                             'md5_digest': 'e16b16ea63ecd4d5b3f2ce2426a2fa76',\n",
      "                                             'packagetype': 'sdist',\n",
      "                                             'python_version': 'source',\n",
      "                                             'requires_python': '>3.6',\n",
      "                                             'size': 19004,\n",
      "                                             'upload_time': '2019-07-21T14:25:40',\n",
      "                                             'upload_time_iso_8601': '2019-07-21T14:25:40.202896Z',\n",
      "                                             'url': 'https://files.pythonhosted.org/packages/14/93/3a793336f423231acaf43808e0a7a2da33a7a3f429b50650ca2e976c9180/fuzzylogic-0.1.2.post1.tar.gz',\n",
      "                                             'yanked': False,\n",
      "                                             'yanked_reason': None}],\n",
      "                            '0.1.2.post2': [{'comment_text': '',\n",
      "                                             'digests': {'md5': '36cc9f47b39cf7e32b1410721d308d13',\n",
      "                                                         'sha256': '9354dc26f8e56bfb0a077074242f41b961ffcf571db61f919c45e03f4610ce36'},\n",
      "                                             'downloads': -1,\n",
      "                                             'filename': 'fuzzylogic-0.1.2.post2.tar.gz',\n",
      "                                             'has_sig': False,\n",
      "                                             'md5_digest': '36cc9f47b39cf7e32b1410721d308d13',\n",
      "                                             'packagetype': 'sdist',\n",
      "                                             'python_version': 'source',\n",
      "                                             'requires_python': '>3.6',\n",
      "                                             'size': 18999,\n",
      "                                             'upload_time': '2019-07-23T12:20:33',\n",
      "                                             'upload_time_iso_8601': '2019-07-23T12:20:33.250501Z',\n",
      "                                             'url': 'https://files.pythonhosted.org/packages/d4/e7/cba3173e3672a9686a68f52314f8595209cc22d1bc6e963a21cdc560a23e/fuzzylogic-0.1.2.post2.tar.gz',\n",
      "                                             'yanked': False,\n",
      "                                             'yanked_reason': None}],\n",
      "                            '0.1.2.post4': [{'comment_text': '',\n",
      "                                             'digests': {'md5': 'f7acb6361b60a47092f57da8602a27fb',\n",
      "                                                         'sha256': 'f771ddac4de5f6ae6105f4aac9c1680dc6355658da3bd90c4fbde445a3b4a0a6'},\n",
      "                                             'downloads': -1,\n",
      "                                             'filename': '"
     ]
    }
   ],
   "source": [
    "ic(response)"
   ]
  },
  {
   "cell_type": "code",
   "execution_count": null,
   "metadata": {},
   "outputs": [],
   "source": []
  },
  {
   "cell_type": "code",
   "execution_count": 32,
   "metadata": {
    "execution": {
     "iopub.execute_input": "2021-06-24T10:18:27.480842Z",
     "iopub.status.busy": "2021-06-24T10:18:27.480160Z",
     "iopub.status.idle": "2021-06-24T10:18:27.488261Z",
     "shell.execute_reply": "2021-06-24T10:18:27.487268Z",
     "shell.execute_reply.started": "2021-06-24T10:18:27.480799Z"
    }
   },
   "outputs": [
    {
     "data": {
      "text/plain": [
       "ModuleSpec(name='numpy', loader=<_frozen_importlib_external.SourceFileLoader object at 0x7fccee0f4fa0>, origin='/home/thorsten/anaconda3/lib/python3.8/site-packages/numpy/__init__.py', submodule_search_locations=['/home/thorsten/anaconda3/lib/python3.8/site-packages/numpy'])"
      ]
     },
     "execution_count": 32,
     "metadata": {},
     "output_type": "execute_result"
    }
   ],
   "source": [
    "spec = find_spec(\"numpy\")\n",
    "spec"
   ]
  },
  {
   "cell_type": "code",
   "execution_count": 10,
   "metadata": {
    "execution": {
     "iopub.execute_input": "2021-06-24T09:03:55.719601Z",
     "iopub.status.busy": "2021-06-24T09:03:55.719165Z",
     "iopub.status.idle": "2021-06-24T09:03:55.727158Z",
     "shell.execute_reply": "2021-06-24T09:03:55.725735Z",
     "shell.execute_reply.started": "2021-06-24T09:03:55.719564Z"
    }
   },
   "outputs": [
    {
     "data": {
      "text/plain": [
       "<module 'itertools'>"
      ]
     },
     "execution_count": 10,
     "metadata": {},
     "output_type": "execute_result"
    }
   ],
   "source": [
    "spec.loader.create_module(spec)"
   ]
  },
  {
   "cell_type": "code",
   "execution_count": 15,
   "metadata": {
    "execution": {
     "iopub.execute_input": "2021-06-24T09:17:05.853434Z",
     "iopub.status.busy": "2021-06-24T09:17:05.852930Z",
     "iopub.status.idle": "2021-06-24T09:17:05.864371Z",
     "shell.execute_reply": "2021-06-24T09:17:05.863131Z",
     "shell.execute_reply.started": "2021-06-24T09:17:05.853383Z"
    }
   },
   "outputs": [],
   "source": [
    "mod = spec.loader.exec_module(spec.loader.create_module(spec))"
   ]
  },
  {
   "cell_type": "code",
   "execution_count": 19,
   "metadata": {
    "execution": {
     "iopub.execute_input": "2021-06-24T09:17:45.121169Z",
     "iopub.status.busy": "2021-06-24T09:17:45.120408Z",
     "iopub.status.idle": "2021-06-24T09:17:45.127408Z",
     "shell.execute_reply": "2021-06-24T09:17:45.126348Z",
     "shell.execute_reply.started": "2021-06-24T09:17:45.121109Z"
    }
   },
   "outputs": [
    {
     "data": {
      "text/plain": [
       "\u001b[0;31mSignature:\u001b[0m \u001b[0mspec\u001b[0m\u001b[0;34m.\u001b[0m\u001b[0mloader\u001b[0m\u001b[0;34m.\u001b[0m\u001b[0mexec_module\u001b[0m\u001b[0;34m(\u001b[0m\u001b[0mmodule\u001b[0m\u001b[0;34m)\u001b[0m\u001b[0;34m\u001b[0m\u001b[0;34m\u001b[0m\u001b[0m\n",
       "\u001b[0;31mDocstring:\u001b[0m Exec a built-in module\n",
       "\u001b[0;31mFile:\u001b[0m      /media/sf_Dropbox/code/justuse/src/use/<frozen importlib._bootstrap>\n",
       "\u001b[0;31mType:\u001b[0m      method\n"
      ]
     },
     "metadata": {},
     "output_type": "display_data"
    }
   ],
   "source": [
    "spec.loader.exec_module?"
   ]
  },
  {
   "cell_type": "code",
   "execution_count": 20,
   "metadata": {
    "execution": {
     "iopub.execute_input": "2021-06-24T09:46:12.587901Z",
     "iopub.status.busy": "2021-06-24T09:46:12.587485Z",
     "iopub.status.idle": "2021-06-24T09:46:12.591707Z",
     "shell.execute_reply": "2021-06-24T09:46:12.590763Z",
     "shell.execute_reply.started": "2021-06-24T09:46:12.587866Z"
    }
   },
   "outputs": [],
   "source": [
    "import importlib"
   ]
  },
  {
   "cell_type": "code",
   "execution_count": 16,
   "metadata": {
    "execution": {
     "iopub.execute_input": "2021-06-24T09:17:10.085195Z",
     "iopub.status.busy": "2021-06-24T09:17:10.084726Z",
     "iopub.status.idle": "2021-06-24T09:17:10.275860Z",
     "shell.execute_reply": "2021-06-24T09:17:10.274455Z",
     "shell.execute_reply.started": "2021-06-24T09:17:10.085158Z"
    }
   },
   "outputs": [
    {
     "ename": "NameError",
     "evalue": "name 'itertools' is not defined",
     "output_type": "error",
     "traceback": [
      "\u001b[0;31m---------------------------------------------------------------------------\u001b[0m",
      "\u001b[0;31mNameError\u001b[0m                                 Traceback (most recent call last)",
      "\u001b[0;32m<ipython-input-16-2228fcc29a1f>\u001b[0m in \u001b[0;36m<module>\u001b[0;34m\u001b[0m\n\u001b[0;32m----> 1\u001b[0;31m \u001b[0mitertools\u001b[0m\u001b[0;34m\u001b[0m\u001b[0;34m\u001b[0m\u001b[0m\n\u001b[0m",
      "\u001b[0;31mNameError\u001b[0m: name 'itertools' is not defined"
     ]
    }
   ],
   "source": [
    "itertools"
   ]
  },
  {
   "cell_type": "code",
   "execution_count": 35,
   "metadata": {
    "execution": {
     "iopub.execute_input": "2021-06-24T12:20:29.717350Z",
     "iopub.status.busy": "2021-06-24T12:20:29.716737Z",
     "iopub.status.idle": "2021-06-24T12:20:29.730930Z",
     "shell.execute_reply": "2021-06-24T12:20:29.729054Z",
     "shell.execute_reply.started": "2021-06-24T12:20:29.717288Z"
    }
   },
   "outputs": [],
   "source": [
    "BuiltinImporter.find_module(\"numpy\")"
   ]
  },
  {
   "cell_type": "code",
   "execution_count": 23,
   "metadata": {
    "execution": {
     "iopub.execute_input": "2021-06-24T08:55:40.853924Z",
     "iopub.status.busy": "2021-06-24T08:55:40.853159Z",
     "iopub.status.idle": "2021-06-24T08:55:40.861498Z",
     "shell.execute_reply": "2021-06-24T08:55:40.860446Z",
     "shell.execute_reply.started": "2021-06-24T08:55:40.853884Z"
    }
   },
   "outputs": [
    {
     "data": {
      "text/plain": [
       "['__class__',\n",
       " '__delattr__',\n",
       " '__dict__',\n",
       " '__dir__',\n",
       " '__doc__',\n",
       " '__eq__',\n",
       " '__format__',\n",
       " '__ge__',\n",
       " '__getattribute__',\n",
       " '__gt__',\n",
       " '__hash__',\n",
       " '__init__',\n",
       " '__init_subclass__',\n",
       " '__le__',\n",
       " '__lt__',\n",
       " '__module__',\n",
       " '__ne__',\n",
       " '__new__',\n",
       " '__reduce__',\n",
       " '__reduce_ex__',\n",
       " '__repr__',\n",
       " '__setattr__',\n",
       " '__sizeof__',\n",
       " '__str__',\n",
       " '__subclasshook__',\n",
       " '__weakref__',\n",
       " 'create_module',\n",
       " 'exec_module',\n",
       " 'find_module',\n",
       " 'find_spec',\n",
       " 'get_code',\n",
       " 'get_source',\n",
       " 'is_package',\n",
       " 'load_module',\n",
       " 'module_repr']"
      ]
     },
     "execution_count": 23,
     "metadata": {},
     "output_type": "execute_result"
    }
   ],
   "source": [
    "dir(BuiltinImporter)"
   ]
  },
  {
   "cell_type": "code",
   "execution_count": 18,
   "metadata": {
    "execution": {
     "iopub.execute_input": "2021-06-24T08:50:24.951898Z",
     "iopub.status.busy": "2021-06-24T08:50:24.951191Z",
     "iopub.status.idle": "2021-06-24T08:50:24.958514Z",
     "shell.execute_reply": "2021-06-24T08:50:24.956809Z",
     "shell.execute_reply.started": "2021-06-24T08:50:24.951857Z"
    }
   },
   "outputs": [
    {
     "name": "stderr",
     "output_type": "stream",
     "text": [
      "<ipython-input-18-425e7f4332ff>:1: DeprecationWarning: MetaPathFinder.find_module() is deprecated since Python 3.4 in favor of MetaPathFinder.find_spec() (available since 3.4)\n",
      "  æ = ø.find_module(\"itertools\", None)\n"
     ]
    }
   ],
   "source": [
    "æ = ø.find_module(\"itertools\", None)"
   ]
  },
  {
   "cell_type": "code",
   "execution_count": 21,
   "metadata": {
    "execution": {
     "iopub.execute_input": "2021-06-24T08:51:55.705110Z",
     "iopub.status.busy": "2021-06-24T08:51:55.704383Z",
     "iopub.status.idle": "2021-06-24T08:51:55.712783Z",
     "shell.execute_reply": "2021-06-24T08:51:55.711789Z",
     "shell.execute_reply.started": "2021-06-24T08:51:55.705038Z"
    }
   },
   "outputs": [
    {
     "data": {
      "text/plain": [
       "['__abstractmethods__',\n",
       " '__class__',\n",
       " '__delattr__',\n",
       " '__dict__',\n",
       " '__dir__',\n",
       " '__doc__',\n",
       " '__eq__',\n",
       " '__format__',\n",
       " '__ge__',\n",
       " '__getattribute__',\n",
       " '__gt__',\n",
       " '__hash__',\n",
       " '__init__',\n",
       " '__init_subclass__',\n",
       " '__le__',\n",
       " '__lt__',\n",
       " '__module__',\n",
       " '__ne__',\n",
       " '__new__',\n",
       " '__reduce__',\n",
       " '__reduce_ex__',\n",
       " '__repr__',\n",
       " '__setattr__',\n",
       " '__sizeof__',\n",
       " '__str__',\n",
       " '__subclasshook__',\n",
       " '__weakref__',\n",
       " '_abc_impl',\n",
       " 'find_module',\n",
       " 'invalidate_caches']"
      ]
     },
     "execution_count": 21,
     "metadata": {},
     "output_type": "execute_result"
    }
   ],
   "source": [
    "dir(MetaPathFinder())"
   ]
  },
  {
   "cell_type": "code",
   "execution_count": 13,
   "metadata": {
    "execution": {
     "iopub.execute_input": "2021-06-24T08:47:54.123268Z",
     "iopub.status.busy": "2021-06-24T08:47:54.122808Z",
     "iopub.status.idle": "2021-06-24T08:47:54.137908Z",
     "shell.execute_reply": "2021-06-24T08:47:54.136444Z",
     "shell.execute_reply.started": "2021-06-24T08:47:54.123223Z"
    }
   },
   "outputs": [
    {
     "data": {
      "text/plain": [
       "['__abstractmethods__',\n",
       " '__class__',\n",
       " '__delattr__',\n",
       " '__dict__',\n",
       " '__dir__',\n",
       " '__doc__',\n",
       " '__eq__',\n",
       " '__format__',\n",
       " '__ge__',\n",
       " '__getattribute__',\n",
       " '__gt__',\n",
       " '__hash__',\n",
       " '__init__',\n",
       " '__init_subclass__',\n",
       " '__le__',\n",
       " '__lt__',\n",
       " '__module__',\n",
       " '__ne__',\n",
       " '__new__',\n",
       " '__reduce__',\n",
       " '__reduce_ex__',\n",
       " '__repr__',\n",
       " '__setattr__',\n",
       " '__sizeof__',\n",
       " '__str__',\n",
       " '__subclasshook__',\n",
       " '__weakref__',\n",
       " '_abc_impl',\n",
       " 'find_module',\n",
       " 'invalidate_caches']"
      ]
     },
     "execution_count": 13,
     "metadata": {},
     "output_type": "execute_result"
    }
   ],
   "source": [
    "ø = MetaPathFinder()\n",
    "dir(ø)"
   ]
  },
  {
   "cell_type": "code",
   "execution_count": 4,
   "metadata": {
    "execution": {
     "iopub.execute_input": "2021-06-23T22:28:35.953247Z",
     "iopub.status.busy": "2021-06-23T22:28:35.952715Z",
     "iopub.status.idle": "2021-06-23T22:28:35.975664Z",
     "shell.execute_reply": "2021-06-23T22:28:35.973603Z",
     "shell.execute_reply.started": "2021-06-23T22:28:35.953168Z"
    }
   },
   "outputs": [
    {
     "ename": "AttributeError",
     "evalue": "'NoneType' object has no attribute 'origin'",
     "output_type": "error",
     "traceback": [
      "\u001b[0;31m---------------------------------------------------------------------------\u001b[0m",
      "\u001b[0;31mAttributeError\u001b[0m                            Traceback (most recent call last)",
      "\u001b[0;32m<ipython-input-4-64fa23712482>\u001b[0m in \u001b[0;36m<module>\u001b[0;34m\u001b[0m\n\u001b[0;32m----> 1\u001b[0;31m \u001b[0muse\u001b[0m\u001b[0;34m(\u001b[0m\u001b[0;34m\"itertools\"\u001b[0m\u001b[0;34m)\u001b[0m\u001b[0;34m\u001b[0m\u001b[0;34m\u001b[0m\u001b[0m\n\u001b[0m",
      "\u001b[0;32m/media/sf_Dropbox/code/justuse/src/use/use.py\u001b[0m in \u001b[0;36mwrapper\u001b[0;34m(*args, **kw)\u001b[0m\n\u001b[1;32m    156\u001b[0m     \u001b[0mdispatcher\u001b[0m \u001b[0;34m=\u001b[0m \u001b[0msingledispatch\u001b[0m\u001b[0;34m(\u001b[0m\u001b[0mfunc\u001b[0m\u001b[0;34m)\u001b[0m\u001b[0;34m\u001b[0m\u001b[0;34m\u001b[0m\u001b[0m\n\u001b[1;32m    157\u001b[0m     \u001b[0;32mdef\u001b[0m \u001b[0mwrapper\u001b[0m\u001b[0;34m(\u001b[0m\u001b[0;34m*\u001b[0m\u001b[0margs\u001b[0m\u001b[0;34m,\u001b[0m \u001b[0;34m**\u001b[0m\u001b[0mkw\u001b[0m\u001b[0;34m)\u001b[0m\u001b[0;34m:\u001b[0m\u001b[0;34m\u001b[0m\u001b[0;34m\u001b[0m\u001b[0m\n\u001b[0;32m--> 158\u001b[0;31m         \u001b[0;32mreturn\u001b[0m \u001b[0mdispatcher\u001b[0m\u001b[0;34m.\u001b[0m\u001b[0mdispatch\u001b[0m\u001b[0;34m(\u001b[0m\u001b[0margs\u001b[0m\u001b[0;34m[\u001b[0m\u001b[0;36m1\u001b[0m\u001b[0;34m]\u001b[0m\u001b[0;34m.\u001b[0m\u001b[0m__class__\u001b[0m\u001b[0;34m)\u001b[0m\u001b[0;34m(\u001b[0m\u001b[0;34m*\u001b[0m\u001b[0margs\u001b[0m\u001b[0;34m,\u001b[0m \u001b[0;34m**\u001b[0m\u001b[0mkw\u001b[0m\u001b[0;34m)\u001b[0m\u001b[0;34m\u001b[0m\u001b[0;34m\u001b[0m\u001b[0m\n\u001b[0m\u001b[1;32m    159\u001b[0m     \u001b[0mwrapper\u001b[0m\u001b[0;34m.\u001b[0m\u001b[0mregister\u001b[0m \u001b[0;34m=\u001b[0m \u001b[0mdispatcher\u001b[0m\u001b[0;34m.\u001b[0m\u001b[0mregister\u001b[0m\u001b[0;34m\u001b[0m\u001b[0;34m\u001b[0m\u001b[0m\n\u001b[1;32m    160\u001b[0m     \u001b[0mupdate_wrapper\u001b[0m\u001b[0;34m(\u001b[0m\u001b[0mwrapper\u001b[0m\u001b[0;34m,\u001b[0m \u001b[0mfunc\u001b[0m\u001b[0;34m)\u001b[0m\u001b[0;34m\u001b[0m\u001b[0;34m\u001b[0m\u001b[0m\n",
      "\u001b[0;32m/media/sf_Dropbox/code/justuse/src/use/use.py\u001b[0m in \u001b[0;36m_use_str\u001b[0;34m(self, name, version, initial_globals, auto_install, hash_algo, hash_value, default, aspectize)\u001b[0m\n\u001b[1;32m    567\u001b[0m         \u001b[0;31m# let's first check if it's installed already somehow\u001b[0m\u001b[0;34m\u001b[0m\u001b[0;34m\u001b[0m\u001b[0;34m\u001b[0m\u001b[0m\n\u001b[1;32m    568\u001b[0m         \u001b[0mspec\u001b[0m \u001b[0;34m=\u001b[0m \u001b[0mimportlib\u001b[0m\u001b[0;34m.\u001b[0m\u001b[0mmachinery\u001b[0m\u001b[0;34m.\u001b[0m\u001b[0mPathFinder\u001b[0m\u001b[0;34m.\u001b[0m\u001b[0mfind_spec\u001b[0m\u001b[0;34m(\u001b[0m\u001b[0mname\u001b[0m\u001b[0;34m)\u001b[0m\u001b[0;34m\u001b[0m\u001b[0;34m\u001b[0m\u001b[0m\n\u001b[0;32m--> 569\u001b[0;31m         \u001b[0mic\u001b[0m\u001b[0;34m(\u001b[0m\u001b[0mspec\u001b[0m\u001b[0;34m,\u001b[0m \u001b[0mspec\u001b[0m\u001b[0;34m.\u001b[0m\u001b[0morigin\u001b[0m\u001b[0;34m)\u001b[0m\u001b[0;34m\u001b[0m\u001b[0;34m\u001b[0m\u001b[0m\n\u001b[0m\u001b[1;32m    570\u001b[0m         \u001b[0mic\u001b[0m\u001b[0;34m(\u001b[0m\u001b[0mself\u001b[0m\u001b[0;34m.\u001b[0m\u001b[0mregistry\u001b[0m\u001b[0;34m[\u001b[0m\u001b[0;34m\"distributions\"\u001b[0m\u001b[0;34m]\u001b[0m\u001b[0;34m[\u001b[0m\u001b[0mname\u001b[0m\u001b[0;34m]\u001b[0m\u001b[0;34m)\u001b[0m\u001b[0;34m\u001b[0m\u001b[0;34m\u001b[0m\u001b[0m\n\u001b[1;32m    571\u001b[0m \u001b[0;34m\u001b[0m\u001b[0m\n",
      "\u001b[0;31mAttributeError\u001b[0m: 'NoneType' object has no attribute 'origin'"
     ]
    }
   ],
   "source": [
    "use(\"itertools\")"
   ]
  },
  {
   "cell_type": "code",
   "execution_count": 3,
   "metadata": {
    "execution": {
     "iopub.execute_input": "2021-06-20T15:41:56.601233Z",
     "iopub.status.busy": "2021-06-20T15:41:56.600624Z",
     "iopub.status.idle": "2021-06-20T15:41:56.608105Z",
     "shell.execute_reply": "2021-06-20T15:41:56.605893Z",
     "shell.execute_reply.started": "2021-06-20T15:41:56.601184Z"
    }
   },
   "outputs": [],
   "source": [
    "from asyncio import get_running_loop"
   ]
  },
  {
   "cell_type": "code",
   "execution_count": 5,
   "metadata": {
    "execution": {
     "iopub.execute_input": "2021-06-22T09:02:22.242825Z",
     "iopub.status.busy": "2021-06-22T09:02:22.242381Z",
     "iopub.status.idle": "2021-06-22T09:02:22.270357Z",
     "shell.execute_reply": "2021-06-22T09:02:22.269199Z",
     "shell.execute_reply.started": "2021-06-22T09:02:22.242790Z"
    }
   },
   "outputs": [
    {
     "name": "stdout",
     "output_type": "stream",
     "text": [
      "FROM /media/sf_Dropbox/code/justuse/tests/modA.py\n",
      "FROM /media/sf_Dropbox/code/justuse/tests/modB.py\n",
      "FROM /media/sf_Dropbox/code/justuse/tests/testsubdir/modC.py\n",
      "FROM /media/sf_Dropbox/code/justuse/tests/modD.py\n",
      "3.8.5 (default, Sep  4 2020, 07:30:14) \n",
      "[GCC 7.3.0]\n",
      "modD CWD: /media/sf_Dropbox/code/justuse/tests\n",
      "FROM /media/sf_Dropbox/code/justuse/tests/modE.py\n",
      "test_modA\n"
     ]
    }
   ],
   "source": [
    "modA = use(use.Path(\"../../tests/modA.py\"))"
   ]
  },
  {
   "cell_type": "code",
   "execution_count": 36,
   "metadata": {
    "execution": {
     "iopub.execute_input": "2021-06-25T09:29:17.116774Z",
     "iopub.status.busy": "2021-06-25T09:29:17.116303Z",
     "iopub.status.idle": "2021-06-25T09:29:25.842982Z",
     "shell.execute_reply": "2021-06-25T09:29:25.841284Z",
     "shell.execute_reply.started": "2021-06-25T09:29:17.116734Z"
    }
   },
   "outputs": [
    {
     "name": "stderr",
     "output_type": "stream",
     "text": [
      "ic| Error: Failed to access the underlying source code for analysis. Was ic() invoked in an interpreter (e.g. python -i), a frozen application (e.g. packaged with PyInstaller), or did the underlying source code change during execution?\n",
      "ic| Error: Failed to access the underlying source code for analysis. Was ic() invoked in an interpreter (e.g. python -i), a frozen application (e.g. packaged with PyInstaller), or did the underlying source code change during execution?\n"
     ]
    },
    {
     "ename": "RuntimeWarning",
     "evalue": "Can't auto-install plotnine without a specific version and corresponding hash value",
     "output_type": "error",
     "traceback": [
      "\u001b[0;31m---------------------------------------------------------------------------\u001b[0m",
      "\u001b[0;31mRuntimeWarning\u001b[0m                            Traceback (most recent call last)",
      "\u001b[0;32m<ipython-input-36-d8d8c4c205ef>\u001b[0m in \u001b[0;36m<module>\u001b[0;34m\u001b[0m\n\u001b[0;32m----> 1\u001b[0;31m \u001b[0mp9\u001b[0m \u001b[0;34m=\u001b[0m \u001b[0muse\u001b[0m\u001b[0;34m(\u001b[0m\u001b[0;34m\"plotnine\"\u001b[0m\u001b[0;34m,\u001b[0m \u001b[0mversion\u001b[0m\u001b[0;34m=\u001b[0m\u001b[0;34m\"0.7.1\"\u001b[0m\u001b[0;34m)\u001b[0m\u001b[0;34m\u001b[0m\u001b[0;34m\u001b[0m\u001b[0m\n\u001b[0m",
      "\u001b[0;32m/media/sf_Dropbox/code/justuse/src/use/use.py\u001b[0m in \u001b[0;36mwrapper\u001b[0;34m(*args, **kw)\u001b[0m\n\u001b[1;32m    156\u001b[0m \u001b[0;34m\u001b[0m\u001b[0m\n\u001b[1;32m    157\u001b[0m \u001b[0;32mdef\u001b[0m \u001b[0mmethdispatch\u001b[0m\u001b[0;34m(\u001b[0m\u001b[0mfunc\u001b[0m\u001b[0;34m)\u001b[0m\u001b[0;34m:\u001b[0m\u001b[0;34m\u001b[0m\u001b[0;34m\u001b[0m\u001b[0m\n\u001b[0;32m--> 158\u001b[0;31m     \u001b[0mdispatcher\u001b[0m \u001b[0;34m=\u001b[0m \u001b[0msingledispatch\u001b[0m\u001b[0;34m(\u001b[0m\u001b[0mfunc\u001b[0m\u001b[0;34m)\u001b[0m\u001b[0;34m\u001b[0m\u001b[0;34m\u001b[0m\u001b[0m\n\u001b[0m\u001b[1;32m    159\u001b[0m     \u001b[0;32mdef\u001b[0m \u001b[0mwrapper\u001b[0m\u001b[0;34m(\u001b[0m\u001b[0;34m*\u001b[0m\u001b[0margs\u001b[0m\u001b[0;34m,\u001b[0m \u001b[0;34m**\u001b[0m\u001b[0mkw\u001b[0m\u001b[0;34m)\u001b[0m\u001b[0;34m:\u001b[0m\u001b[0;34m\u001b[0m\u001b[0;34m\u001b[0m\u001b[0m\n\u001b[1;32m    160\u001b[0m         \u001b[0;32mreturn\u001b[0m \u001b[0mdispatcher\u001b[0m\u001b[0;34m.\u001b[0m\u001b[0mdispatch\u001b[0m\u001b[0;34m(\u001b[0m\u001b[0margs\u001b[0m\u001b[0;34m[\u001b[0m\u001b[0;36m1\u001b[0m\u001b[0;34m]\u001b[0m\u001b[0;34m.\u001b[0m\u001b[0m__class__\u001b[0m\u001b[0;34m)\u001b[0m\u001b[0;34m(\u001b[0m\u001b[0;34m*\u001b[0m\u001b[0margs\u001b[0m\u001b[0;34m,\u001b[0m \u001b[0;34m**\u001b[0m\u001b[0mkw\u001b[0m\u001b[0;34m)\u001b[0m\u001b[0;34m\u001b[0m\u001b[0;34m\u001b[0m\u001b[0m\n",
      "\u001b[0;32m/media/sf_Dropbox/code/justuse/src/use/use.py\u001b[0m in \u001b[0;36m_use_str\u001b[0;34m(self, name, version, initial_globals, auto_install, hash_algo, hash_value, default, aspectize)\u001b[0m\n\u001b[1;32m    600\u001b[0m         \u001b[0minitial_globals\u001b[0m \u001b[0;34m=\u001b[0m \u001b[0minitial_globals\u001b[0m \u001b[0;32mor\u001b[0m \u001b[0;34m{\u001b[0m\u001b[0;34m}\u001b[0m\u001b[0;34m\u001b[0m\u001b[0;34m\u001b[0m\u001b[0m\n\u001b[1;32m    601\u001b[0m         \u001b[0maspectize\u001b[0m \u001b[0;34m=\u001b[0m \u001b[0maspectize\u001b[0m \u001b[0;32mor\u001b[0m \u001b[0;34m{\u001b[0m\u001b[0;34m}\u001b[0m\u001b[0;34m\u001b[0m\u001b[0;34m\u001b[0m\u001b[0m\n\u001b[0;32m--> 602\u001b[0;31m         \u001b[0mtarget_version\u001b[0m \u001b[0;34m=\u001b[0m \u001b[0mparse\u001b[0m\u001b[0;34m(\u001b[0m\u001b[0mstr\u001b[0m\u001b[0;34m(\u001b[0m\u001b[0mversion\u001b[0m\u001b[0;34m)\u001b[0m\u001b[0;34m)\u001b[0m\u001b[0;34m\u001b[0m\u001b[0;34m\u001b[0m\u001b[0m\n\u001b[0m\u001b[1;32m    603\u001b[0m         \u001b[0mexc\u001b[0m \u001b[0;34m=\u001b[0m \u001b[0;32mNone\u001b[0m\u001b[0;34m\u001b[0m\u001b[0;34m\u001b[0m\u001b[0m\n\u001b[1;32m    604\u001b[0m \u001b[0;34m\u001b[0m\u001b[0m\n",
      "\u001b[0;31mRuntimeWarning\u001b[0m: Can't auto-install plotnine without a specific version and corresponding hash value"
     ]
    }
   ],
   "source": [
    "p9 = use(\"plotnine\", version=\"0.7.1\")"
   ]
  },
  {
   "cell_type": "code",
   "execution_count": 5,
   "metadata": {
    "execution": {
     "iopub.execute_input": "2021-06-20T15:41:56.686165Z",
     "iopub.status.busy": "2021-06-20T15:41:56.685042Z",
     "iopub.status.idle": "2021-06-20T15:41:56.722962Z",
     "shell.execute_reply": "2021-06-20T15:41:56.721070Z",
     "shell.execute_reply.started": "2021-06-20T15:41:56.686079Z"
    }
   },
   "outputs": [
    {
     "data": {
      "text/plain": [
       "68"
      ]
     },
     "execution_count": 5,
     "metadata": {},
     "output_type": "execute_result"
    }
   ],
   "source": [
    "modA.foo(34)"
   ]
  },
  {
   "cell_type": "code",
   "execution_count": 6,
   "metadata": {
    "execution": {
     "iopub.execute_input": "2021-06-20T15:41:56.727338Z",
     "iopub.status.busy": "2021-06-20T15:41:56.725833Z",
     "iopub.status.idle": "2021-06-20T15:41:56.945219Z",
     "shell.execute_reply": "2021-06-20T15:41:56.939679Z",
     "shell.execute_reply.started": "2021-06-20T15:41:56.727244Z"
    }
   },
   "outputs": [
    {
     "ename": "AttributeError",
     "evalue": "sha256",
     "output_type": "error",
     "traceback": [
      "\u001b[0;31m---------------------------------------------------------------------------\u001b[0m",
      "\u001b[0;31mAttributeError\u001b[0m                            Traceback (most recent call last)",
      "\u001b[0;32m<ipython-input-6-382399ee53a7>\u001b[0m in \u001b[0;36m<module>\u001b[0;34m\u001b[0m\n\u001b[1;32m      1\u001b[0m utils = use(use.URL(\"https://raw.githubusercontent.com/PIA-Group/BioSPPy/7696d682dc3aafc898cd9161f946ea87db4fed7f/biosppy/utils.py\"),\n\u001b[0;32m----> 2\u001b[0;31m                     hash_value=\"95f98f25ef8cfa0102642ea5babbe6dde3e3a19d411db9164af53a9b4cdcccd8\", hash_algo=use.mode.sha256)\n\u001b[0m",
      "\u001b[0;32m~/anaconda3/lib/python3.8/enum.py\u001b[0m in \u001b[0;36m__getattr__\u001b[0;34m(cls, name)\u001b[0m\n\u001b[1;32m    344\u001b[0m             \u001b[0;32mreturn\u001b[0m \u001b[0mcls\u001b[0m\u001b[0;34m.\u001b[0m\u001b[0m_member_map_\u001b[0m\u001b[0;34m[\u001b[0m\u001b[0mname\u001b[0m\u001b[0;34m]\u001b[0m\u001b[0;34m\u001b[0m\u001b[0;34m\u001b[0m\u001b[0m\n\u001b[1;32m    345\u001b[0m         \u001b[0;32mexcept\u001b[0m \u001b[0mKeyError\u001b[0m\u001b[0;34m:\u001b[0m\u001b[0;34m\u001b[0m\u001b[0;34m\u001b[0m\u001b[0m\n\u001b[0;32m--> 346\u001b[0;31m             \u001b[0;32mraise\u001b[0m \u001b[0mAttributeError\u001b[0m\u001b[0;34m(\u001b[0m\u001b[0mname\u001b[0m\u001b[0;34m)\u001b[0m \u001b[0;32mfrom\u001b[0m \u001b[0;32mNone\u001b[0m\u001b[0;34m\u001b[0m\u001b[0;34m\u001b[0m\u001b[0m\n\u001b[0m\u001b[1;32m    347\u001b[0m \u001b[0;34m\u001b[0m\u001b[0m\n\u001b[1;32m    348\u001b[0m     \u001b[0;32mdef\u001b[0m \u001b[0m__getitem__\u001b[0m\u001b[0;34m(\u001b[0m\u001b[0mcls\u001b[0m\u001b[0;34m,\u001b[0m \u001b[0mname\u001b[0m\u001b[0;34m)\u001b[0m\u001b[0;34m:\u001b[0m\u001b[0;34m\u001b[0m\u001b[0;34m\u001b[0m\u001b[0m\n",
      "\u001b[0;31mAttributeError\u001b[0m: sha256"
     ]
    }
   ],
   "source": [
    "utils = use(use.URL(\"https://raw.githubusercontent.com/PIA-Group/BioSPPy/7696d682dc3aafc898cd9161f946ea87db4fed7f/biosppy/utils.py\"),\n",
    "                    hash_value=\"95f98f25ef8cfa0102642ea5babbe6dde3e3a19d411db9164af53a9b4cdcccd8\", hash_algo=use.mode.sha256)"
   ]
  },
  {
   "cell_type": "code",
   "execution_count": null,
   "metadata": {
    "execution": {
     "iopub.status.busy": "2021-06-20T15:41:56.947270Z",
     "iopub.status.idle": "2021-06-20T15:41:56.949209Z"
    }
   },
   "outputs": [],
   "source": [
    "import sys, os"
   ]
  },
  {
   "cell_type": "code",
   "execution_count": null,
   "metadata": {
    "execution": {
     "iopub.status.busy": "2021-06-20T15:41:56.950863Z",
     "iopub.status.idle": "2021-06-20T15:41:56.951781Z"
    }
   },
   "outputs": [],
   "source": [
    "sys.prefix"
   ]
  },
  {
   "cell_type": "code",
   "execution_count": null,
   "metadata": {
    "execution": {
     "iopub.status.busy": "2021-06-20T15:41:56.953568Z",
     "iopub.status.idle": "2021-06-20T15:41:56.954607Z"
    }
   },
   "outputs": [],
   "source": [
    "sys.base_prefix"
   ]
  },
  {
   "cell_type": "code",
   "execution_count": null,
   "metadata": {
    "execution": {
     "iopub.status.busy": "2021-06-20T15:41:56.956117Z",
     "iopub.status.idle": "2021-06-20T15:41:56.957183Z"
    }
   },
   "outputs": [],
   "source": [
    "def is_venv(): \n",
    "    return hasattr(sys, 'real_prefix') or sys.base_prefix != sys.prefix"
   ]
  },
  {
   "cell_type": "code",
   "execution_count": null,
   "metadata": {
    "execution": {
     "iopub.status.busy": "2021-06-20T15:41:56.959050Z",
     "iopub.status.idle": "2021-06-20T15:41:56.959754Z"
    }
   },
   "outputs": [],
   "source": [
    "is_venv()"
   ]
  },
  {
   "cell_type": "code",
   "execution_count": null,
   "metadata": {
    "execution": {
     "iopub.status.busy": "2021-06-20T15:41:56.961119Z",
     "iopub.status.idle": "2021-06-20T15:41:56.961982Z"
    }
   },
   "outputs": [],
   "source": [
    "import requests"
   ]
  },
  {
   "cell_type": "code",
   "execution_count": null,
   "metadata": {
    "execution": {
     "iopub.status.busy": "2021-06-20T15:41:56.963437Z",
     "iopub.status.idle": "2021-06-20T15:41:56.964516Z"
    }
   },
   "outputs": [],
   "source": [
    "response = requests.get(\"https://pypi.org/pypi/requests/2.6.0/json\")"
   ]
  },
  {
   "cell_type": "code",
   "execution_count": null,
   "metadata": {
    "execution": {
     "iopub.status.busy": "2021-06-20T15:41:56.967092Z",
     "iopub.status.idle": "2021-06-20T15:41:56.968227Z"
    }
   },
   "outputs": [],
   "source": [
    "response"
   ]
  },
  {
   "cell_type": "code",
   "execution_count": null,
   "metadata": {
    "execution": {
     "iopub.status.busy": "2021-06-20T15:41:56.970468Z",
     "iopub.status.idle": "2021-06-20T15:41:56.971563Z"
    }
   },
   "outputs": [],
   "source": [
    "from enum import Enum\n",
    "\n",
    "mode = Enum(\"Mode\", \"sha256\")"
   ]
  },
  {
   "cell_type": "code",
   "execution_count": null,
   "metadata": {
    "execution": {
     "iopub.status.busy": "2021-06-20T15:41:56.978125Z",
     "iopub.status.idle": "2021-06-20T15:41:56.979313Z"
    }
   },
   "outputs": [],
   "source": [
    "import importlib"
   ]
  },
  {
   "cell_type": "code",
   "execution_count": null,
   "metadata": {
    "execution": {
     "iopub.status.busy": "2021-06-20T15:41:56.981911Z",
     "iopub.status.idle": "2021-06-20T15:41:56.983162Z"
    }
   },
   "outputs": [],
   "source": [
    "importlib.machinery.PathFinder.find_spec(\"requests\")"
   ]
  },
  {
   "cell_type": "code",
   "execution_count": null,
   "metadata": {
    "execution": {
     "iopub.status.busy": "2021-06-20T15:41:56.985100Z",
     "iopub.status.idle": "2021-06-20T15:41:56.986602Z"
    }
   },
   "outputs": [],
   "source": [
    "mode.sha256.name"
   ]
  },
  {
   "cell_type": "code",
   "execution_count": null,
   "metadata": {
    "execution": {
     "iopub.status.busy": "2021-06-20T15:41:56.993823Z",
     "iopub.status.idle": "2021-06-20T15:41:56.995096Z"
    }
   },
   "outputs": [],
   "source": [
    "response.json()[\"urls\"]"
   ]
  },
  {
   "cell_type": "code",
   "execution_count": null,
   "metadata": {
    "execution": {
     "iopub.status.busy": "2021-06-20T15:41:56.996935Z",
     "iopub.status.idle": "2021-06-20T15:41:56.998212Z"
    }
   },
   "outputs": [],
   "source": [
    "response[\"urls\"]"
   ]
  },
  {
   "cell_type": "code",
   "execution_count": null,
   "metadata": {
    "execution": {
     "iopub.status.busy": "2021-06-20T15:41:57.000150Z",
     "iopub.status.idle": "2021-06-20T15:41:57.001435Z"
    }
   },
   "outputs": [],
   "source": [
    "response"
   ]
  },
  {
   "cell_type": "code",
   "execution_count": null,
   "metadata": {
    "execution": {
     "iopub.status.busy": "2021-06-20T15:41:57.007522Z",
     "iopub.status.idle": "2021-06-20T15:41:57.009273Z"
    }
   },
   "outputs": [],
   "source": [
    "response.json()[\"releases\"][\"2.6.0\"][0][\"url\"]"
   ]
  },
  {
   "cell_type": "code",
   "execution_count": null,
   "metadata": {
    "execution": {
     "iopub.status.busy": "2021-06-20T15:41:57.011979Z",
     "iopub.status.idle": "2021-06-20T15:41:57.013763Z"
    }
   },
   "outputs": [],
   "source": [
    "r = requests.get('https://files.pythonhosted.org/packages/73/63/b0729be549494a3e31316437053bc4e0a8bb71a07a6ee6059434b8f1cd5f/requests-2.6.0-py2.py3-none-any.whl', allow_redirects=True)\n",
    "with open(\"testfile.whl\", \"wb\") as file:\n",
    "    file.write(r.content)"
   ]
  },
  {
   "cell_type": "code",
   "execution_count": null,
   "metadata": {},
   "outputs": [],
   "source": []
  },
  {
   "cell_type": "code",
   "execution_count": null,
   "metadata": {
    "execution": {
     "iopub.status.busy": "2021-06-20T15:41:57.016333Z",
     "iopub.status.idle": "2021-06-20T15:41:57.018761Z"
    },
    "tags": []
   },
   "outputs": [],
   "source": [
    "response.json()"
   ]
  },
  {
   "cell_type": "code",
   "execution_count": null,
   "metadata": {
    "execution": {
     "iopub.status.busy": "2021-06-20T15:41:57.021616Z",
     "iopub.status.idle": "2021-06-20T15:41:57.023559Z"
    }
   },
   "outputs": [],
   "source": [
    "%cd src"
   ]
  },
  {
   "cell_type": "code",
   "execution_count": null,
   "metadata": {
    "execution": {
     "iopub.status.busy": "2021-06-20T15:41:57.025972Z",
     "iopub.status.idle": "2021-06-20T15:41:57.027595Z"
    }
   },
   "outputs": [],
   "source": [
    "import use"
   ]
  },
  {
   "cell_type": "code",
   "execution_count": null,
   "metadata": {
    "execution": {
     "iopub.status.busy": "2021-06-20T15:41:57.030188Z",
     "iopub.status.idle": "2021-06-20T15:41:57.031990Z"
    }
   },
   "outputs": [],
   "source": [
    "def decorator(func):\n",
    "    print(\"decorated\", func)\n",
    "    def wrapper(*args, **kwargs):\n",
    "        print(\"calling\", func)\n",
    "        return func(*args, **kwargs)\n",
    "    return wrapper"
   ]
  },
  {
   "cell_type": "code",
   "execution_count": null,
   "metadata": {
    "execution": {
     "iopub.status.busy": "2021-06-20T15:41:57.034651Z",
     "iopub.status.idle": "2021-06-20T15:41:57.036440Z"
    }
   },
   "outputs": [],
   "source": [
    "from time import monotonic\n",
    "def timeit(func):\n",
    "    print(\"timing:\", func)\n",
    "    def wrapper(*args, **kwargs):\n",
    "        before = monotonic()\n",
    "        res = func(*args, **kwargs)\n",
    "        now = monotonic()\n",
    "        print(\"execution took\", now-before)\n",
    "        return res\n",
    "    return wrapper"
   ]
  },
  {
   "cell_type": "code",
   "execution_count": null,
   "metadata": {
    "execution": {
     "iopub.status.busy": "2021-06-20T15:41:57.038671Z",
     "iopub.status.idle": "2021-06-20T15:41:57.040202Z"
    }
   },
   "outputs": [],
   "source": [
    "def func():\n",
    "    print(\"func\")"
   ]
  },
  {
   "cell_type": "code",
   "execution_count": null,
   "metadata": {
    "execution": {
     "iopub.status.busy": "2021-06-20T15:41:57.042594Z",
     "iopub.status.idle": "2021-06-20T15:41:57.043923Z"
    }
   },
   "outputs": [],
   "source": [
    "f = decorator(func)"
   ]
  },
  {
   "cell_type": "code",
   "execution_count": null,
   "metadata": {
    "execution": {
     "iopub.status.busy": "2021-06-20T15:41:57.046179Z",
     "iopub.status.idle": "2021-06-20T15:41:57.047569Z"
    }
   },
   "outputs": [],
   "source": [
    "f()"
   ]
  },
  {
   "cell_type": "code",
   "execution_count": null,
   "metadata": {
    "execution": {
     "iopub.status.busy": "2021-06-20T15:41:57.049602Z",
     "iopub.status.idle": "2021-06-20T15:41:57.050945Z"
    }
   },
   "outputs": [],
   "source": [
    "import numba"
   ]
  },
  {
   "cell_type": "code",
   "execution_count": null,
   "metadata": {
    "execution": {
     "iopub.status.busy": "2021-06-20T15:41:57.052722Z",
     "iopub.status.idle": "2021-06-20T15:41:57.054329Z"
    }
   },
   "outputs": [],
   "source": [
    "test = use(use.Path(\"../tests/.test1.py\"), aspectize={(use.isfunction, \"\"):decorator})"
   ]
  },
  {
   "cell_type": "code",
   "execution_count": null,
   "metadata": {
    "execution": {
     "iopub.status.busy": "2021-06-20T15:41:57.057063Z",
     "iopub.status.idle": "2021-06-20T15:41:57.058871Z"
    }
   },
   "outputs": [],
   "source": [
    "test.foo(4)"
   ]
  },
  {
   "cell_type": "code",
   "execution_count": 5,
   "metadata": {
    "execution": {
     "iopub.execute_input": "2021-06-23T21:01:43.312593Z",
     "iopub.status.busy": "2021-06-23T21:01:43.312131Z",
     "iopub.status.idle": "2021-06-23T21:01:43.317751Z",
     "shell.execute_reply": "2021-06-23T21:01:43.316277Z",
     "shell.execute_reply.started": "2021-06-23T21:01:43.312532Z"
    }
   },
   "outputs": [],
   "source": [
    "from importlib import metadata\n",
    "from icecream import ic"
   ]
  },
  {
   "cell_type": "code",
   "execution_count": 12,
   "metadata": {
    "execution": {
     "iopub.execute_input": "2021-06-23T19:59:53.284955Z",
     "iopub.status.busy": "2021-06-23T19:59:53.284314Z",
     "iopub.status.idle": "2021-06-23T19:59:53.301461Z",
     "shell.execute_reply": "2021-06-23T19:59:53.300470Z",
     "shell.execute_reply.started": "2021-06-23T19:59:53.284879Z"
    }
   },
   "outputs": [],
   "source": [
    "D = list(metadata.distributions())"
   ]
  },
  {
   "cell_type": "code",
   "execution_count": 13,
   "metadata": {
    "execution": {
     "iopub.execute_input": "2021-06-23T19:59:58.982184Z",
     "iopub.status.busy": "2021-06-23T19:59:58.981692Z",
     "iopub.status.idle": "2021-06-23T19:59:58.986773Z",
     "shell.execute_reply": "2021-06-23T19:59:58.985608Z",
     "shell.execute_reply.started": "2021-06-23T19:59:58.982148Z"
    }
   },
   "outputs": [],
   "source": [
    "x = D[0]"
   ]
  },
  {
   "cell_type": "code",
   "execution_count": 14,
   "metadata": {
    "execution": {
     "iopub.execute_input": "2021-06-23T20:00:03.858709Z",
     "iopub.status.busy": "2021-06-23T20:00:03.858217Z",
     "iopub.status.idle": "2021-06-23T20:00:07.105748Z",
     "shell.execute_reply": "2021-06-23T20:00:07.103878Z",
     "shell.execute_reply.started": "2021-06-23T20:00:03.858674Z"
    }
   },
   "outputs": [
    {
     "data": {
      "text/plain": [
       "['__class__',\n",
       " '__delattr__',\n",
       " '__dict__',\n",
       " '__dir__',\n",
       " '__doc__',\n",
       " '__eq__',\n",
       " '__format__',\n",
       " '__ge__',\n",
       " '__getattribute__',\n",
       " '__gt__',\n",
       " '__hash__',\n",
       " '__init__',\n",
       " '__init_subclass__',\n",
       " '__le__',\n",
       " '__lt__',\n",
       " '__module__',\n",
       " '__ne__',\n",
       " '__new__',\n",
       " '__reduce__',\n",
       " '__reduce_ex__',\n",
       " '__repr__',\n",
       " '__setattr__',\n",
       " '__sizeof__',\n",
       " '__str__',\n",
       " '__subclasshook__',\n",
       " '__weakref__',\n",
       " '_convert_egg_info_reqs_to_simple_reqs',\n",
       " '_deps_from_requires_text',\n",
       " '_discover_resolvers',\n",
       " '_path',\n",
       " '_read_dist_info_reqs',\n",
       " '_read_egg_info_reqs',\n",
       " '_read_files_distinfo',\n",
       " '_read_files_egginfo',\n",
       " '_read_sections',\n",
       " 'at',\n",
       " 'discover',\n",
       " 'entry_points',\n",
       " 'files',\n",
       " 'from_name',\n",
       " 'locate_file',\n",
       " 'metadata',\n",
       " 'read_text',\n",
       " 'requires',\n",
       " 'version']"
      ]
     },
     "execution_count": 14,
     "metadata": {},
     "output_type": "execute_result"
    }
   ],
   "source": [
    "dir(x)"
   ]
  },
  {
   "cell_type": "code",
   "execution_count": 38,
   "metadata": {
    "execution": {
     "iopub.execute_input": "2021-06-23T20:23:06.676240Z",
     "iopub.status.busy": "2021-06-23T20:23:06.675702Z",
     "iopub.status.idle": "2021-06-23T20:23:06.684333Z",
     "shell.execute_reply": "2021-06-23T20:23:06.682682Z",
     "shell.execute_reply.started": "2021-06-23T20:23:06.676199Z"
    }
   },
   "outputs": [
    {
     "data": {
      "text/plain": [
       "PosixPath('/home/thorsten/anaconda3/lib/python3.8/site-packages/backports.tempfile-1.0.dist-info')"
      ]
     },
     "execution_count": 38,
     "metadata": {},
     "output_type": "execute_result"
    }
   ],
   "source": [
    "x._path"
   ]
  },
  {
   "cell_type": "code",
   "execution_count": 7,
   "metadata": {
    "execution": {
     "iopub.execute_input": "2021-06-23T21:02:13.336488Z",
     "iopub.status.busy": "2021-06-23T21:02:13.335925Z",
     "iopub.status.idle": "2021-06-23T21:02:13.931765Z",
     "shell.execute_reply": "2021-06-23T21:02:13.930779Z",
     "shell.execute_reply.started": "2021-06-23T21:02:13.336402Z"
    }
   },
   "outputs": [],
   "source": [
    "from collections import defaultdict\n",
    "\n",
    "registry = {\"version\":\"0.0.1\", \n",
    "           \"distributions\": defaultdict(lambda: list())\n",
    "           }\n",
    "\n",
    "for d in metadata.distributions():\n",
    "    registry[\"distributions\"][d.metadata[\"Name\"]].append({\"version\": d.version, \"path\": d})"
   ]
  },
  {
   "cell_type": "code",
   "execution_count": 9,
   "metadata": {
    "execution": {
     "iopub.execute_input": "2021-06-23T21:02:23.844243Z",
     "iopub.status.busy": "2021-06-23T21:02:23.843559Z",
     "iopub.status.idle": "2021-06-23T21:02:23.851783Z",
     "shell.execute_reply": "2021-06-23T21:02:23.850586Z",
     "shell.execute_reply.started": "2021-06-23T21:02:23.844205Z"
    }
   },
   "outputs": [
    {
     "data": {
      "text/plain": [
       "[{'version': '1.19.2',\n",
       "  'path': <importlib.metadata.PathDistribution at 0x7ffae01712e0>}]"
      ]
     },
     "execution_count": 9,
     "metadata": {},
     "output_type": "execute_result"
    }
   ],
   "source": [
    "registry[\"distributions\"][\"numpy\"]"
   ]
  },
  {
   "cell_type": "code",
   "execution_count": 26,
   "metadata": {
    "execution": {
     "iopub.execute_input": "2021-06-23T20:08:50.721267Z",
     "iopub.status.busy": "2021-06-23T20:08:50.720590Z",
     "iopub.status.idle": "2021-06-23T20:08:50.733124Z",
     "shell.execute_reply": "2021-06-23T20:08:50.731908Z",
     "shell.execute_reply.started": "2021-06-23T20:08:50.721220Z"
    }
   },
   "outputs": [
    {
     "data": {
      "text/plain": [
       "{'Metadata-Version': '2.1',\n",
       " 'Name': 'gevent',\n",
       " 'Version': '20.9.0',\n",
       " 'Summary': 'Coroutine-based network library',\n",
       " 'Home-page': 'http://www.gevent.org/',\n",
       " 'Author': 'Denis Bilenko',\n",
       " 'Author-email': 'denis.bilenko@gmail.com',\n",
       " 'Maintainer': 'Jason Madden',\n",
       " 'Maintainer-email': 'jason@nextthought.com',\n",
       " 'License': 'MIT',\n",
       " 'Project-URL': 'Bug Tracker, https://github.com/gevent/gevent/issues',\n",
       " 'Keywords': 'greenlet coroutine cooperative multitasking light threads monkey',\n",
       " 'Platform': 'UNKNOWN',\n",
       " 'Classifier': 'License :: OSI Approved :: MIT License',\n",
       " 'Requires-Python': '>=2.7,!=3.0.*,!=3.1.*,!=3.2.*,!=3.3.*,!=3.4.*',\n",
       " 'Description-Content-Type': 'text/x-rst',\n",
       " 'Requires-Dist': 'zope.event',\n",
       " 'Provides-Extra': 'dnspython'}"
      ]
     },
     "execution_count": 26,
     "metadata": {},
     "output_type": "execute_result"
    }
   ],
   "source": [
    "dict(x.metadata)"
   ]
  },
  {
   "cell_type": "code",
   "execution_count": 57,
   "metadata": {
    "execution": {
     "iopub.execute_input": "2021-06-23T20:28:43.194622Z",
     "iopub.status.busy": "2021-06-23T20:28:43.194195Z",
     "iopub.status.idle": "2021-06-23T20:28:43.232192Z",
     "shell.execute_reply": "2021-06-23T20:28:43.230685Z",
     "shell.execute_reply.started": "2021-06-23T20:28:43.194585Z"
    }
   },
   "outputs": [
    {
     "name": "stdout",
     "output_type": "stream",
     "text": [
      "<importlib.metadata.PathDistribution object at 0x7f5217caa3a0>\n",
      "<importlib.metadata.PathDistribution object at 0x7f5217caa3a0>\n",
      "<importlib.metadata.PathDistribution object at 0x7f5217caa3a0>\n",
      "<importlib.metadata.PathDistribution object at 0x7f5217caa3a0>\n",
      "<importlib.metadata.PathDistribution object at 0x7f5217caa3a0>\n",
      "<importlib.metadata.PathDistribution object at 0x7f5217caa3a0>\n",
      "<importlib.metadata.PathDistribution object at 0x7f5217caa3a0>\n",
      "<importlib.metadata.PathDistribution object at 0x7f5217caa3a0>\n",
      "<importlib.metadata.PathDistribution object at 0x7f5217caa3a0>\n",
      "<importlib.metadata.PathDistribution object at 0x7f5217caa3a0>\n"
     ]
    }
   ],
   "source": [
    "for y in x.files:\n",
    "    print(y.dist)"
   ]
  },
  {
   "cell_type": "code",
   "execution_count": 47,
   "metadata": {
    "execution": {
     "iopub.execute_input": "2021-06-23T20:25:47.273018Z",
     "iopub.status.busy": "2021-06-23T20:25:47.272349Z",
     "iopub.status.idle": "2021-06-23T20:25:47.279326Z",
     "shell.execute_reply": "2021-06-23T20:25:47.277971Z",
     "shell.execute_reply.started": "2021-06-23T20:25:47.272966Z"
    }
   },
   "outputs": [],
   "source": [
    "y = x.files[0]"
   ]
  },
  {
   "cell_type": "code",
   "execution_count": 56,
   "metadata": {
    "execution": {
     "iopub.execute_input": "2021-06-23T20:28:07.858907Z",
     "iopub.status.busy": "2021-06-23T20:28:07.858384Z",
     "iopub.status.idle": "2021-06-23T20:28:07.873077Z",
     "shell.execute_reply": "2021-06-23T20:28:07.871435Z",
     "shell.execute_reply.started": "2021-06-23T20:28:07.858865Z"
    }
   },
   "outputs": [
    {
     "data": {
      "text/plain": [
       "<importlib.metadata.PathDistribution at 0x7f5217caa3a0>"
      ]
     },
     "execution_count": 56,
     "metadata": {},
     "output_type": "execute_result"
    }
   ],
   "source": [
    "y.dist"
   ]
  },
  {
   "cell_type": "code",
   "execution_count": 50,
   "metadata": {
    "execution": {
     "iopub.execute_input": "2021-06-23T20:25:55.862207Z",
     "iopub.status.busy": "2021-06-23T20:25:55.861770Z",
     "iopub.status.idle": "2021-06-23T20:25:55.877768Z",
     "shell.execute_reply": "2021-06-23T20:25:55.876332Z",
     "shell.execute_reply.started": "2021-06-23T20:25:55.862171Z"
    }
   },
   "outputs": [
    {
     "data": {
      "text/plain": [
       "['__bytes__',\n",
       " '__class__',\n",
       " '__delattr__',\n",
       " '__dict__',\n",
       " '__dir__',\n",
       " '__doc__',\n",
       " '__eq__',\n",
       " '__format__',\n",
       " '__fspath__',\n",
       " '__ge__',\n",
       " '__getattribute__',\n",
       " '__gt__',\n",
       " '__hash__',\n",
       " '__init__',\n",
       " '__init_subclass__',\n",
       " '__le__',\n",
       " '__lt__',\n",
       " '__module__',\n",
       " '__ne__',\n",
       " '__new__',\n",
       " '__reduce__',\n",
       " '__reduce_ex__',\n",
       " '__repr__',\n",
       " '__rtruediv__',\n",
       " '__setattr__',\n",
       " '__sizeof__',\n",
       " '__slots__',\n",
       " '__str__',\n",
       " '__subclasshook__',\n",
       " '__truediv__',\n",
       " '__weakref__',\n",
       " '_cached_cparts',\n",
       " '_cparts',\n",
       " '_drv',\n",
       " '_flavour',\n",
       " '_format_parsed_parts',\n",
       " '_from_parsed_parts',\n",
       " '_from_parts',\n",
       " '_hash',\n",
       " '_init',\n",
       " '_make_child',\n",
       " '_parse_args',\n",
       " '_parts',\n",
       " '_pparts',\n",
       " '_root',\n",
       " '_str',\n",
       " 'anchor',\n",
       " 'as_posix',\n",
       " 'as_uri',\n",
       " 'dist',\n",
       " 'drive',\n",
       " 'hash',\n",
       " 'is_absolute',\n",
       " 'is_reserved',\n",
       " 'joinpath',\n",
       " 'locate',\n",
       " 'match',\n",
       " 'name',\n",
       " 'parent',\n",
       " 'parents',\n",
       " 'parts',\n",
       " 'read_binary',\n",
       " 'read_text',\n",
       " 'relative_to',\n",
       " 'root',\n",
       " 'size',\n",
       " 'stem',\n",
       " 'suffix',\n",
       " 'suffixes',\n",
       " 'with_name',\n",
       " 'with_suffix']"
      ]
     },
     "execution_count": 50,
     "metadata": {},
     "output_type": "execute_result"
    }
   ],
   "source": [
    "dir(y)"
   ]
  },
  {
   "cell_type": "code",
   "execution_count": 4,
   "metadata": {
    "execution": {
     "iopub.execute_input": "2021-06-23T21:01:32.703936Z",
     "iopub.status.busy": "2021-06-23T21:01:32.703445Z",
     "iopub.status.idle": "2021-06-23T21:01:32.719698Z",
     "shell.execute_reply": "2021-06-23T21:01:32.716999Z",
     "shell.execute_reply.started": "2021-06-23T21:01:32.703894Z"
    }
   },
   "outputs": [
    {
     "ename": "NameError",
     "evalue": "name 'metadata' is not defined",
     "output_type": "error",
     "traceback": [
      "\u001b[0;31m---------------------------------------------------------------------------\u001b[0m",
      "\u001b[0;31mNameError\u001b[0m                                 Traceback (most recent call last)",
      "\u001b[0;32m<ipython-input-4-f289703825bb>\u001b[0m in \u001b[0;36m<module>\u001b[0;34m\u001b[0m\n\u001b[0;32m----> 1\u001b[0;31m \u001b[0;32mfor\u001b[0m \u001b[0my\u001b[0m \u001b[0;32min\u001b[0m \u001b[0mmetadata\u001b[0m\u001b[0;34m.\u001b[0m\u001b[0mdistributions\u001b[0m\u001b[0;34m(\u001b[0m\u001b[0;34m)\u001b[0m\u001b[0;34m:\u001b[0m\u001b[0;34m\u001b[0m\u001b[0;34m\u001b[0m\u001b[0m\n\u001b[0m\u001b[1;32m      2\u001b[0m     \u001b[0mprint\u001b[0m\u001b[0;34m(\u001b[0m\u001b[0my\u001b[0m\u001b[0;34m.\u001b[0m\u001b[0mname\u001b[0m\u001b[0;34m)\u001b[0m\u001b[0;34m\u001b[0m\u001b[0;34m\u001b[0m\u001b[0m\n",
      "\u001b[0;31mNameError\u001b[0m: name 'metadata' is not defined"
     ]
    }
   ],
   "source": [
    "for y in metadata.distributions():\n",
    "    print(y.name)"
   ]
  }
 ],
 "metadata": {
  "kernelspec": {
   "display_name": "Python 3",
   "language": "python",
   "name": "python3"
  },
  "language_info": {
   "codemirror_mode": {
    "name": "ipython",
    "version": 3
   },
   "file_extension": ".py",
   "mimetype": "text/x-python",
   "name": "python",
   "nbconvert_exporter": "python",
   "pygments_lexer": "ipython3",
   "version": "3.8.5"
  }
 },
 "nbformat": 4,
 "nbformat_minor": 5
}
