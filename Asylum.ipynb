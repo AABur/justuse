{
 "cells": [
  {
   "cell_type": "markdown",
   "metadata": {},
   "source": [
    "# Welcome to the Asylum"
   ]
  },
  {
   "cell_type": "code",
   "execution_count": 1,
   "metadata": {
    "execution": {
     "iopub.execute_input": "2021-06-24T09:03:15.696881Z",
     "iopub.status.busy": "2021-06-24T09:03:15.696235Z",
     "iopub.status.idle": "2021-06-24T09:03:15.708826Z",
     "shell.execute_reply": "2021-06-24T09:03:15.706911Z",
     "shell.execute_reply.started": "2021-06-24T09:03:15.696772Z"
    }
   },
   "outputs": [
    {
     "name": "stdout",
     "output_type": "stream",
     "text": [
      "/media/sf_Dropbox/code/justuse/src/use\n"
     ]
    }
   ],
   "source": [
    "%cd src/use"
   ]
  },
  {
   "cell_type": "code",
   "execution_count": 2,
   "metadata": {
    "execution": {
     "iopub.execute_input": "2021-06-24T09:03:15.882970Z",
     "iopub.status.busy": "2021-06-24T09:03:15.882290Z",
     "iopub.status.idle": "2021-06-24T09:03:16.876009Z",
     "shell.execute_reply": "2021-06-24T09:03:16.874975Z",
     "shell.execute_reply.started": "2021-06-24T09:03:15.882896Z"
    }
   },
   "outputs": [],
   "source": [
    "import use"
   ]
  },
  {
   "cell_type": "code",
   "execution_count": 29,
   "metadata": {
    "execution": {
     "iopub.execute_input": "2021-06-24T10:18:04.520817Z",
     "iopub.status.busy": "2021-06-24T10:18:04.520317Z",
     "iopub.status.idle": "2021-06-24T10:18:04.531208Z",
     "shell.execute_reply": "2021-06-24T10:18:04.529964Z",
     "shell.execute_reply.started": "2021-06-24T10:18:04.520772Z"
    }
   },
   "outputs": [],
   "source": [
    "from importlib.util import find_spec"
   ]
  },
  {
   "cell_type": "code",
   "execution_count": null,
   "metadata": {},
   "outputs": [],
   "source": []
  },
  {
   "cell_type": "code",
   "execution_count": null,
   "metadata": {},
   "outputs": [],
   "source": []
  },
  {
   "cell_type": "code",
   "execution_count": 32,
   "metadata": {
    "execution": {
     "iopub.execute_input": "2021-06-24T10:18:27.480842Z",
     "iopub.status.busy": "2021-06-24T10:18:27.480160Z",
     "iopub.status.idle": "2021-06-24T10:18:27.488261Z",
     "shell.execute_reply": "2021-06-24T10:18:27.487268Z",
     "shell.execute_reply.started": "2021-06-24T10:18:27.480799Z"
    }
   },
   "outputs": [
    {
     "data": {
      "text/plain": [
       "ModuleSpec(name='numpy', loader=<_frozen_importlib_external.SourceFileLoader object at 0x7fccee0f4fa0>, origin='/home/thorsten/anaconda3/lib/python3.8/site-packages/numpy/__init__.py', submodule_search_locations=['/home/thorsten/anaconda3/lib/python3.8/site-packages/numpy'])"
      ]
     },
     "execution_count": 32,
     "metadata": {},
     "output_type": "execute_result"
    }
   ],
   "source": [
    "spec = find_spec(\"numpy\")\n",
    "spec"
   ]
  },
  {
   "cell_type": "code",
   "execution_count": 10,
   "metadata": {
    "execution": {
     "iopub.execute_input": "2021-06-24T09:03:55.719601Z",
     "iopub.status.busy": "2021-06-24T09:03:55.719165Z",
     "iopub.status.idle": "2021-06-24T09:03:55.727158Z",
     "shell.execute_reply": "2021-06-24T09:03:55.725735Z",
     "shell.execute_reply.started": "2021-06-24T09:03:55.719564Z"
    }
   },
   "outputs": [
    {
     "data": {
      "text/plain": [
       "<module 'itertools'>"
      ]
     },
     "execution_count": 10,
     "metadata": {},
     "output_type": "execute_result"
    }
   ],
   "source": [
    "spec.loader.create_module(spec)"
   ]
  },
  {
   "cell_type": "code",
   "execution_count": 15,
   "metadata": {
    "execution": {
     "iopub.execute_input": "2021-06-24T09:17:05.853434Z",
     "iopub.status.busy": "2021-06-24T09:17:05.852930Z",
     "iopub.status.idle": "2021-06-24T09:17:05.864371Z",
     "shell.execute_reply": "2021-06-24T09:17:05.863131Z",
     "shell.execute_reply.started": "2021-06-24T09:17:05.853383Z"
    }
   },
   "outputs": [],
   "source": [
    "mod = spec.loader.exec_module(spec.loader.create_module(spec))"
   ]
  },
  {
   "cell_type": "code",
   "execution_count": 19,
   "metadata": {
    "execution": {
     "iopub.execute_input": "2021-06-24T09:17:45.121169Z",
     "iopub.status.busy": "2021-06-24T09:17:45.120408Z",
     "iopub.status.idle": "2021-06-24T09:17:45.127408Z",
     "shell.execute_reply": "2021-06-24T09:17:45.126348Z",
     "shell.execute_reply.started": "2021-06-24T09:17:45.121109Z"
    }
   },
   "outputs": [
    {
     "data": {
      "text/plain": [
       "\u001b[0;31mSignature:\u001b[0m \u001b[0mspec\u001b[0m\u001b[0;34m.\u001b[0m\u001b[0mloader\u001b[0m\u001b[0;34m.\u001b[0m\u001b[0mexec_module\u001b[0m\u001b[0;34m(\u001b[0m\u001b[0mmodule\u001b[0m\u001b[0;34m)\u001b[0m\u001b[0;34m\u001b[0m\u001b[0;34m\u001b[0m\u001b[0m\n",
       "\u001b[0;31mDocstring:\u001b[0m Exec a built-in module\n",
       "\u001b[0;31mFile:\u001b[0m      /media/sf_Dropbox/code/justuse/src/use/<frozen importlib._bootstrap>\n",
       "\u001b[0;31mType:\u001b[0m      method\n"
      ]
     },
     "metadata": {},
     "output_type": "display_data"
    }
   ],
   "source": [
    "spec.loader.exec_module?"
   ]
  },
  {
   "cell_type": "code",
   "execution_count": 20,
   "metadata": {
    "execution": {
     "iopub.execute_input": "2021-06-24T09:46:12.587901Z",
     "iopub.status.busy": "2021-06-24T09:46:12.587485Z",
     "iopub.status.idle": "2021-06-24T09:46:12.591707Z",
     "shell.execute_reply": "2021-06-24T09:46:12.590763Z",
     "shell.execute_reply.started": "2021-06-24T09:46:12.587866Z"
    }
   },
   "outputs": [],
   "source": [
    "import importlib"
   ]
  },
  {
   "cell_type": "code",
   "execution_count": 16,
   "metadata": {
    "execution": {
     "iopub.execute_input": "2021-06-24T09:17:10.085195Z",
     "iopub.status.busy": "2021-06-24T09:17:10.084726Z",
     "iopub.status.idle": "2021-06-24T09:17:10.275860Z",
     "shell.execute_reply": "2021-06-24T09:17:10.274455Z",
     "shell.execute_reply.started": "2021-06-24T09:17:10.085158Z"
    }
   },
   "outputs": [
    {
     "ename": "NameError",
     "evalue": "name 'itertools' is not defined",
     "output_type": "error",
     "traceback": [
      "\u001b[0;31m---------------------------------------------------------------------------\u001b[0m",
      "\u001b[0;31mNameError\u001b[0m                                 Traceback (most recent call last)",
      "\u001b[0;32m<ipython-input-16-2228fcc29a1f>\u001b[0m in \u001b[0;36m<module>\u001b[0;34m\u001b[0m\n\u001b[0;32m----> 1\u001b[0;31m \u001b[0mitertools\u001b[0m\u001b[0;34m\u001b[0m\u001b[0;34m\u001b[0m\u001b[0m\n\u001b[0m",
      "\u001b[0;31mNameError\u001b[0m: name 'itertools' is not defined"
     ]
    }
   ],
   "source": [
    "itertools"
   ]
  },
  {
   "cell_type": "code",
   "execution_count": 35,
   "metadata": {
    "execution": {
     "iopub.execute_input": "2021-06-24T12:20:29.717350Z",
     "iopub.status.busy": "2021-06-24T12:20:29.716737Z",
     "iopub.status.idle": "2021-06-24T12:20:29.730930Z",
     "shell.execute_reply": "2021-06-24T12:20:29.729054Z",
     "shell.execute_reply.started": "2021-06-24T12:20:29.717288Z"
    }
   },
   "outputs": [],
   "source": [
    "BuiltinImporter.find_module(\"numpy\")"
   ]
  },
  {
   "cell_type": "code",
   "execution_count": 23,
   "metadata": {
    "execution": {
     "iopub.execute_input": "2021-06-24T08:55:40.853924Z",
     "iopub.status.busy": "2021-06-24T08:55:40.853159Z",
     "iopub.status.idle": "2021-06-24T08:55:40.861498Z",
     "shell.execute_reply": "2021-06-24T08:55:40.860446Z",
     "shell.execute_reply.started": "2021-06-24T08:55:40.853884Z"
    }
   },
   "outputs": [
    {
     "data": {
      "text/plain": [
       "['__class__',\n",
       " '__delattr__',\n",
       " '__dict__',\n",
       " '__dir__',\n",
       " '__doc__',\n",
       " '__eq__',\n",
       " '__format__',\n",
       " '__ge__',\n",
       " '__getattribute__',\n",
       " '__gt__',\n",
       " '__hash__',\n",
       " '__init__',\n",
       " '__init_subclass__',\n",
       " '__le__',\n",
       " '__lt__',\n",
       " '__module__',\n",
       " '__ne__',\n",
       " '__new__',\n",
       " '__reduce__',\n",
       " '__reduce_ex__',\n",
       " '__repr__',\n",
       " '__setattr__',\n",
       " '__sizeof__',\n",
       " '__str__',\n",
       " '__subclasshook__',\n",
       " '__weakref__',\n",
       " 'create_module',\n",
       " 'exec_module',\n",
       " 'find_module',\n",
       " 'find_spec',\n",
       " 'get_code',\n",
       " 'get_source',\n",
       " 'is_package',\n",
       " 'load_module',\n",
       " 'module_repr']"
      ]
     },
     "execution_count": 23,
     "metadata": {},
     "output_type": "execute_result"
    }
   ],
   "source": [
    "dir(BuiltinImporter)"
   ]
  },
  {
   "cell_type": "code",
   "execution_count": 18,
   "metadata": {
    "execution": {
     "iopub.execute_input": "2021-06-24T08:50:24.951898Z",
     "iopub.status.busy": "2021-06-24T08:50:24.951191Z",
     "iopub.status.idle": "2021-06-24T08:50:24.958514Z",
     "shell.execute_reply": "2021-06-24T08:50:24.956809Z",
     "shell.execute_reply.started": "2021-06-24T08:50:24.951857Z"
    }
   },
   "outputs": [
    {
     "name": "stderr",
     "output_type": "stream",
     "text": [
      "<ipython-input-18-425e7f4332ff>:1: DeprecationWarning: MetaPathFinder.find_module() is deprecated since Python 3.4 in favor of MetaPathFinder.find_spec() (available since 3.4)\n",
      "  æ = ø.find_module(\"itertools\", None)\n"
     ]
    }
   ],
   "source": [
    "æ = ø.find_module(\"itertools\", None)"
   ]
  },
  {
   "cell_type": "code",
   "execution_count": 21,
   "metadata": {
    "execution": {
     "iopub.execute_input": "2021-06-24T08:51:55.705110Z",
     "iopub.status.busy": "2021-06-24T08:51:55.704383Z",
     "iopub.status.idle": "2021-06-24T08:51:55.712783Z",
     "shell.execute_reply": "2021-06-24T08:51:55.711789Z",
     "shell.execute_reply.started": "2021-06-24T08:51:55.705038Z"
    }
   },
   "outputs": [
    {
     "data": {
      "text/plain": [
       "['__abstractmethods__',\n",
       " '__class__',\n",
       " '__delattr__',\n",
       " '__dict__',\n",
       " '__dir__',\n",
       " '__doc__',\n",
       " '__eq__',\n",
       " '__format__',\n",
       " '__ge__',\n",
       " '__getattribute__',\n",
       " '__gt__',\n",
       " '__hash__',\n",
       " '__init__',\n",
       " '__init_subclass__',\n",
       " '__le__',\n",
       " '__lt__',\n",
       " '__module__',\n",
       " '__ne__',\n",
       " '__new__',\n",
       " '__reduce__',\n",
       " '__reduce_ex__',\n",
       " '__repr__',\n",
       " '__setattr__',\n",
       " '__sizeof__',\n",
       " '__str__',\n",
       " '__subclasshook__',\n",
       " '__weakref__',\n",
       " '_abc_impl',\n",
       " 'find_module',\n",
       " 'invalidate_caches']"
      ]
     },
     "execution_count": 21,
     "metadata": {},
     "output_type": "execute_result"
    }
   ],
   "source": [
    "dir(MetaPathFinder())"
   ]
  },
  {
   "cell_type": "code",
   "execution_count": 13,
   "metadata": {
    "execution": {
     "iopub.execute_input": "2021-06-24T08:47:54.123268Z",
     "iopub.status.busy": "2021-06-24T08:47:54.122808Z",
     "iopub.status.idle": "2021-06-24T08:47:54.137908Z",
     "shell.execute_reply": "2021-06-24T08:47:54.136444Z",
     "shell.execute_reply.started": "2021-06-24T08:47:54.123223Z"
    }
   },
   "outputs": [
    {
     "data": {
      "text/plain": [
       "['__abstractmethods__',\n",
       " '__class__',\n",
       " '__delattr__',\n",
       " '__dict__',\n",
       " '__dir__',\n",
       " '__doc__',\n",
       " '__eq__',\n",
       " '__format__',\n",
       " '__ge__',\n",
       " '__getattribute__',\n",
       " '__gt__',\n",
       " '__hash__',\n",
       " '__init__',\n",
       " '__init_subclass__',\n",
       " '__le__',\n",
       " '__lt__',\n",
       " '__module__',\n",
       " '__ne__',\n",
       " '__new__',\n",
       " '__reduce__',\n",
       " '__reduce_ex__',\n",
       " '__repr__',\n",
       " '__setattr__',\n",
       " '__sizeof__',\n",
       " '__str__',\n",
       " '__subclasshook__',\n",
       " '__weakref__',\n",
       " '_abc_impl',\n",
       " 'find_module',\n",
       " 'invalidate_caches']"
      ]
     },
     "execution_count": 13,
     "metadata": {},
     "output_type": "execute_result"
    }
   ],
   "source": [
    "ø = MetaPathFinder()\n",
    "dir(ø)"
   ]
  },
  {
   "cell_type": "code",
   "execution_count": 4,
   "metadata": {
    "execution": {
     "iopub.execute_input": "2021-06-23T22:28:35.953247Z",
     "iopub.status.busy": "2021-06-23T22:28:35.952715Z",
     "iopub.status.idle": "2021-06-23T22:28:35.975664Z",
     "shell.execute_reply": "2021-06-23T22:28:35.973603Z",
     "shell.execute_reply.started": "2021-06-23T22:28:35.953168Z"
    }
   },
   "outputs": [
    {
     "ename": "AttributeError",
     "evalue": "'NoneType' object has no attribute 'origin'",
     "output_type": "error",
     "traceback": [
      "\u001b[0;31m---------------------------------------------------------------------------\u001b[0m",
      "\u001b[0;31mAttributeError\u001b[0m                            Traceback (most recent call last)",
      "\u001b[0;32m<ipython-input-4-64fa23712482>\u001b[0m in \u001b[0;36m<module>\u001b[0;34m\u001b[0m\n\u001b[0;32m----> 1\u001b[0;31m \u001b[0muse\u001b[0m\u001b[0;34m(\u001b[0m\u001b[0;34m\"itertools\"\u001b[0m\u001b[0;34m)\u001b[0m\u001b[0;34m\u001b[0m\u001b[0;34m\u001b[0m\u001b[0m\n\u001b[0m",
      "\u001b[0;32m/media/sf_Dropbox/code/justuse/src/use/use.py\u001b[0m in \u001b[0;36mwrapper\u001b[0;34m(*args, **kw)\u001b[0m\n\u001b[1;32m    156\u001b[0m     \u001b[0mdispatcher\u001b[0m \u001b[0;34m=\u001b[0m \u001b[0msingledispatch\u001b[0m\u001b[0;34m(\u001b[0m\u001b[0mfunc\u001b[0m\u001b[0;34m)\u001b[0m\u001b[0;34m\u001b[0m\u001b[0;34m\u001b[0m\u001b[0m\n\u001b[1;32m    157\u001b[0m     \u001b[0;32mdef\u001b[0m \u001b[0mwrapper\u001b[0m\u001b[0;34m(\u001b[0m\u001b[0;34m*\u001b[0m\u001b[0margs\u001b[0m\u001b[0;34m,\u001b[0m \u001b[0;34m**\u001b[0m\u001b[0mkw\u001b[0m\u001b[0;34m)\u001b[0m\u001b[0;34m:\u001b[0m\u001b[0;34m\u001b[0m\u001b[0;34m\u001b[0m\u001b[0m\n\u001b[0;32m--> 158\u001b[0;31m         \u001b[0;32mreturn\u001b[0m \u001b[0mdispatcher\u001b[0m\u001b[0;34m.\u001b[0m\u001b[0mdispatch\u001b[0m\u001b[0;34m(\u001b[0m\u001b[0margs\u001b[0m\u001b[0;34m[\u001b[0m\u001b[0;36m1\u001b[0m\u001b[0;34m]\u001b[0m\u001b[0;34m.\u001b[0m\u001b[0m__class__\u001b[0m\u001b[0;34m)\u001b[0m\u001b[0;34m(\u001b[0m\u001b[0;34m*\u001b[0m\u001b[0margs\u001b[0m\u001b[0;34m,\u001b[0m \u001b[0;34m**\u001b[0m\u001b[0mkw\u001b[0m\u001b[0;34m)\u001b[0m\u001b[0;34m\u001b[0m\u001b[0;34m\u001b[0m\u001b[0m\n\u001b[0m\u001b[1;32m    159\u001b[0m     \u001b[0mwrapper\u001b[0m\u001b[0;34m.\u001b[0m\u001b[0mregister\u001b[0m \u001b[0;34m=\u001b[0m \u001b[0mdispatcher\u001b[0m\u001b[0;34m.\u001b[0m\u001b[0mregister\u001b[0m\u001b[0;34m\u001b[0m\u001b[0;34m\u001b[0m\u001b[0m\n\u001b[1;32m    160\u001b[0m     \u001b[0mupdate_wrapper\u001b[0m\u001b[0;34m(\u001b[0m\u001b[0mwrapper\u001b[0m\u001b[0;34m,\u001b[0m \u001b[0mfunc\u001b[0m\u001b[0;34m)\u001b[0m\u001b[0;34m\u001b[0m\u001b[0;34m\u001b[0m\u001b[0m\n",
      "\u001b[0;32m/media/sf_Dropbox/code/justuse/src/use/use.py\u001b[0m in \u001b[0;36m_use_str\u001b[0;34m(self, name, version, initial_globals, auto_install, hash_algo, hash_value, default, aspectize)\u001b[0m\n\u001b[1;32m    567\u001b[0m         \u001b[0;31m# let's first check if it's installed already somehow\u001b[0m\u001b[0;34m\u001b[0m\u001b[0;34m\u001b[0m\u001b[0;34m\u001b[0m\u001b[0m\n\u001b[1;32m    568\u001b[0m         \u001b[0mspec\u001b[0m \u001b[0;34m=\u001b[0m \u001b[0mimportlib\u001b[0m\u001b[0;34m.\u001b[0m\u001b[0mmachinery\u001b[0m\u001b[0;34m.\u001b[0m\u001b[0mPathFinder\u001b[0m\u001b[0;34m.\u001b[0m\u001b[0mfind_spec\u001b[0m\u001b[0;34m(\u001b[0m\u001b[0mname\u001b[0m\u001b[0;34m)\u001b[0m\u001b[0;34m\u001b[0m\u001b[0;34m\u001b[0m\u001b[0m\n\u001b[0;32m--> 569\u001b[0;31m         \u001b[0mic\u001b[0m\u001b[0;34m(\u001b[0m\u001b[0mspec\u001b[0m\u001b[0;34m,\u001b[0m \u001b[0mspec\u001b[0m\u001b[0;34m.\u001b[0m\u001b[0morigin\u001b[0m\u001b[0;34m)\u001b[0m\u001b[0;34m\u001b[0m\u001b[0;34m\u001b[0m\u001b[0m\n\u001b[0m\u001b[1;32m    570\u001b[0m         \u001b[0mic\u001b[0m\u001b[0;34m(\u001b[0m\u001b[0mself\u001b[0m\u001b[0;34m.\u001b[0m\u001b[0mregistry\u001b[0m\u001b[0;34m[\u001b[0m\u001b[0;34m\"distributions\"\u001b[0m\u001b[0;34m]\u001b[0m\u001b[0;34m[\u001b[0m\u001b[0mname\u001b[0m\u001b[0;34m]\u001b[0m\u001b[0;34m)\u001b[0m\u001b[0;34m\u001b[0m\u001b[0;34m\u001b[0m\u001b[0m\n\u001b[1;32m    571\u001b[0m \u001b[0;34m\u001b[0m\u001b[0m\n",
      "\u001b[0;31mAttributeError\u001b[0m: 'NoneType' object has no attribute 'origin'"
     ]
    }
   ],
   "source": [
    "use(\"itertools\")"
   ]
  },
  {
   "cell_type": "code",
   "execution_count": 3,
   "metadata": {
    "execution": {
     "iopub.execute_input": "2021-06-20T15:41:56.601233Z",
     "iopub.status.busy": "2021-06-20T15:41:56.600624Z",
     "iopub.status.idle": "2021-06-20T15:41:56.608105Z",
     "shell.execute_reply": "2021-06-20T15:41:56.605893Z",
     "shell.execute_reply.started": "2021-06-20T15:41:56.601184Z"
    }
   },
   "outputs": [],
   "source": [
    "from asyncio import get_running_loop"
   ]
  },
  {
   "cell_type": "code",
   "execution_count": 5,
   "metadata": {
    "execution": {
     "iopub.execute_input": "2021-06-22T09:02:22.242825Z",
     "iopub.status.busy": "2021-06-22T09:02:22.242381Z",
     "iopub.status.idle": "2021-06-22T09:02:22.270357Z",
     "shell.execute_reply": "2021-06-22T09:02:22.269199Z",
     "shell.execute_reply.started": "2021-06-22T09:02:22.242790Z"
    }
   },
   "outputs": [
    {
     "name": "stdout",
     "output_type": "stream",
     "text": [
      "FROM /media/sf_Dropbox/code/justuse/tests/modA.py\n",
      "FROM /media/sf_Dropbox/code/justuse/tests/modB.py\n",
      "FROM /media/sf_Dropbox/code/justuse/tests/testsubdir/modC.py\n",
      "FROM /media/sf_Dropbox/code/justuse/tests/modD.py\n",
      "3.8.5 (default, Sep  4 2020, 07:30:14) \n",
      "[GCC 7.3.0]\n",
      "modD CWD: /media/sf_Dropbox/code/justuse/tests\n",
      "FROM /media/sf_Dropbox/code/justuse/tests/modE.py\n",
      "test_modA\n"
     ]
    }
   ],
   "source": [
    "modA = use(use.Path(\"../../tests/modA.py\"))"
   ]
  },
  {
   "cell_type": "code",
   "execution_count": 5,
   "metadata": {
    "execution": {
     "iopub.execute_input": "2021-06-20T15:41:56.686165Z",
     "iopub.status.busy": "2021-06-20T15:41:56.685042Z",
     "iopub.status.idle": "2021-06-20T15:41:56.722962Z",
     "shell.execute_reply": "2021-06-20T15:41:56.721070Z",
     "shell.execute_reply.started": "2021-06-20T15:41:56.686079Z"
    }
   },
   "outputs": [
    {
     "data": {
      "text/plain": [
       "68"
      ]
     },
     "execution_count": 5,
     "metadata": {},
     "output_type": "execute_result"
    }
   ],
   "source": [
    "modA.foo(34)"
   ]
  },
  {
   "cell_type": "code",
   "execution_count": 6,
   "metadata": {
    "execution": {
     "iopub.execute_input": "2021-06-20T15:41:56.727338Z",
     "iopub.status.busy": "2021-06-20T15:41:56.725833Z",
     "iopub.status.idle": "2021-06-20T15:41:56.945219Z",
     "shell.execute_reply": "2021-06-20T15:41:56.939679Z",
     "shell.execute_reply.started": "2021-06-20T15:41:56.727244Z"
    }
   },
   "outputs": [
    {
     "ename": "AttributeError",
     "evalue": "sha256",
     "output_type": "error",
     "traceback": [
      "\u001b[0;31m---------------------------------------------------------------------------\u001b[0m",
      "\u001b[0;31mAttributeError\u001b[0m                            Traceback (most recent call last)",
      "\u001b[0;32m<ipython-input-6-382399ee53a7>\u001b[0m in \u001b[0;36m<module>\u001b[0;34m\u001b[0m\n\u001b[1;32m      1\u001b[0m utils = use(use.URL(\"https://raw.githubusercontent.com/PIA-Group/BioSPPy/7696d682dc3aafc898cd9161f946ea87db4fed7f/biosppy/utils.py\"),\n\u001b[0;32m----> 2\u001b[0;31m                     hash_value=\"95f98f25ef8cfa0102642ea5babbe6dde3e3a19d411db9164af53a9b4cdcccd8\", hash_algo=use.mode.sha256)\n\u001b[0m",
      "\u001b[0;32m~/anaconda3/lib/python3.8/enum.py\u001b[0m in \u001b[0;36m__getattr__\u001b[0;34m(cls, name)\u001b[0m\n\u001b[1;32m    344\u001b[0m             \u001b[0;32mreturn\u001b[0m \u001b[0mcls\u001b[0m\u001b[0;34m.\u001b[0m\u001b[0m_member_map_\u001b[0m\u001b[0;34m[\u001b[0m\u001b[0mname\u001b[0m\u001b[0;34m]\u001b[0m\u001b[0;34m\u001b[0m\u001b[0;34m\u001b[0m\u001b[0m\n\u001b[1;32m    345\u001b[0m         \u001b[0;32mexcept\u001b[0m \u001b[0mKeyError\u001b[0m\u001b[0;34m:\u001b[0m\u001b[0;34m\u001b[0m\u001b[0;34m\u001b[0m\u001b[0m\n\u001b[0;32m--> 346\u001b[0;31m             \u001b[0;32mraise\u001b[0m \u001b[0mAttributeError\u001b[0m\u001b[0;34m(\u001b[0m\u001b[0mname\u001b[0m\u001b[0;34m)\u001b[0m \u001b[0;32mfrom\u001b[0m \u001b[0;32mNone\u001b[0m\u001b[0;34m\u001b[0m\u001b[0;34m\u001b[0m\u001b[0m\n\u001b[0m\u001b[1;32m    347\u001b[0m \u001b[0;34m\u001b[0m\u001b[0m\n\u001b[1;32m    348\u001b[0m     \u001b[0;32mdef\u001b[0m \u001b[0m__getitem__\u001b[0m\u001b[0;34m(\u001b[0m\u001b[0mcls\u001b[0m\u001b[0;34m,\u001b[0m \u001b[0mname\u001b[0m\u001b[0;34m)\u001b[0m\u001b[0;34m:\u001b[0m\u001b[0;34m\u001b[0m\u001b[0;34m\u001b[0m\u001b[0m\n",
      "\u001b[0;31mAttributeError\u001b[0m: sha256"
     ]
    }
   ],
   "source": [
    "utils = use(use.URL(\"https://raw.githubusercontent.com/PIA-Group/BioSPPy/7696d682dc3aafc898cd9161f946ea87db4fed7f/biosppy/utils.py\"),\n",
    "                    hash_value=\"95f98f25ef8cfa0102642ea5babbe6dde3e3a19d411db9164af53a9b4cdcccd8\", hash_algo=use.mode.sha256)"
   ]
  },
  {
   "cell_type": "code",
   "execution_count": null,
   "metadata": {
    "execution": {
     "iopub.status.busy": "2021-06-20T15:41:56.947270Z",
     "iopub.status.idle": "2021-06-20T15:41:56.949209Z"
    }
   },
   "outputs": [],
   "source": [
    "import sys, os"
   ]
  },
  {
   "cell_type": "code",
   "execution_count": null,
   "metadata": {
    "execution": {
     "iopub.status.busy": "2021-06-20T15:41:56.950863Z",
     "iopub.status.idle": "2021-06-20T15:41:56.951781Z"
    }
   },
   "outputs": [],
   "source": [
    "sys.prefix"
   ]
  },
  {
   "cell_type": "code",
   "execution_count": null,
   "metadata": {
    "execution": {
     "iopub.status.busy": "2021-06-20T15:41:56.953568Z",
     "iopub.status.idle": "2021-06-20T15:41:56.954607Z"
    }
   },
   "outputs": [],
   "source": [
    "sys.base_prefix"
   ]
  },
  {
   "cell_type": "code",
   "execution_count": null,
   "metadata": {
    "execution": {
     "iopub.status.busy": "2021-06-20T15:41:56.956117Z",
     "iopub.status.idle": "2021-06-20T15:41:56.957183Z"
    }
   },
   "outputs": [],
   "source": [
    "def is_venv(): \n",
    "    return hasattr(sys, 'real_prefix') or sys.base_prefix != sys.prefix"
   ]
  },
  {
   "cell_type": "code",
   "execution_count": null,
   "metadata": {
    "execution": {
     "iopub.status.busy": "2021-06-20T15:41:56.959050Z",
     "iopub.status.idle": "2021-06-20T15:41:56.959754Z"
    }
   },
   "outputs": [],
   "source": [
    "is_venv()"
   ]
  },
  {
   "cell_type": "code",
   "execution_count": null,
   "metadata": {
    "execution": {
     "iopub.status.busy": "2021-06-20T15:41:56.961119Z",
     "iopub.status.idle": "2021-06-20T15:41:56.961982Z"
    }
   },
   "outputs": [],
   "source": [
    "import requests"
   ]
  },
  {
   "cell_type": "code",
   "execution_count": null,
   "metadata": {
    "execution": {
     "iopub.status.busy": "2021-06-20T15:41:56.963437Z",
     "iopub.status.idle": "2021-06-20T15:41:56.964516Z"
    }
   },
   "outputs": [],
   "source": [
    "response = requests.get(\"https://pypi.org/pypi/requests/2.6.0/json\")"
   ]
  },
  {
   "cell_type": "code",
   "execution_count": null,
   "metadata": {
    "execution": {
     "iopub.status.busy": "2021-06-20T15:41:56.967092Z",
     "iopub.status.idle": "2021-06-20T15:41:56.968227Z"
    }
   },
   "outputs": [],
   "source": [
    "response"
   ]
  },
  {
   "cell_type": "code",
   "execution_count": null,
   "metadata": {
    "execution": {
     "iopub.status.busy": "2021-06-20T15:41:56.970468Z",
     "iopub.status.idle": "2021-06-20T15:41:56.971563Z"
    }
   },
   "outputs": [],
   "source": [
    "from enum import Enum\n",
    "\n",
    "mode = Enum(\"Mode\", \"sha256\")"
   ]
  },
  {
   "cell_type": "code",
   "execution_count": null,
   "metadata": {
    "execution": {
     "iopub.status.busy": "2021-06-20T15:41:56.978125Z",
     "iopub.status.idle": "2021-06-20T15:41:56.979313Z"
    }
   },
   "outputs": [],
   "source": [
    "import importlib"
   ]
  },
  {
   "cell_type": "code",
   "execution_count": null,
   "metadata": {
    "execution": {
     "iopub.status.busy": "2021-06-20T15:41:56.981911Z",
     "iopub.status.idle": "2021-06-20T15:41:56.983162Z"
    }
   },
   "outputs": [],
   "source": [
    "importlib.machinery.PathFinder.find_spec(\"requests\")"
   ]
  },
  {
   "cell_type": "code",
   "execution_count": null,
   "metadata": {
    "execution": {
     "iopub.status.busy": "2021-06-20T15:41:56.985100Z",
     "iopub.status.idle": "2021-06-20T15:41:56.986602Z"
    }
   },
   "outputs": [],
   "source": [
    "mode.sha256.name"
   ]
  },
  {
   "cell_type": "code",
   "execution_count": null,
   "metadata": {
    "execution": {
     "iopub.status.busy": "2021-06-20T15:41:56.993823Z",
     "iopub.status.idle": "2021-06-20T15:41:56.995096Z"
    }
   },
   "outputs": [],
   "source": [
    "response.json()[\"urls\"]"
   ]
  },
  {
   "cell_type": "code",
   "execution_count": null,
   "metadata": {
    "execution": {
     "iopub.status.busy": "2021-06-20T15:41:56.996935Z",
     "iopub.status.idle": "2021-06-20T15:41:56.998212Z"
    }
   },
   "outputs": [],
   "source": [
    "response[\"urls\"]"
   ]
  },
  {
   "cell_type": "code",
   "execution_count": null,
   "metadata": {
    "execution": {
     "iopub.status.busy": "2021-06-20T15:41:57.000150Z",
     "iopub.status.idle": "2021-06-20T15:41:57.001435Z"
    }
   },
   "outputs": [],
   "source": [
    "response"
   ]
  },
  {
   "cell_type": "code",
   "execution_count": null,
   "metadata": {
    "execution": {
     "iopub.status.busy": "2021-06-20T15:41:57.007522Z",
     "iopub.status.idle": "2021-06-20T15:41:57.009273Z"
    }
   },
   "outputs": [],
   "source": [
    "response.json()[\"releases\"][\"2.6.0\"][0][\"url\"]"
   ]
  },
  {
   "cell_type": "code",
   "execution_count": null,
   "metadata": {
    "execution": {
     "iopub.status.busy": "2021-06-20T15:41:57.011979Z",
     "iopub.status.idle": "2021-06-20T15:41:57.013763Z"
    }
   },
   "outputs": [],
   "source": [
    "r = requests.get('https://files.pythonhosted.org/packages/73/63/b0729be549494a3e31316437053bc4e0a8bb71a07a6ee6059434b8f1cd5f/requests-2.6.0-py2.py3-none-any.whl', allow_redirects=True)\n",
    "with open(\"testfile.whl\", \"wb\") as file:\n",
    "    file.write(r.content)"
   ]
  },
  {
   "cell_type": "code",
   "execution_count": null,
   "metadata": {},
   "outputs": [],
   "source": []
  },
  {
   "cell_type": "code",
   "execution_count": null,
   "metadata": {
    "execution": {
     "iopub.status.busy": "2021-06-20T15:41:57.016333Z",
     "iopub.status.idle": "2021-06-20T15:41:57.018761Z"
    },
    "tags": []
   },
   "outputs": [],
   "source": [
    "response.json()"
   ]
  },
  {
   "cell_type": "code",
   "execution_count": null,
   "metadata": {
    "execution": {
     "iopub.status.busy": "2021-06-20T15:41:57.021616Z",
     "iopub.status.idle": "2021-06-20T15:41:57.023559Z"
    }
   },
   "outputs": [],
   "source": [
    "%cd src"
   ]
  },
  {
   "cell_type": "code",
   "execution_count": null,
   "metadata": {
    "execution": {
     "iopub.status.busy": "2021-06-20T15:41:57.025972Z",
     "iopub.status.idle": "2021-06-20T15:41:57.027595Z"
    }
   },
   "outputs": [],
   "source": [
    "import use"
   ]
  },
  {
   "cell_type": "code",
   "execution_count": null,
   "metadata": {
    "execution": {
     "iopub.status.busy": "2021-06-20T15:41:57.030188Z",
     "iopub.status.idle": "2021-06-20T15:41:57.031990Z"
    }
   },
   "outputs": [],
   "source": [
    "def decorator(func):\n",
    "    print(\"decorated\", func)\n",
    "    def wrapper(*args, **kwargs):\n",
    "        print(\"calling\", func)\n",
    "        return func(*args, **kwargs)\n",
    "    return wrapper"
   ]
  },
  {
   "cell_type": "code",
   "execution_count": null,
   "metadata": {
    "execution": {
     "iopub.status.busy": "2021-06-20T15:41:57.034651Z",
     "iopub.status.idle": "2021-06-20T15:41:57.036440Z"
    }
   },
   "outputs": [],
   "source": [
    "from time import monotonic\n",
    "def timeit(func):\n",
    "    print(\"timing:\", func)\n",
    "    def wrapper(*args, **kwargs):\n",
    "        before = monotonic()\n",
    "        res = func(*args, **kwargs)\n",
    "        now = monotonic()\n",
    "        print(\"execution took\", now-before)\n",
    "        return res\n",
    "    return wrapper"
   ]
  },
  {
   "cell_type": "code",
   "execution_count": null,
   "metadata": {
    "execution": {
     "iopub.status.busy": "2021-06-20T15:41:57.038671Z",
     "iopub.status.idle": "2021-06-20T15:41:57.040202Z"
    }
   },
   "outputs": [],
   "source": [
    "def func():\n",
    "    print(\"func\")"
   ]
  },
  {
   "cell_type": "code",
   "execution_count": null,
   "metadata": {
    "execution": {
     "iopub.status.busy": "2021-06-20T15:41:57.042594Z",
     "iopub.status.idle": "2021-06-20T15:41:57.043923Z"
    }
   },
   "outputs": [],
   "source": [
    "f = decorator(func)"
   ]
  },
  {
   "cell_type": "code",
   "execution_count": null,
   "metadata": {
    "execution": {
     "iopub.status.busy": "2021-06-20T15:41:57.046179Z",
     "iopub.status.idle": "2021-06-20T15:41:57.047569Z"
    }
   },
   "outputs": [],
   "source": [
    "f()"
   ]
  },
  {
   "cell_type": "code",
   "execution_count": null,
   "metadata": {
    "execution": {
     "iopub.status.busy": "2021-06-20T15:41:57.049602Z",
     "iopub.status.idle": "2021-06-20T15:41:57.050945Z"
    }
   },
   "outputs": [],
   "source": [
    "import numba"
   ]
  },
  {
   "cell_type": "code",
   "execution_count": null,
   "metadata": {
    "execution": {
     "iopub.status.busy": "2021-06-20T15:41:57.052722Z",
     "iopub.status.idle": "2021-06-20T15:41:57.054329Z"
    }
   },
   "outputs": [],
   "source": [
    "test = use(use.Path(\"../tests/.test1.py\"), aspectize={(use.isfunction, \"\"):decorator})"
   ]
  },
  {
   "cell_type": "code",
   "execution_count": null,
   "metadata": {
    "execution": {
     "iopub.status.busy": "2021-06-20T15:41:57.057063Z",
     "iopub.status.idle": "2021-06-20T15:41:57.058871Z"
    }
   },
   "outputs": [],
   "source": [
    "test.foo(4)"
   ]
  },
  {
   "cell_type": "code",
   "execution_count": 5,
   "metadata": {
    "execution": {
     "iopub.execute_input": "2021-06-23T21:01:43.312593Z",
     "iopub.status.busy": "2021-06-23T21:01:43.312131Z",
     "iopub.status.idle": "2021-06-23T21:01:43.317751Z",
     "shell.execute_reply": "2021-06-23T21:01:43.316277Z",
     "shell.execute_reply.started": "2021-06-23T21:01:43.312532Z"
    }
   },
   "outputs": [],
   "source": [
    "from importlib import metadata\n",
    "from icecream import ic"
   ]
  },
  {
   "cell_type": "code",
   "execution_count": 12,
   "metadata": {
    "execution": {
     "iopub.execute_input": "2021-06-23T19:59:53.284955Z",
     "iopub.status.busy": "2021-06-23T19:59:53.284314Z",
     "iopub.status.idle": "2021-06-23T19:59:53.301461Z",
     "shell.execute_reply": "2021-06-23T19:59:53.300470Z",
     "shell.execute_reply.started": "2021-06-23T19:59:53.284879Z"
    }
   },
   "outputs": [],
   "source": [
    "D = list(metadata.distributions())"
   ]
  },
  {
   "cell_type": "code",
   "execution_count": 13,
   "metadata": {
    "execution": {
     "iopub.execute_input": "2021-06-23T19:59:58.982184Z",
     "iopub.status.busy": "2021-06-23T19:59:58.981692Z",
     "iopub.status.idle": "2021-06-23T19:59:58.986773Z",
     "shell.execute_reply": "2021-06-23T19:59:58.985608Z",
     "shell.execute_reply.started": "2021-06-23T19:59:58.982148Z"
    }
   },
   "outputs": [],
   "source": [
    "x = D[0]"
   ]
  },
  {
   "cell_type": "code",
   "execution_count": 14,
   "metadata": {
    "execution": {
     "iopub.execute_input": "2021-06-23T20:00:03.858709Z",
     "iopub.status.busy": "2021-06-23T20:00:03.858217Z",
     "iopub.status.idle": "2021-06-23T20:00:07.105748Z",
     "shell.execute_reply": "2021-06-23T20:00:07.103878Z",
     "shell.execute_reply.started": "2021-06-23T20:00:03.858674Z"
    }
   },
   "outputs": [
    {
     "data": {
      "text/plain": [
       "['__class__',\n",
       " '__delattr__',\n",
       " '__dict__',\n",
       " '__dir__',\n",
       " '__doc__',\n",
       " '__eq__',\n",
       " '__format__',\n",
       " '__ge__',\n",
       " '__getattribute__',\n",
       " '__gt__',\n",
       " '__hash__',\n",
       " '__init__',\n",
       " '__init_subclass__',\n",
       " '__le__',\n",
       " '__lt__',\n",
       " '__module__',\n",
       " '__ne__',\n",
       " '__new__',\n",
       " '__reduce__',\n",
       " '__reduce_ex__',\n",
       " '__repr__',\n",
       " '__setattr__',\n",
       " '__sizeof__',\n",
       " '__str__',\n",
       " '__subclasshook__',\n",
       " '__weakref__',\n",
       " '_convert_egg_info_reqs_to_simple_reqs',\n",
       " '_deps_from_requires_text',\n",
       " '_discover_resolvers',\n",
       " '_path',\n",
       " '_read_dist_info_reqs',\n",
       " '_read_egg_info_reqs',\n",
       " '_read_files_distinfo',\n",
       " '_read_files_egginfo',\n",
       " '_read_sections',\n",
       " 'at',\n",
       " 'discover',\n",
       " 'entry_points',\n",
       " 'files',\n",
       " 'from_name',\n",
       " 'locate_file',\n",
       " 'metadata',\n",
       " 'read_text',\n",
       " 'requires',\n",
       " 'version']"
      ]
     },
     "execution_count": 14,
     "metadata": {},
     "output_type": "execute_result"
    }
   ],
   "source": [
    "dir(x)"
   ]
  },
  {
   "cell_type": "code",
   "execution_count": 38,
   "metadata": {
    "execution": {
     "iopub.execute_input": "2021-06-23T20:23:06.676240Z",
     "iopub.status.busy": "2021-06-23T20:23:06.675702Z",
     "iopub.status.idle": "2021-06-23T20:23:06.684333Z",
     "shell.execute_reply": "2021-06-23T20:23:06.682682Z",
     "shell.execute_reply.started": "2021-06-23T20:23:06.676199Z"
    }
   },
   "outputs": [
    {
     "data": {
      "text/plain": [
       "PosixPath('/home/thorsten/anaconda3/lib/python3.8/site-packages/backports.tempfile-1.0.dist-info')"
      ]
     },
     "execution_count": 38,
     "metadata": {},
     "output_type": "execute_result"
    }
   ],
   "source": [
    "x._path"
   ]
  },
  {
   "cell_type": "code",
   "execution_count": 7,
   "metadata": {
    "execution": {
     "iopub.execute_input": "2021-06-23T21:02:13.336488Z",
     "iopub.status.busy": "2021-06-23T21:02:13.335925Z",
     "iopub.status.idle": "2021-06-23T21:02:13.931765Z",
     "shell.execute_reply": "2021-06-23T21:02:13.930779Z",
     "shell.execute_reply.started": "2021-06-23T21:02:13.336402Z"
    }
   },
   "outputs": [],
   "source": [
    "from collections import defaultdict\n",
    "\n",
    "registry = {\"version\":\"0.0.1\", \n",
    "           \"distributions\": defaultdict(lambda: list())\n",
    "           }\n",
    "\n",
    "for d in metadata.distributions():\n",
    "    registry[\"distributions\"][d.metadata[\"Name\"]].append({\"version\": d.version, \"path\": d})"
   ]
  },
  {
   "cell_type": "code",
   "execution_count": 9,
   "metadata": {
    "execution": {
     "iopub.execute_input": "2021-06-23T21:02:23.844243Z",
     "iopub.status.busy": "2021-06-23T21:02:23.843559Z",
     "iopub.status.idle": "2021-06-23T21:02:23.851783Z",
     "shell.execute_reply": "2021-06-23T21:02:23.850586Z",
     "shell.execute_reply.started": "2021-06-23T21:02:23.844205Z"
    }
   },
   "outputs": [
    {
     "data": {
      "text/plain": [
       "[{'version': '1.19.2',\n",
       "  'path': <importlib.metadata.PathDistribution at 0x7ffae01712e0>}]"
      ]
     },
     "execution_count": 9,
     "metadata": {},
     "output_type": "execute_result"
    }
   ],
   "source": [
    "registry[\"distributions\"][\"numpy\"]"
   ]
  },
  {
   "cell_type": "code",
   "execution_count": 26,
   "metadata": {
    "execution": {
     "iopub.execute_input": "2021-06-23T20:08:50.721267Z",
     "iopub.status.busy": "2021-06-23T20:08:50.720590Z",
     "iopub.status.idle": "2021-06-23T20:08:50.733124Z",
     "shell.execute_reply": "2021-06-23T20:08:50.731908Z",
     "shell.execute_reply.started": "2021-06-23T20:08:50.721220Z"
    }
   },
   "outputs": [
    {
     "data": {
      "text/plain": [
       "{'Metadata-Version': '2.1',\n",
       " 'Name': 'gevent',\n",
       " 'Version': '20.9.0',\n",
       " 'Summary': 'Coroutine-based network library',\n",
       " 'Home-page': 'http://www.gevent.org/',\n",
       " 'Author': 'Denis Bilenko',\n",
       " 'Author-email': 'denis.bilenko@gmail.com',\n",
       " 'Maintainer': 'Jason Madden',\n",
       " 'Maintainer-email': 'jason@nextthought.com',\n",
       " 'License': 'MIT',\n",
       " 'Project-URL': 'Bug Tracker, https://github.com/gevent/gevent/issues',\n",
       " 'Keywords': 'greenlet coroutine cooperative multitasking light threads monkey',\n",
       " 'Platform': 'UNKNOWN',\n",
       " 'Classifier': 'License :: OSI Approved :: MIT License',\n",
       " 'Requires-Python': '>=2.7,!=3.0.*,!=3.1.*,!=3.2.*,!=3.3.*,!=3.4.*',\n",
       " 'Description-Content-Type': 'text/x-rst',\n",
       " 'Requires-Dist': 'zope.event',\n",
       " 'Provides-Extra': 'dnspython'}"
      ]
     },
     "execution_count": 26,
     "metadata": {},
     "output_type": "execute_result"
    }
   ],
   "source": [
    "dict(x.metadata)"
   ]
  },
  {
   "cell_type": "code",
   "execution_count": 57,
   "metadata": {
    "execution": {
     "iopub.execute_input": "2021-06-23T20:28:43.194622Z",
     "iopub.status.busy": "2021-06-23T20:28:43.194195Z",
     "iopub.status.idle": "2021-06-23T20:28:43.232192Z",
     "shell.execute_reply": "2021-06-23T20:28:43.230685Z",
     "shell.execute_reply.started": "2021-06-23T20:28:43.194585Z"
    }
   },
   "outputs": [
    {
     "name": "stdout",
     "output_type": "stream",
     "text": [
      "<importlib.metadata.PathDistribution object at 0x7f5217caa3a0>\n",
      "<importlib.metadata.PathDistribution object at 0x7f5217caa3a0>\n",
      "<importlib.metadata.PathDistribution object at 0x7f5217caa3a0>\n",
      "<importlib.metadata.PathDistribution object at 0x7f5217caa3a0>\n",
      "<importlib.metadata.PathDistribution object at 0x7f5217caa3a0>\n",
      "<importlib.metadata.PathDistribution object at 0x7f5217caa3a0>\n",
      "<importlib.metadata.PathDistribution object at 0x7f5217caa3a0>\n",
      "<importlib.metadata.PathDistribution object at 0x7f5217caa3a0>\n",
      "<importlib.metadata.PathDistribution object at 0x7f5217caa3a0>\n",
      "<importlib.metadata.PathDistribution object at 0x7f5217caa3a0>\n"
     ]
    }
   ],
   "source": [
    "for y in x.files:\n",
    "    print(y.dist)"
   ]
  },
  {
   "cell_type": "code",
   "execution_count": 47,
   "metadata": {
    "execution": {
     "iopub.execute_input": "2021-06-23T20:25:47.273018Z",
     "iopub.status.busy": "2021-06-23T20:25:47.272349Z",
     "iopub.status.idle": "2021-06-23T20:25:47.279326Z",
     "shell.execute_reply": "2021-06-23T20:25:47.277971Z",
     "shell.execute_reply.started": "2021-06-23T20:25:47.272966Z"
    }
   },
   "outputs": [],
   "source": [
    "y = x.files[0]"
   ]
  },
  {
   "cell_type": "code",
   "execution_count": 56,
   "metadata": {
    "execution": {
     "iopub.execute_input": "2021-06-23T20:28:07.858907Z",
     "iopub.status.busy": "2021-06-23T20:28:07.858384Z",
     "iopub.status.idle": "2021-06-23T20:28:07.873077Z",
     "shell.execute_reply": "2021-06-23T20:28:07.871435Z",
     "shell.execute_reply.started": "2021-06-23T20:28:07.858865Z"
    }
   },
   "outputs": [
    {
     "data": {
      "text/plain": [
       "<importlib.metadata.PathDistribution at 0x7f5217caa3a0>"
      ]
     },
     "execution_count": 56,
     "metadata": {},
     "output_type": "execute_result"
    }
   ],
   "source": [
    "y.dist"
   ]
  },
  {
   "cell_type": "code",
   "execution_count": 50,
   "metadata": {
    "execution": {
     "iopub.execute_input": "2021-06-23T20:25:55.862207Z",
     "iopub.status.busy": "2021-06-23T20:25:55.861770Z",
     "iopub.status.idle": "2021-06-23T20:25:55.877768Z",
     "shell.execute_reply": "2021-06-23T20:25:55.876332Z",
     "shell.execute_reply.started": "2021-06-23T20:25:55.862171Z"
    }
   },
   "outputs": [
    {
     "data": {
      "text/plain": [
       "['__bytes__',\n",
       " '__class__',\n",
       " '__delattr__',\n",
       " '__dict__',\n",
       " '__dir__',\n",
       " '__doc__',\n",
       " '__eq__',\n",
       " '__format__',\n",
       " '__fspath__',\n",
       " '__ge__',\n",
       " '__getattribute__',\n",
       " '__gt__',\n",
       " '__hash__',\n",
       " '__init__',\n",
       " '__init_subclass__',\n",
       " '__le__',\n",
       " '__lt__',\n",
       " '__module__',\n",
       " '__ne__',\n",
       " '__new__',\n",
       " '__reduce__',\n",
       " '__reduce_ex__',\n",
       " '__repr__',\n",
       " '__rtruediv__',\n",
       " '__setattr__',\n",
       " '__sizeof__',\n",
       " '__slots__',\n",
       " '__str__',\n",
       " '__subclasshook__',\n",
       " '__truediv__',\n",
       " '__weakref__',\n",
       " '_cached_cparts',\n",
       " '_cparts',\n",
       " '_drv',\n",
       " '_flavour',\n",
       " '_format_parsed_parts',\n",
       " '_from_parsed_parts',\n",
       " '_from_parts',\n",
       " '_hash',\n",
       " '_init',\n",
       " '_make_child',\n",
       " '_parse_args',\n",
       " '_parts',\n",
       " '_pparts',\n",
       " '_root',\n",
       " '_str',\n",
       " 'anchor',\n",
       " 'as_posix',\n",
       " 'as_uri',\n",
       " 'dist',\n",
       " 'drive',\n",
       " 'hash',\n",
       " 'is_absolute',\n",
       " 'is_reserved',\n",
       " 'joinpath',\n",
       " 'locate',\n",
       " 'match',\n",
       " 'name',\n",
       " 'parent',\n",
       " 'parents',\n",
       " 'parts',\n",
       " 'read_binary',\n",
       " 'read_text',\n",
       " 'relative_to',\n",
       " 'root',\n",
       " 'size',\n",
       " 'stem',\n",
       " 'suffix',\n",
       " 'suffixes',\n",
       " 'with_name',\n",
       " 'with_suffix']"
      ]
     },
     "execution_count": 50,
     "metadata": {},
     "output_type": "execute_result"
    }
   ],
   "source": [
    "dir(y)"
   ]
  },
  {
   "cell_type": "code",
   "execution_count": 4,
   "metadata": {
    "execution": {
     "iopub.execute_input": "2021-06-23T21:01:32.703936Z",
     "iopub.status.busy": "2021-06-23T21:01:32.703445Z",
     "iopub.status.idle": "2021-06-23T21:01:32.719698Z",
     "shell.execute_reply": "2021-06-23T21:01:32.716999Z",
     "shell.execute_reply.started": "2021-06-23T21:01:32.703894Z"
    }
   },
   "outputs": [
    {
     "ename": "NameError",
     "evalue": "name 'metadata' is not defined",
     "output_type": "error",
     "traceback": [
      "\u001b[0;31m---------------------------------------------------------------------------\u001b[0m",
      "\u001b[0;31mNameError\u001b[0m                                 Traceback (most recent call last)",
      "\u001b[0;32m<ipython-input-4-f289703825bb>\u001b[0m in \u001b[0;36m<module>\u001b[0;34m\u001b[0m\n\u001b[0;32m----> 1\u001b[0;31m \u001b[0;32mfor\u001b[0m \u001b[0my\u001b[0m \u001b[0;32min\u001b[0m \u001b[0mmetadata\u001b[0m\u001b[0;34m.\u001b[0m\u001b[0mdistributions\u001b[0m\u001b[0;34m(\u001b[0m\u001b[0;34m)\u001b[0m\u001b[0;34m:\u001b[0m\u001b[0;34m\u001b[0m\u001b[0;34m\u001b[0m\u001b[0m\n\u001b[0m\u001b[1;32m      2\u001b[0m     \u001b[0mprint\u001b[0m\u001b[0;34m(\u001b[0m\u001b[0my\u001b[0m\u001b[0;34m.\u001b[0m\u001b[0mname\u001b[0m\u001b[0;34m)\u001b[0m\u001b[0;34m\u001b[0m\u001b[0;34m\u001b[0m\u001b[0m\n",
      "\u001b[0;31mNameError\u001b[0m: name 'metadata' is not defined"
     ]
    }
   ],
   "source": [
    "for y in metadata.distributions():\n",
    "    print(y.name)"
   ]
  }
 ],
 "metadata": {
  "kernelspec": {
   "display_name": "Python 3",
   "language": "python",
   "name": "python3"
  },
  "language_info": {
   "codemirror_mode": {
    "name": "ipython",
    "version": 3
   },
   "file_extension": ".py",
   "mimetype": "text/x-python",
   "name": "python",
   "nbconvert_exporter": "python",
   "pygments_lexer": "ipython3",
   "version": "3.8.5"
  }
 },
 "nbformat": 4,
 "nbformat_minor": 5
}
