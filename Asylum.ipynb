{
 "cells": [
  {
   "cell_type": "markdown",
   "metadata": {},
   "source": [
    "# Welcome to the Asylum"
   ]
  },
  {
   "cell_type": "code",
   "execution_count": 1,
   "metadata": {
    "execution": {
     "iopub.execute_input": "2021-06-22T08:03:39.514039Z",
     "iopub.status.busy": "2021-06-22T08:03:39.513477Z",
     "iopub.status.idle": "2021-06-22T08:03:39.523742Z",
     "shell.execute_reply": "2021-06-22T08:03:39.522619Z",
     "shell.execute_reply.started": "2021-06-22T08:03:39.513948Z"
    }
   },
   "outputs": [
    {
     "name": "stdout",
     "output_type": "stream",
     "text": [
      "/media/sf_Dropbox/code/justuse/src/use\n"
     ]
    }
   ],
   "source": [
    "%cd src/use"
   ]
  },
  {
   "cell_type": "code",
   "execution_count": 4,
   "metadata": {
    "execution": {
     "iopub.execute_input": "2021-06-22T09:02:11.694128Z",
     "iopub.status.busy": "2021-06-22T09:02:11.693452Z",
     "iopub.status.idle": "2021-06-22T09:02:11.710702Z",
     "shell.execute_reply": "2021-06-22T09:02:11.708310Z",
     "shell.execute_reply.started": "2021-06-22T09:02:11.694080Z"
    }
   },
   "outputs": [],
   "source": [
    "import use"
   ]
  },
  {
   "cell_type": "code",
   "execution_count": 3,
   "metadata": {
    "execution": {
     "iopub.execute_input": "2021-06-20T15:41:56.601233Z",
     "iopub.status.busy": "2021-06-20T15:41:56.600624Z",
     "iopub.status.idle": "2021-06-20T15:41:56.608105Z",
     "shell.execute_reply": "2021-06-20T15:41:56.605893Z",
     "shell.execute_reply.started": "2021-06-20T15:41:56.601184Z"
    }
   },
   "outputs": [],
   "source": [
    "from asyncio import get_running_loop"
   ]
  },
  {
   "cell_type": "code",
   "execution_count": 5,
   "metadata": {
    "execution": {
     "iopub.execute_input": "2021-06-22T09:02:22.242825Z",
     "iopub.status.busy": "2021-06-22T09:02:22.242381Z",
     "iopub.status.idle": "2021-06-22T09:02:22.270357Z",
     "shell.execute_reply": "2021-06-22T09:02:22.269199Z",
     "shell.execute_reply.started": "2021-06-22T09:02:22.242790Z"
    }
   },
   "outputs": [
    {
     "name": "stdout",
     "output_type": "stream",
     "text": [
      "FROM /media/sf_Dropbox/code/justuse/tests/modA.py\n",
      "FROM /media/sf_Dropbox/code/justuse/tests/modB.py\n",
      "FROM /media/sf_Dropbox/code/justuse/tests/testsubdir/modC.py\n",
      "FROM /media/sf_Dropbox/code/justuse/tests/modD.py\n",
      "3.8.5 (default, Sep  4 2020, 07:30:14) \n",
      "[GCC 7.3.0]\n",
      "modD CWD: /media/sf_Dropbox/code/justuse/tests\n",
      "FROM /media/sf_Dropbox/code/justuse/tests/modE.py\n",
      "test_modA\n"
     ]
    }
   ],
   "source": [
    "modA = use(use.Path(\"../../tests/modA.py\"))"
   ]
  },
  {
   "cell_type": "code",
   "execution_count": 5,
   "metadata": {
    "execution": {
     "iopub.execute_input": "2021-06-20T15:41:56.686165Z",
     "iopub.status.busy": "2021-06-20T15:41:56.685042Z",
     "iopub.status.idle": "2021-06-20T15:41:56.722962Z",
     "shell.execute_reply": "2021-06-20T15:41:56.721070Z",
     "shell.execute_reply.started": "2021-06-20T15:41:56.686079Z"
    }
   },
   "outputs": [
    {
     "data": {
      "text/plain": [
       "68"
      ]
     },
     "execution_count": 5,
     "metadata": {},
     "output_type": "execute_result"
    }
   ],
   "source": [
    "modA.foo(34)"
   ]
  },
  {
   "cell_type": "code",
   "execution_count": 6,
   "metadata": {
    "execution": {
     "iopub.execute_input": "2021-06-20T15:41:56.727338Z",
     "iopub.status.busy": "2021-06-20T15:41:56.725833Z",
     "iopub.status.idle": "2021-06-20T15:41:56.945219Z",
     "shell.execute_reply": "2021-06-20T15:41:56.939679Z",
     "shell.execute_reply.started": "2021-06-20T15:41:56.727244Z"
    }
   },
   "outputs": [
    {
     "ename": "AttributeError",
     "evalue": "sha256",
     "output_type": "error",
     "traceback": [
      "\u001b[0;31m---------------------------------------------------------------------------\u001b[0m",
      "\u001b[0;31mAttributeError\u001b[0m                            Traceback (most recent call last)",
      "\u001b[0;32m<ipython-input-6-382399ee53a7>\u001b[0m in \u001b[0;36m<module>\u001b[0;34m\u001b[0m\n\u001b[1;32m      1\u001b[0m utils = use(use.URL(\"https://raw.githubusercontent.com/PIA-Group/BioSPPy/7696d682dc3aafc898cd9161f946ea87db4fed7f/biosppy/utils.py\"),\n\u001b[0;32m----> 2\u001b[0;31m                     hash_value=\"95f98f25ef8cfa0102642ea5babbe6dde3e3a19d411db9164af53a9b4cdcccd8\", hash_algo=use.mode.sha256)\n\u001b[0m",
      "\u001b[0;32m~/anaconda3/lib/python3.8/enum.py\u001b[0m in \u001b[0;36m__getattr__\u001b[0;34m(cls, name)\u001b[0m\n\u001b[1;32m    344\u001b[0m             \u001b[0;32mreturn\u001b[0m \u001b[0mcls\u001b[0m\u001b[0;34m.\u001b[0m\u001b[0m_member_map_\u001b[0m\u001b[0;34m[\u001b[0m\u001b[0mname\u001b[0m\u001b[0;34m]\u001b[0m\u001b[0;34m\u001b[0m\u001b[0;34m\u001b[0m\u001b[0m\n\u001b[1;32m    345\u001b[0m         \u001b[0;32mexcept\u001b[0m \u001b[0mKeyError\u001b[0m\u001b[0;34m:\u001b[0m\u001b[0;34m\u001b[0m\u001b[0;34m\u001b[0m\u001b[0m\n\u001b[0;32m--> 346\u001b[0;31m             \u001b[0;32mraise\u001b[0m \u001b[0mAttributeError\u001b[0m\u001b[0;34m(\u001b[0m\u001b[0mname\u001b[0m\u001b[0;34m)\u001b[0m \u001b[0;32mfrom\u001b[0m \u001b[0;32mNone\u001b[0m\u001b[0;34m\u001b[0m\u001b[0;34m\u001b[0m\u001b[0m\n\u001b[0m\u001b[1;32m    347\u001b[0m \u001b[0;34m\u001b[0m\u001b[0m\n\u001b[1;32m    348\u001b[0m     \u001b[0;32mdef\u001b[0m \u001b[0m__getitem__\u001b[0m\u001b[0;34m(\u001b[0m\u001b[0mcls\u001b[0m\u001b[0;34m,\u001b[0m \u001b[0mname\u001b[0m\u001b[0;34m)\u001b[0m\u001b[0;34m:\u001b[0m\u001b[0;34m\u001b[0m\u001b[0;34m\u001b[0m\u001b[0m\n",
      "\u001b[0;31mAttributeError\u001b[0m: sha256"
     ]
    }
   ],
   "source": [
    "utils = use(use.URL(\"https://raw.githubusercontent.com/PIA-Group/BioSPPy/7696d682dc3aafc898cd9161f946ea87db4fed7f/biosppy/utils.py\"),\n",
    "                    hash_value=\"95f98f25ef8cfa0102642ea5babbe6dde3e3a19d411db9164af53a9b4cdcccd8\", hash_algo=use.mode.sha256)"
   ]
  },
  {
   "cell_type": "code",
   "execution_count": null,
   "metadata": {
    "execution": {
     "iopub.status.busy": "2021-06-20T15:41:56.947270Z",
     "iopub.status.idle": "2021-06-20T15:41:56.949209Z"
    }
   },
   "outputs": [],
   "source": [
    "import sys, os"
   ]
  },
  {
   "cell_type": "code",
   "execution_count": null,
   "metadata": {
    "execution": {
     "iopub.status.busy": "2021-06-20T15:41:56.950863Z",
     "iopub.status.idle": "2021-06-20T15:41:56.951781Z"
    }
   },
   "outputs": [],
   "source": [
    "sys.prefix"
   ]
  },
  {
   "cell_type": "code",
   "execution_count": null,
   "metadata": {
    "execution": {
     "iopub.status.busy": "2021-06-20T15:41:56.953568Z",
     "iopub.status.idle": "2021-06-20T15:41:56.954607Z"
    }
   },
   "outputs": [],
   "source": [
    "sys.base_prefix"
   ]
  },
  {
   "cell_type": "code",
   "execution_count": null,
   "metadata": {
    "execution": {
     "iopub.status.busy": "2021-06-20T15:41:56.956117Z",
     "iopub.status.idle": "2021-06-20T15:41:56.957183Z"
    }
   },
   "outputs": [],
   "source": [
    "def is_venv(): \n",
    "    return hasattr(sys, 'real_prefix') or sys.base_prefix != sys.prefix"
   ]
  },
  {
   "cell_type": "code",
   "execution_count": null,
   "metadata": {
    "execution": {
     "iopub.status.busy": "2021-06-20T15:41:56.959050Z",
     "iopub.status.idle": "2021-06-20T15:41:56.959754Z"
    }
   },
   "outputs": [],
   "source": [
    "is_venv()"
   ]
  },
  {
   "cell_type": "code",
   "execution_count": null,
   "metadata": {
    "execution": {
     "iopub.status.busy": "2021-06-20T15:41:56.961119Z",
     "iopub.status.idle": "2021-06-20T15:41:56.961982Z"
    }
   },
   "outputs": [],
   "source": [
    "import requests"
   ]
  },
  {
   "cell_type": "code",
   "execution_count": null,
   "metadata": {
    "execution": {
     "iopub.status.busy": "2021-06-20T15:41:56.963437Z",
     "iopub.status.idle": "2021-06-20T15:41:56.964516Z"
    }
   },
   "outputs": [],
   "source": [
    "response = requests.get(\"https://pypi.org/pypi/requests/2.6.0/json\")"
   ]
  },
  {
   "cell_type": "code",
   "execution_count": null,
   "metadata": {
    "execution": {
     "iopub.status.busy": "2021-06-20T15:41:56.967092Z",
     "iopub.status.idle": "2021-06-20T15:41:56.968227Z"
    }
   },
   "outputs": [],
   "source": [
    "response"
   ]
  },
  {
   "cell_type": "code",
   "execution_count": null,
   "metadata": {
    "execution": {
     "iopub.status.busy": "2021-06-20T15:41:56.970468Z",
     "iopub.status.idle": "2021-06-20T15:41:56.971563Z"
    }
   },
   "outputs": [],
   "source": [
    "from enum import Enum\n",
    "\n",
    "mode = Enum(\"Mode\", \"sha256\")"
   ]
  },
  {
   "cell_type": "code",
   "execution_count": null,
   "metadata": {
    "execution": {
     "iopub.status.busy": "2021-06-20T15:41:56.978125Z",
     "iopub.status.idle": "2021-06-20T15:41:56.979313Z"
    }
   },
   "outputs": [],
   "source": [
    "import importlib"
   ]
  },
  {
   "cell_type": "code",
   "execution_count": null,
   "metadata": {
    "execution": {
     "iopub.status.busy": "2021-06-20T15:41:56.981911Z",
     "iopub.status.idle": "2021-06-20T15:41:56.983162Z"
    }
   },
   "outputs": [],
   "source": [
    "importlib.machinery.PathFinder.find_spec(\"requests\")"
   ]
  },
  {
   "cell_type": "code",
   "execution_count": null,
   "metadata": {
    "execution": {
     "iopub.status.busy": "2021-06-20T15:41:56.985100Z",
     "iopub.status.idle": "2021-06-20T15:41:56.986602Z"
    }
   },
   "outputs": [],
   "source": [
    "mode.sha256.name"
   ]
  },
  {
   "cell_type": "code",
   "execution_count": null,
   "metadata": {
    "execution": {
     "iopub.status.busy": "2021-06-20T15:41:56.993823Z",
     "iopub.status.idle": "2021-06-20T15:41:56.995096Z"
    }
   },
   "outputs": [],
   "source": [
    "response.json()[\"urls\"]"
   ]
  },
  {
   "cell_type": "code",
   "execution_count": null,
   "metadata": {
    "execution": {
     "iopub.status.busy": "2021-06-20T15:41:56.996935Z",
     "iopub.status.idle": "2021-06-20T15:41:56.998212Z"
    }
   },
   "outputs": [],
   "source": [
    "response[\"urls\"]"
   ]
  },
  {
   "cell_type": "code",
   "execution_count": null,
   "metadata": {
    "execution": {
     "iopub.status.busy": "2021-06-20T15:41:57.000150Z",
     "iopub.status.idle": "2021-06-20T15:41:57.001435Z"
    }
   },
   "outputs": [],
   "source": [
    "response"
   ]
  },
  {
   "cell_type": "code",
   "execution_count": null,
   "metadata": {
    "execution": {
     "iopub.status.busy": "2021-06-20T15:41:57.007522Z",
     "iopub.status.idle": "2021-06-20T15:41:57.009273Z"
    }
   },
   "outputs": [],
   "source": [
    "response.json()[\"releases\"][\"2.6.0\"][0][\"url\"]"
   ]
  },
  {
   "cell_type": "code",
   "execution_count": null,
   "metadata": {
    "execution": {
     "iopub.status.busy": "2021-06-20T15:41:57.011979Z",
     "iopub.status.idle": "2021-06-20T15:41:57.013763Z"
    }
   },
   "outputs": [],
   "source": [
    "r = requests.get('https://files.pythonhosted.org/packages/73/63/b0729be549494a3e31316437053bc4e0a8bb71a07a6ee6059434b8f1cd5f/requests-2.6.0-py2.py3-none-any.whl', allow_redirects=True)\n",
    "with open(\"testfile.whl\", \"wb\") as file:\n",
    "    file.write(r.content)"
   ]
  },
  {
   "cell_type": "code",
   "execution_count": null,
   "metadata": {},
   "outputs": [],
   "source": []
  },
  {
   "cell_type": "code",
   "execution_count": null,
   "metadata": {
    "execution": {
     "iopub.status.busy": "2021-06-20T15:41:57.016333Z",
     "iopub.status.idle": "2021-06-20T15:41:57.018761Z"
    },
    "tags": []
   },
   "outputs": [],
   "source": [
    "response.json()"
   ]
  },
  {
   "cell_type": "code",
   "execution_count": null,
   "metadata": {
    "execution": {
     "iopub.status.busy": "2021-06-20T15:41:57.021616Z",
     "iopub.status.idle": "2021-06-20T15:41:57.023559Z"
    }
   },
   "outputs": [],
   "source": [
    "%cd src"
   ]
  },
  {
   "cell_type": "code",
   "execution_count": null,
   "metadata": {
    "execution": {
     "iopub.status.busy": "2021-06-20T15:41:57.025972Z",
     "iopub.status.idle": "2021-06-20T15:41:57.027595Z"
    }
   },
   "outputs": [],
   "source": [
    "import use"
   ]
  },
  {
   "cell_type": "code",
   "execution_count": null,
   "metadata": {
    "execution": {
     "iopub.status.busy": "2021-06-20T15:41:57.030188Z",
     "iopub.status.idle": "2021-06-20T15:41:57.031990Z"
    }
   },
   "outputs": [],
   "source": [
    "def decorator(func):\n",
    "    print(\"decorated\", func)\n",
    "    def wrapper(*args, **kwargs):\n",
    "        print(\"calling\", func)\n",
    "        return func(*args, **kwargs)\n",
    "    return wrapper"
   ]
  },
  {
   "cell_type": "code",
   "execution_count": null,
   "metadata": {
    "execution": {
     "iopub.status.busy": "2021-06-20T15:41:57.034651Z",
     "iopub.status.idle": "2021-06-20T15:41:57.036440Z"
    }
   },
   "outputs": [],
   "source": [
    "from time import monotonic\n",
    "def timeit(func):\n",
    "    print(\"timing:\", func)\n",
    "    def wrapper(*args, **kwargs):\n",
    "        before = monotonic()\n",
    "        res = func(*args, **kwargs)\n",
    "        now = monotonic()\n",
    "        print(\"execution took\", now-before)\n",
    "        return res\n",
    "    return wrapper"
   ]
  },
  {
   "cell_type": "code",
   "execution_count": null,
   "metadata": {
    "execution": {
     "iopub.status.busy": "2021-06-20T15:41:57.038671Z",
     "iopub.status.idle": "2021-06-20T15:41:57.040202Z"
    }
   },
   "outputs": [],
   "source": [
    "def func():\n",
    "    print(\"func\")"
   ]
  },
  {
   "cell_type": "code",
   "execution_count": null,
   "metadata": {
    "execution": {
     "iopub.status.busy": "2021-06-20T15:41:57.042594Z",
     "iopub.status.idle": "2021-06-20T15:41:57.043923Z"
    }
   },
   "outputs": [],
   "source": [
    "f = decorator(func)"
   ]
  },
  {
   "cell_type": "code",
   "execution_count": null,
   "metadata": {
    "execution": {
     "iopub.status.busy": "2021-06-20T15:41:57.046179Z",
     "iopub.status.idle": "2021-06-20T15:41:57.047569Z"
    }
   },
   "outputs": [],
   "source": [
    "f()"
   ]
  },
  {
   "cell_type": "code",
   "execution_count": null,
   "metadata": {
    "execution": {
     "iopub.status.busy": "2021-06-20T15:41:57.049602Z",
     "iopub.status.idle": "2021-06-20T15:41:57.050945Z"
    }
   },
   "outputs": [],
   "source": [
    "import numba"
   ]
  },
  {
   "cell_type": "code",
   "execution_count": null,
   "metadata": {
    "execution": {
     "iopub.status.busy": "2021-06-20T15:41:57.052722Z",
     "iopub.status.idle": "2021-06-20T15:41:57.054329Z"
    }
   },
   "outputs": [],
   "source": [
    "test = use(use.Path(\"../tests/.test1.py\"), aspectize={(use.isfunction, \"\"):decorator})"
   ]
  },
  {
   "cell_type": "code",
   "execution_count": null,
   "metadata": {
    "execution": {
     "iopub.status.busy": "2021-06-20T15:41:57.057063Z",
     "iopub.status.idle": "2021-06-20T15:41:57.058871Z"
    }
   },
   "outputs": [],
   "source": [
    "test.foo(4)"
   ]
  }
 ],
 "metadata": {
  "kernelspec": {
   "display_name": "Python 3",
   "language": "python",
   "name": "python3"
  },
  "language_info": {
   "codemirror_mode": {
    "name": "ipython",
    "version": 3
   },
   "file_extension": ".py",
   "mimetype": "text/x-python",
   "name": "python",
   "nbconvert_exporter": "python",
   "pygments_lexer": "ipython3",
   "version": "3.8.5"
  }
 },
 "nbformat": 4,
 "nbformat_minor": 5
}
