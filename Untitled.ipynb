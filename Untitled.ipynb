{
 "cells": [
  {
   "cell_type": "code",
   "execution_count": 1,
   "id": "cba4eda2-387e-464a-9192-21054d6f3b5a",
   "metadata": {},
   "outputs": [
    {
     "name": "stdout",
     "output_type": "stream",
     "text": [
      "/media/sf_Dropbox_(Privat)/code/justuse/src\n"
     ]
    }
   ],
   "source": [
    "%cd src"
   ]
  },
  {
   "cell_type": "code",
   "execution_count": 2,
   "id": "cfca9a22-4476-4c80-a121-4d393a0b2dc4",
   "metadata": {},
   "outputs": [],
   "source": [
    "import use"
   ]
  },
  {
   "cell_type": "code",
   "execution_count": 3,
   "id": "25916e66-34d4-4693-961b-3b8519623369",
   "metadata": {},
   "outputs": [
    {
     "name": "stdout",
     "output_type": "stream",
     "text": [
      "modul A\n",
      "modul B\n"
     ]
    }
   ],
   "source": [
    "modA = use(use.Path(\"../tests/modA.py\"))"
   ]
  }
 ],
 "metadata": {
  "kernelspec": {
   "display_name": "Python 3",
   "language": "python",
   "name": "python3"
  },
  "language_info": {
   "codemirror_mode": {
    "name": "ipython",
    "version": 3
   },
   "file_extension": ".py",
   "mimetype": "text/x-python",
   "name": "python",
   "nbconvert_exporter": "python",
   "pygments_lexer": "ipython3",
   "version": "3.9.4"
  }
 },
 "nbformat": 4,
 "nbformat_minor": 5
}
