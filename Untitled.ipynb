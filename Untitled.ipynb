{
 "cells": [
  {
   "cell_type": "code",
   "execution_count": 1,
   "id": "cba4eda2-387e-464a-9192-21054d6f3b5a",
   "metadata": {},
   "outputs": [
    {
     "name": "stdout",
     "output_type": "stream",
     "text": [
      "/media/sf_Dropbox_(Privat)/code/justuse/src\n"
     ]
    }
   ],
   "source": [
    "%cd src"
   ]
  },
  {
   "cell_type": "code",
   "execution_count": 2,
   "id": "cfca9a22-4476-4c80-a121-4d393a0b2dc4",
   "metadata": {},
   "outputs": [],
   "source": [
    "import use"
   ]
  },
  {
   "cell_type": "code",
   "execution_count": 3,
   "id": "25916e66-34d4-4693-961b-3b8519623369",
   "metadata": {},
   "outputs": [
    {
     "name": "stdout",
     "output_type": "stream",
     "text": [
      "/media/sf_Dropbox_(Privat)/code/justuse/tests/modA.py\n",
      "/media/sf_Dropbox_(Privat)/code/justuse/tests/modB.py\n",
      "/media/sf_Dropbox_(Privat)/code/justuse/tests/testsubdir/modC.py\n",
      "/media/sf_Dropbox_(Privat)/code/justuse/tests/modD.py\n",
      "/media/sf_Dropbox_(Privat)/code/justuse/tests/testsubdir/modE.py\n",
      "test_modA\n"
     ]
    }
   ],
   "source": [
    "modA = use(use.Path(\"../tests/modA.py\"))"
   ]
  },
  {
   "cell_type": "code",
   "execution_count": 6,
   "id": "c1d47651-47b5-422a-a3d6-725b21963cd5",
   "metadata": {},
   "outputs": [],
   "source": [
    "utils = use(use.URL(\"https://raw.githubusercontent.com/PIA-Group/BioSPPy/7696d682dc3aafc898cd9161f946ea87db4fed7f/biosppy/utils.py\"),\n",
    "                    hash_value=\"95f98f25ef8cfa0102642ea5babbe6dde3e3a19d411db9164af53a9b4cdcccd8\", hash_algo=use.MODE.sha256)"
   ]
  }
 ],
 "metadata": {
  "kernelspec": {
   "display_name": "Python 3",
   "language": "python",
   "name": "python3"
  },
  "language_info": {
   "codemirror_mode": {
    "name": "ipython",
    "version": 3
   },
   "file_extension": ".py",
   "mimetype": "text/x-python",
   "name": "python",
   "nbconvert_exporter": "python",
   "pygments_lexer": "ipython3",
   "version": "3.9.5"
  }
 },
 "nbformat": 4,
 "nbformat_minor": 5
}
