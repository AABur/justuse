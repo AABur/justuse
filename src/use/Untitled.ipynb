{
 "cells": [
  {
   "cell_type": "code",
   "execution_count": 1,
   "metadata": {
    "execution": {
     "iopub.execute_input": "2021-10-16T15:26:06.665074Z",
     "iopub.status.busy": "2021-10-16T15:26:06.664508Z",
     "iopub.status.idle": "2021-10-16T15:26:06.690122Z",
     "shell.execute_reply": "2021-10-16T15:26:06.686870Z",
     "shell.execute_reply.started": "2021-10-16T15:26:06.664976Z"
    }
   },
   "outputs": [],
   "source": [
    "import hash_alphabet as alph"
   ]
  },
  {
   "cell_type": "code",
   "execution_count": 5,
   "metadata": {
    "execution": {
     "iopub.execute_input": "2021-10-16T15:26:19.699108Z",
     "iopub.status.busy": "2021-10-16T15:26:19.698663Z",
     "iopub.status.idle": "2021-10-16T15:26:19.709525Z",
     "shell.execute_reply": "2021-10-16T15:26:19.707852Z",
     "shell.execute_reply.started": "2021-10-16T15:26:19.699073Z"
    }
   },
   "outputs": [
    {
     "data": {
      "text/plain": [
       "(16474, 16474)"
      ]
     },
     "execution_count": 5,
     "metadata": {},
     "output_type": "execute_result"
    }
   ],
   "source": [
    "len(alph.alphabet), len(set(alph.alphabet))"
   ]
  },
  {
   "cell_type": "code",
   "execution_count": 7,
   "metadata": {
    "execution": {
     "iopub.execute_input": "2021-10-16T15:12:40.102253Z",
     "iopub.status.busy": "2021-10-16T15:12:40.101790Z",
     "iopub.status.idle": "2021-10-16T15:12:40.110764Z",
     "shell.execute_reply": "2021-10-16T15:12:40.109658Z",
     "shell.execute_reply.started": "2021-10-16T15:12:40.102215Z"
    }
   },
   "outputs": [
    {
     "data": {
      "text/plain": [
       "3357"
      ]
     },
     "execution_count": 7,
     "metadata": {},
     "output_type": "execute_result"
    }
   ],
   "source": [
    "len(set(alph.emojis.split(\"\\n\")))"
   ]
  },
  {
   "cell_type": "code",
   "execution_count": 8,
   "metadata": {
    "execution": {
     "iopub.execute_input": "2021-10-16T15:14:09.968872Z",
     "iopub.status.busy": "2021-10-16T15:14:09.968379Z",
     "iopub.status.idle": "2021-10-16T15:14:09.981408Z",
     "shell.execute_reply": "2021-10-16T15:14:09.980039Z",
     "shell.execute_reply.started": "2021-10-16T15:14:09.968834Z"
    }
   },
   "outputs": [
    {
     "data": {
      "text/plain": [
       "3357"
      ]
     },
     "execution_count": 8,
     "metadata": {},
     "output_type": "execute_result"
    }
   ],
   "source": [
    "len(set(alph.emojis.split(\"\\n\")))"
   ]
  },
  {
   "cell_type": "code",
   "execution_count": 15,
   "metadata": {
    "execution": {
     "iopub.execute_input": "2021-10-16T15:20:03.112270Z",
     "iopub.status.busy": "2021-10-16T15:20:03.111787Z",
     "iopub.status.idle": "2021-10-16T15:20:03.131821Z",
     "shell.execute_reply": "2021-10-16T15:20:03.129588Z",
     "shell.execute_reply.started": "2021-10-16T15:20:03.112231Z"
    }
   },
   "outputs": [
    {
     "data": {
      "text/plain": [
       "13029"
      ]
     },
     "execution_count": 15,
     "metadata": {},
     "output_type": "execute_result"
    }
   ],
   "source": [
    "len(set(alph.chinese_characters.split(\"\\n\")))"
   ]
  },
  {
   "cell_type": "code",
   "execution_count": 2,
   "metadata": {
    "execution": {
     "iopub.execute_input": "2021-10-16T15:26:11.522972Z",
     "iopub.status.busy": "2021-10-16T15:26:11.522510Z",
     "iopub.status.idle": "2021-10-16T15:26:11.531713Z",
     "shell.execute_reply": "2021-10-16T15:26:11.530384Z",
     "shell.execute_reply.started": "2021-10-16T15:26:11.522933Z"
    }
   },
   "outputs": [],
   "source": [
    "from collections import Counter"
   ]
  },
  {
   "cell_type": "code",
   "execution_count": 3,
   "metadata": {
    "execution": {
     "iopub.execute_input": "2021-10-16T15:26:12.782824Z",
     "iopub.status.busy": "2021-10-16T15:26:12.782405Z",
     "iopub.status.idle": "2021-10-16T15:26:12.796270Z",
     "shell.execute_reply": "2021-10-16T15:26:12.795275Z",
     "shell.execute_reply.started": "2021-10-16T15:26:12.782789Z"
    }
   },
   "outputs": [],
   "source": [
    "C = Counter(alph.alphabet)"
   ]
  },
  {
   "cell_type": "code",
   "execution_count": 4,
   "metadata": {
    "execution": {
     "iopub.execute_input": "2021-10-16T15:26:13.174710Z",
     "iopub.status.busy": "2021-10-16T15:26:13.174187Z",
     "iopub.status.idle": "2021-10-16T15:26:13.206673Z",
     "shell.execute_reply": "2021-10-16T15:26:13.205030Z",
     "shell.execute_reply.started": "2021-10-16T15:26:13.174664Z"
    }
   },
   "outputs": [
    {
     "data": {
      "text/plain": [
       "[]"
      ]
     },
     "execution_count": 4,
     "metadata": {},
     "output_type": "execute_result"
    }
   ],
   "source": [
    "list(filter(lambda t: t[1] > 1, C.items()))"
   ]
  },
  {
   "cell_type": "code",
   "execution_count": null,
   "metadata": {},
   "outputs": [],
   "source": []
  }
 ],
 "metadata": {
  "kernelspec": {
   "display_name": "Python 3",
   "language": "python",
   "name": "python3"
  },
  "language_info": {
   "codemirror_mode": {
    "name": "ipython",
    "version": 3
   },
   "file_extension": ".py",
   "mimetype": "text/x-python",
   "name": "python",
   "nbconvert_exporter": "python",
   "pygments_lexer": "ipython3",
   "version": "3.8.5"
  }
 },
 "nbformat": 4,
 "nbformat_minor": 4
}
